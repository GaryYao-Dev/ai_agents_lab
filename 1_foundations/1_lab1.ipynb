{
 "cells": [
  {
   "cell_type": "markdown",
   "metadata": {},
   "source": [
    "# Welcome to the start of your adventure in Agentic AI"
   ]
  },
  {
   "cell_type": "markdown",
   "metadata": {},
   "source": [
    "<table style=\"margin: 0; text-align: left; width:100%\">\n",
    "    <tr>\n",
    "        <td style=\"width: 150px; height: 150px; vertical-align: middle;\">\n",
    "            <img src=\"../assets/stop.png\" width=\"150\" height=\"150\" style=\"display: block;\" />\n",
    "        </td>\n",
    "        <td>\n",
    "            <h2 style=\"color:#ff7800;\">Are you ready for action??</h2>\n",
    "            <span style=\"color:#ff7800;\">Have you completed all the setup steps in the <a href=\"../setup/\">setup</a> folder?<br/>\n",
    "            Have you read the <a href=\"../README.md\">README</a>? Many common questions are answered here!<br/>\n",
    "            Have you checked out the guides in the <a href=\"../guides/01_intro.ipynb\">guides</a> folder?<br/>\n",
    "            Well in that case, you're ready!!\n",
    "            </span>\n",
    "        </td>\n",
    "    </tr>\n",
    "</table>"
   ]
  },
  {
   "cell_type": "markdown",
   "metadata": {},
   "source": [
    "<table style=\"margin: 0; text-align: left; width:100%\">\n",
    "    <tr>\n",
    "        <td style=\"width: 150px; height: 150px; vertical-align: middle;\">\n",
    "            <img src=\"../assets/tools.png\" width=\"150\" height=\"150\" style=\"display: block;\" />\n",
    "        </td>\n",
    "        <td>\n",
    "            <h2 style=\"color:#00bfff;\">This code is a live resource - keep an eye out for my updates</h2>\n",
    "            <span style=\"color:#00bfff;\">I push updates regularly. As people ask questions or have problems, I add more examples and improve explanations. As a result, the code below might not be identical to the videos, as I've added more steps and better comments. Consider this like an interactive book that accompanies the lectures.<br/><br/>\n",
    "            I try to send emails regularly with important updates related to the course. You can find this in the 'Announcements' section of Udemy in the left sidebar. You can also choose to receive my emails via your Notification Settings in Udemy. I'm respectful of your inbox and always try to add value with my emails!\n",
    "            </span>\n",
    "        </td>\n",
    "    </tr>\n",
    "</table>"
   ]
  },
  {
   "cell_type": "markdown",
   "metadata": {},
   "source": [
    "### And please do remember to contact me if I can help\n",
    "\n",
    "And I love to connect: https://www.linkedin.com/in/eddonner/\n",
    "\n",
    "\n",
    "### New to Notebooks like this one? Head over to the guides folder!\n",
    "\n",
    "Just to check you've already added the Python and Jupyter extensions to Cursor, if not already installed:\n",
    "- Open extensions (View >> extensions)\n",
    "- Search for python, and when the results show, click on the ms-python one, and Install it if not already installed\n",
    "- Search for jupyter, and when the results show, click on the Microsoft one, and Install it if not already installed  \n",
    "Then View >> Explorer to bring back the File Explorer.\n",
    "\n",
    "And then:\n",
    "1. Click where it says \"Select Kernel\" near the top right, and select the option called `.venv (Python 3.12.9)` or similar, which should be the first choice or the most prominent choice. You may need to choose \"Python Environments\" first.\n",
    "2. Click in each \"cell\" below, starting with the cell immediately below this text, and press Shift+Enter to run\n",
    "3. Enjoy!\n",
    "\n",
    "After you click \"Select Kernel\", if there is no option like `.venv (Python 3.12.9)` then please do the following:  \n",
    "1. On Mac: From the Cursor menu, choose Settings >> VS Code Settings (NOTE: be sure to select `VSCode Settings` not `Cursor Settings`);  \n",
    "On Windows PC: From the File menu, choose Preferences >> VS Code Settings(NOTE: be sure to select `VSCode Settings` not `Cursor Settings`)  \n",
    "2. In the Settings search bar, type \"venv\"  \n",
    "3. In the field \"Path to folder with a list of Virtual Environments\" put the path to the project root, like C:\\Users\\username\\projects\\agents (on a Windows PC) or /Users/username/projects/agents (on Mac or Linux).  \n",
    "And then try again.\n",
    "\n",
    "Having problems with missing Python versions in that list? Have you ever used Anaconda before? It might be interferring. Quit Cursor, bring up a new command line, and make sure that your Anaconda environment is deactivated:    \n",
    "`conda deactivate`  \n",
    "And if you still have any problems with conda and python versions, it's possible that you will need to run this too:  \n",
    "`conda config --set auto_activate_base false`  \n",
    "and then from within the Agents directory, you should be able to run `uv python list` and see the Python 3.12 version."
   ]
  },
  {
   "cell_type": "code",
   "execution_count": 7,
   "metadata": {},
   "outputs": [],
   "source": [
    "# First let's do an import. If you get an Import Error, double check that your Kernel is correct..\n",
    "\n",
    "from dotenv import load_dotenv\n"
   ]
  },
  {
   "cell_type": "code",
   "execution_count": 8,
   "metadata": {},
   "outputs": [
    {
     "data": {
      "text/plain": [
       "True"
      ]
     },
     "execution_count": 8,
     "metadata": {},
     "output_type": "execute_result"
    }
   ],
   "source": [
    "# Next it's time to load the API keys into environment variables\n",
    "# If this returns false, see the next cell!\n",
    "\n",
    "load_dotenv(override=True)"
   ]
  },
  {
   "cell_type": "markdown",
   "metadata": {},
   "source": [
    "### Wait, did that just output `False`??\n",
    "\n",
    "If so, the most common reason is that you didn't save your `.env` file after adding the key! Be sure to have saved.\n",
    "\n",
    "Also, make sure the `.env` file is named precisely `.env` and is in the project root directory (`agents`)\n",
    "\n",
    "By the way, your `.env` file should have a stop symbol next to it in Cursor on the left, and that's actually a good thing: that's Cursor saying to you, \"hey, I realize this is a file filled with secret information, and I'm not going to send it to an external AI to suggest changes, because your keys should not be shown to anyone else.\""
   ]
  },
  {
   "cell_type": "markdown",
   "metadata": {},
   "source": [
    "<table style=\"margin: 0; text-align: left; width:100%\">\n",
    "    <tr>\n",
    "        <td style=\"width: 150px; height: 150px; vertical-align: middle;\">\n",
    "            <img src=\"../assets/stop.png\" width=\"150\" height=\"150\" style=\"display: block;\" />\n",
    "        </td>\n",
    "        <td>\n",
    "            <h2 style=\"color:#ff7800;\">Final reminders</h2>\n",
    "            <span style=\"color:#ff7800;\">1. If you're not confident about Environment Variables or Web Endpoints / APIs, please read Topics 3 and 5 in this <a href=\"../guides/04_technical_foundations.ipynb\">technical foundations guide</a>.<br/>\n",
    "            2. If you want to use AIs other than OpenAI, like Gemini, DeepSeek or Ollama (free), please see the first section in this <a href=\"../guides/09_ai_apis_and_ollama.ipynb\">AI APIs guide</a>.<br/>\n",
    "            3. If you ever get a Name Error in Python, you can always fix it immediately; see the last section of this <a href=\"../guides/06_python_foundations.ipynb\">Python Foundations guide</a> and follow both tutorials and exercises.<br/>\n",
    "            </span>\n",
    "        </td>\n",
    "    </tr>\n",
    "</table>"
   ]
  },
  {
   "cell_type": "code",
   "execution_count": 9,
   "metadata": {},
   "outputs": [
    {
     "name": "stdout",
     "output_type": "stream",
     "text": [
      "OpenAI API Key exists and begins sk-or-v1\n"
     ]
    }
   ],
   "source": [
    "# Check the key - if you're not using OpenAI, check whichever key you're using! Ollama doesn't need a key.\n",
    "\n",
    "import os\n",
    "openai_api_key = os.getenv('OPEN_ROUTER_API_KEY')\n",
    "\n",
    "if openai_api_key:\n",
    "    print(f\"OpenAI API Key exists and begins {openai_api_key[:8]}\")\n",
    "else:\n",
    "    print(\"OpenAI API Key not set - please head to the troubleshooting guide in the setup folder\")\n",
    "    \n"
   ]
  },
  {
   "cell_type": "code",
   "execution_count": 10,
   "metadata": {},
   "outputs": [],
   "source": [
    "# And now - the all important import statement\n",
    "# If you get an import error - head over to troubleshooting in the Setup folder\n",
    "# Even for other LLM providers like Gemini, you still use this OpenAI import - see Guide 9 for why\n",
    "\n",
    "from openai import OpenAI"
   ]
  },
  {
   "cell_type": "code",
   "execution_count": 11,
   "metadata": {},
   "outputs": [],
   "source": [
    "# And now we'll create an instance of the OpenAI class\n",
    "# If you're not sure what it means to create an instance of a class - head over to the guides folder (guide 6)!\n",
    "# If you get a NameError - head over to the guides folder (guide 6)to learn about NameErrors - always instantly fixable\n",
    "# If you're not using OpenAI, you just need to slightly modify this - precise instructions are in the AI APIs guide (guide 9)\n",
    "\n",
    "openai = OpenAI(base_url=\"https://openrouter.ai/api/v1\", api_key=openai_api_key)"
   ]
  },
  {
   "cell_type": "code",
   "execution_count": 12,
   "metadata": {},
   "outputs": [],
   "source": [
    "# Create a list of messages in the familiar OpenAI format\n",
    "\n",
    "messages = [{\"role\": \"user\", \"content\": \"What is 2+2?\"}]"
   ]
  },
  {
   "cell_type": "code",
   "execution_count": 13,
   "metadata": {},
   "outputs": [
    {
     "name": "stdout",
     "output_type": "stream",
     "text": [
      "2 + 2 equals **4**. \n",
      "\n",
      "If you have any more questions, feel free to ask! 😊\n"
     ]
    }
   ],
   "source": [
    "# And now call it! Any problems, head to the troubleshooting guide\n",
    "# This uses GPT 4.1 nano, the incredibly cheap model\n",
    "# The APIs guide (guide 9) has exact instructions for using even cheaper or free alternatives to OpenAI\n",
    "# If you get a NameError, head to the guides folder (guide 6) to learn about NameErrors - always instantly fixable\n",
    "\n",
    "response = openai.chat.completions.create(\n",
    "    model=\"deepseek/deepseek-chat-v3.1:free\",\n",
    "    messages=messages\n",
    ")\n",
    "\n",
    "print(response.choices[0].message.content)\n"
   ]
  },
  {
   "cell_type": "code",
   "execution_count": 14,
   "metadata": {},
   "outputs": [],
   "source": [
    "# And now - let's ask for a question:\n",
    "\n",
    "question = \"Please propose a hard, challenging question to assess someone's IQ. Respond only with the question.\"\n",
    "messages = [{\"role\": \"user\", \"content\": question}]\n"
   ]
  },
  {
   "cell_type": "code",
   "execution_count": 15,
   "metadata": {},
   "outputs": [
    {
     "name": "stdout",
     "output_type": "stream",
     "text": [
      "If you have three boxes labeled \"Apples,\" \"Oranges,\" and \"Apples and Oranges,\" but each label is incorrect, what is the minimum number of fruits you must remove and inspect from which box to correctly relabel all three?\n"
     ]
    }
   ],
   "source": [
    "# ask it - this uses GPT 4.1 mini, still cheap but more powerful than nano\n",
    "\n",
    "response = openai.chat.completions.create(\n",
    "    model=\"deepseek/deepseek-chat-v3.1:free\",\n",
    "    messages=messages\n",
    ")\n",
    "\n",
    "question = response.choices[0].message.content\n",
    "\n",
    "print(question)\n"
   ]
  },
  {
   "cell_type": "code",
   "execution_count": 16,
   "metadata": {},
   "outputs": [],
   "source": [
    "# form a new messages list\n",
    "messages = [{\"role\": \"user\", \"content\": question}]\n"
   ]
  },
  {
   "cell_type": "code",
   "execution_count": 17,
   "metadata": {},
   "outputs": [
    {
     "name": "stdout",
     "output_type": "stream",
     "text": [
      "Let's analyze the problem step by step:\n",
      "\n",
      "We have three boxes:\n",
      "- Box A: Labeled \"Apples\" (but this label is incorrect)\n",
      "- Box B: Labeled \"Oranges\" (but this label is incorrect)\n",
      "- Box C: Labeled \"Apples and Oranges\" (but this label is incorrect)\n",
      "\n",
      "Since all labels are incorrect, that means:\n",
      "- The box labeled \"Apples\" does not contain only apples. It could contain only oranges or both.\n",
      "- The box labeled \"Oranges\" does not contain only oranges. It could contain only apples or both.\n",
      "- The box labeled \"Apples and Oranges\" does not contain both fruits. It must contain only apples or only oranges.\n",
      "\n",
      "Now, we need to find the minimum number of fruits we must remove and inspect from which box to correctly relabel all three.\n",
      "\n",
      "Key observation: The box labeled \"Apples and Oranges\" must be either only apples or only oranges (since its label is incorrect). Therefore, if we take one fruit from this box, we can determine its actual content.\n",
      "\n",
      "Case 1: If the fruit from the \"Apples and Oranges\" box is an apple, then this box actually contains only apples (since it cannot have both). Therefore:\n",
      "- The box labeled \"Apples and Oranges\" is actually \"Apples\".\n",
      "- Now, we know the box labeled \"Oranges\" cannot be only oranges (incorrect label) and it cannot be only apples (because that is the box we just identified), so it must contain both apples and oranges.\n",
      "- Therefore, the box labeled \"Apples\" must contain only oranges (since the other two are assigned).\n",
      "\n",
      "Case 2: If the fruit from the \"Apples and Oranges\" box is an orange, then this box actually contains only oranges.\n",
      "- So, the box labeled \"Apples and Oranges\" is actually \"Oranges\".\n",
      "- Then, the box labeled \"Apples\" cannot be only apples (incorrect) and cannot be only oranges (just identified), so it must contain both.\n",
      "- Therefore, the box labeled \"Oranges\" must contain only apples.\n",
      "\n",
      "In both cases, by inspecting just one fruit from the box labeled \"Apples and Oranges\", we can deduce the correct labels for all three boxes.\n",
      "\n",
      "Therefore, the minimum number is 1, and it should be taken from the box labeled \"Apples and Oranges\".\n",
      "\n",
      "Final answer:\n",
      "\\[\n",
      "\\boxed{1}\n",
      "\\]\n",
      "You must remove and inspect one fruit from the box labeled \"Apples and Oranges\".\n"
     ]
    }
   ],
   "source": [
    "# Ask it again\n",
    "\n",
    "response = openai.chat.completions.create(\n",
    "    model=\"deepseek/deepseek-chat-v3.1:free\",\n",
    "    messages=messages\n",
    ")\n",
    "\n",
    "answer = response.choices[0].message.content\n",
    "print(answer)\n"
   ]
  },
  {
   "cell_type": "code",
   "execution_count": 18,
   "metadata": {},
   "outputs": [
    {
     "data": {
      "text/markdown": [
       "Let's analyze the problem step by step:\n",
       "\n",
       "We have three boxes:\n",
       "- Box A: Labeled \"Apples\" (but this label is incorrect)\n",
       "- Box B: Labeled \"Oranges\" (but this label is incorrect)\n",
       "- Box C: Labeled \"Apples and Oranges\" (but this label is incorrect)\n",
       "\n",
       "Since all labels are incorrect, that means:\n",
       "- The box labeled \"Apples\" does not contain only apples. It could contain only oranges or both.\n",
       "- The box labeled \"Oranges\" does not contain only oranges. It could contain only apples or both.\n",
       "- The box labeled \"Apples and Oranges\" does not contain both fruits. It must contain only apples or only oranges.\n",
       "\n",
       "Now, we need to find the minimum number of fruits we must remove and inspect from which box to correctly relabel all three.\n",
       "\n",
       "Key observation: The box labeled \"Apples and Oranges\" must be either only apples or only oranges (since its label is incorrect). Therefore, if we take one fruit from this box, we can determine its actual content.\n",
       "\n",
       "Case 1: If the fruit from the \"Apples and Oranges\" box is an apple, then this box actually contains only apples (since it cannot have both). Therefore:\n",
       "- The box labeled \"Apples and Oranges\" is actually \"Apples\".\n",
       "- Now, we know the box labeled \"Oranges\" cannot be only oranges (incorrect label) and it cannot be only apples (because that is the box we just identified), so it must contain both apples and oranges.\n",
       "- Therefore, the box labeled \"Apples\" must contain only oranges (since the other two are assigned).\n",
       "\n",
       "Case 2: If the fruit from the \"Apples and Oranges\" box is an orange, then this box actually contains only oranges.\n",
       "- So, the box labeled \"Apples and Oranges\" is actually \"Oranges\".\n",
       "- Then, the box labeled \"Apples\" cannot be only apples (incorrect) and cannot be only oranges (just identified), so it must contain both.\n",
       "- Therefore, the box labeled \"Oranges\" must contain only apples.\n",
       "\n",
       "In both cases, by inspecting just one fruit from the box labeled \"Apples and Oranges\", we can deduce the correct labels for all three boxes.\n",
       "\n",
       "Therefore, the minimum number is 1, and it should be taken from the box labeled \"Apples and Oranges\".\n",
       "\n",
       "Final answer:\n",
       "\\[\n",
       "\\boxed{1}\n",
       "\\]\n",
       "You must remove and inspect one fruit from the box labeled \"Apples and Oranges\"."
      ],
      "text/plain": [
       "<IPython.core.display.Markdown object>"
      ]
     },
     "metadata": {},
     "output_type": "display_data"
    }
   ],
   "source": [
    "from IPython.display import Markdown, display\n",
    "\n",
    "display(Markdown(answer))\n",
    "\n"
   ]
  },
  {
   "cell_type": "markdown",
   "metadata": {},
   "source": [
    "# Congratulations!\n",
    "\n",
    "That was a small, simple step in the direction of Agentic AI, with your new environment!\n",
    "\n",
    "Next time things get more interesting..."
   ]
  },
  {
   "cell_type": "markdown",
   "metadata": {},
   "source": [
    "<table style=\"margin: 0; text-align: left; width:100%\">\n",
    "    <tr>\n",
    "        <td style=\"width: 150px; height: 150px; vertical-align: middle;\">\n",
    "            <img src=\"../assets/exercise.png\" width=\"150\" height=\"150\" style=\"display: block;\" />\n",
    "        </td>\n",
    "        <td>\n",
    "            <h2 style=\"color:#ff7800;\">Exercise</h2>\n",
    "            <span style=\"color:#ff7800;\">Now try this commercial application:<br/>\n",
    "            First ask the LLM to pick a business area that might be worth exploring for an Agentic AI opportunity.<br/>\n",
    "            Then ask the LLM to present a pain-point in that industry - something challenging that might be ripe for an Agentic solution.<br/>\n",
    "            Finally have 3 third LLM call propose the Agentic AI solution. <br/>\n",
    "            We will cover this at up-coming labs, so don't worry if you're unsure.. just give it a try!\n",
    "            </span>\n",
    "        </td>\n",
    "    </tr>\n",
    "</table>"
   ]
  },
  {
   "cell_type": "code",
   "execution_count": null,
   "metadata": {},
   "outputs": [
    {
     "name": "stdout",
     "output_type": "stream",
     "text": [
      "Of course. This is an excellent question, as the \"best\" job isn't just about salary; it's a combination of demand, earning potential, work-life balance, future-proofing, and opportunity.\n",
      "\n",
      "Based on current trends, market analysis, and government forecasts, the best IT job in Sydney for 2025 is likely to be **Cybersecurity Specialist** (encompassing roles like Security Analyst, Cloud Security Engineer, and Penetration Tester).\n",
      "\n",
      "Here’s a detailed breakdown of why, along with other top contenders.\n",
      "\n",
      "### The Winner: Cybersecurity Specialist\n",
      "\n",
      "**Why it's #1:**\n",
      "\n",
      "1.  **Massive Demand & Skill Shortage:** Australia is facing a critical cybersecurity skills shortage. The Australian government's National Skills Commission has consistently listed roles like *Security Analyst* and *Cyber Security Specialist* on its Skills Priority List as in \"national shortage\" with \"strong future demand.\" This imbalance between supply and demand drives salaries up and creates immense job security.\n",
      "2.  **Critical Business Priority:** With high-profile cyber-attacks on major Australian companies (Optus, Medibank, etc.), cybersecurity has moved from an IT issue to a top-level boardroom and regulatory issue. Every company, from banks to startups, is investing heavily in protecting their data and systems.\n",
      "3.  **Sydney as a Financial Hub:** Sydney is the financial capital of the Asia-Pacific. Banks, insurance companies, fintechs, and consulting firms headquartered here have the most sensitive data and the biggest budgets for protecting it. This concentration of high-value targets creates a huge number of high-paying jobs.\n",
      "4.  **Future-Proof:** The threat landscape is only growing more complex with AI-powered attacks, cloud adoption, and IoT. This ensures that cybersecurity professionals will be relevant and in demand for decades to come.\n",
      "5.  **High Earning Potential:** According to sources like Hays Salary Guide and Talent.com, experienced Cybersecurity Specialists in Sydney can earn between **$130,000 - $220,000+ AUD**, with niche roles like Cloud Security Architects commanding even higher premiums.\n",
      "\n",
      "**Typical Job Titles:**\n",
      "*   Security Analyst\n",
      "*   Cloud Security Engineer\n",
      "*   Penetration Tester / Ethical Hacker\n",
      "*   Security Architect\n",
      "*   Cyber Security Consultant\n",
      "\n",
      "---\n",
      "\n",
      "### Other Top Contenders for \"Best IT Job\" in 2025\n",
      "\n",
      "While Cybersecurity is the standout, these roles are also extremely strong contenders based on different definitions of \"best.\"\n",
      "\n",
      "#### 1. Cloud Engineer / Architect (Especially in AWS, Azure, GCP)\n",
      "*   **Why it's great:** The migration to cloud is irreversible. Sydney is a major hub for AWS and Azure in the APAC region. Companies need experts to design, build, and maintain scalable, cost-effective cloud infrastructure.\n",
      "*   **Best for:** Those who love infrastructure, automation, and working with cutting-edge platform services. High demand and excellent salaries ($120,000 - $200,000+).\n",
      "\n",
      "#### 2. DevOps Engineer / Site Reliability Engineer (SRE)\n",
      "*   **Why it's great:** This role sits at the intersection of development and operations, focusing on automation, continuous integration/continuous deployment (CI/CD), and system reliability. It's crucial for companies that need to release software quickly and reliably.\n",
      "*   **Best for:** Problem-solvers who enjoy coding, scripting, and automating processes. High demand and often includes on-call components. Salaries are very competitive ($130,000 - $190,000).\n",
      "\n",
      "#### 3. Data Scientist / ML Engineer\n",
      "*   **Why it's great:** AI and Machine Learning are transforming industries. Sydney, with its strong finance and tech sectors, has huge demand for professionals who can build predictive models, derive insights from data, and create AI-powered products.\n",
      "*   **Best for:** Highly analytical individuals with strong skills in statistics, programming (Python, R), and machine learning frameworks. Salaries can be very high ($140,000 - $220,000+) but often require advanced degrees.\n",
      "\n",
      "#### 4. Software Engineer (Specialised)\n",
      "*   **Why it's great:** A perennial top job. While generalist developers are always needed, those with specialised skills in high-growth areas are particularly valuable:\n",
      "    *   **FinTech:** Sydney's thriving fintech scene needs experts in Java, Scala, and distributed systems.\n",
      "    *   **Golang / Rust:** For high-performance backend systems.\n",
      "    *   **React/Node.js:** For front-end and full-stack development in the digital product space.\n",
      "*   **Best for:** Creators and problem-solvers who love to build products. Salaries range widely based on experience and specialisation ($100,000 - $180,000+).\n",
      "\n",
      "### How to Define \"Best\" for You:\n",
      "\n",
      "The \"best\" job ultimately depends on your skills and preferences:\n",
      "\n",
      "*   **For the highest salary & demand:** **Cybersecurity** or **Cloud Architecture**.\n",
      "*   **For work-life balance (generally):** **Software Engineer** at a product company (though this can vary).\n",
      "*   **For future-proofing:** **Cybersecurity**, **AI/ML**, or **Cloud**.\n",
      "*   **For entry-level accessibility:** **Software Engineering** or **Cloud Support** roles have more defined entry pathways compared to the often experience-heavy Cybersecurity roles.\n",
      "\n",
      "### Final Verdict for Sydney in 2025:\n",
      "\n",
      "**Cybersecurity Specialist** is the best overall IT job due to its potent mix of **critical demand, high salaries, job security, and future growth** directly aligned with Sydney's status as a financial and corporate hub.\n",
      "\n",
      "**Actionable Advice:** Regardless of the path you choose, focus on **cloud proficiency** (AWS/Azure) and **automation skills** (Python, Terraform, etc.). These are now foundational skills that will make you a much stronger candidate in any of these top-tier roles.\n"
     ]
    }
   ],
   "source": [
    "# First create the messages:\n",
    "\n",
    "messages = [{\"role\": \"user\", \"content\": \"What is the best IT job in Sydney, Australia in 2025?\"}]\n",
    "\n",
    "# Then make the first call:\n",
    "\n",
    "response = openai.chat.completions.create(\n",
    "    model=\"deepseek/deepseek-chat-v3.1:free\",\n",
    "    messages=messages\n",
    "    n=3,  # Request 3 different responses\n",
    ")\n",
    "\n",
    "# Then read the business idea:\n",
    "\n",
    "business_ideas = [response.choices[x].message.content for x in range(len(response.choices))]\n",
    "print(business_ideas[0])\n",
    "# And repeat! In the next message, include the business idea within the message"
   ]
  },
  {
   "cell_type": "markdown",
   "metadata": {},
   "source": []
  },
  {
   "cell_type": "code",
   "execution_count": 21,
   "metadata": {},
   "outputs": [
    {
     "name": "stdout",
     "output_type": "stream",
     "text": [
      "1\n"
     ]
    }
   ],
   "source": [
    "print(len(business_ideas))"
   ]
  }
 ],
 "metadata": {
  "kernelspec": {
   "display_name": "agents",
   "language": "python",
   "name": "python3"
  },
  "language_info": {
   "codemirror_mode": {
    "name": "ipython",
    "version": 3
   },
   "file_extension": ".py",
   "mimetype": "text/x-python",
   "name": "python",
   "nbconvert_exporter": "python",
   "pygments_lexer": "ipython3",
   "version": "3.12.11"
  }
 },
 "nbformat": 4,
 "nbformat_minor": 2
}
