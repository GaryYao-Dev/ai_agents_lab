{
  "cells": [
    {
      "cell_type": "markdown",
      "metadata": {},
      "source": [
        "## Week 2 Day 2\n",
        "\n",
        "Our first Agentic Framework project!!\n",
        "\n",
        "Prepare yourself for something ridiculously easy.\n",
        "\n",
        "We're going to build a simple Agent system for generating cold sales outreach emails:\n",
        "1. Agent workflow\n",
        "2. Use of tools to call functions\n",
        "3. Agent collaboration via Tools and Handoffs"
      ]
    },
    {
      "cell_type": "markdown",
      "metadata": {},
      "source": [
        "## Before we start - some setup:\n",
        "\n",
        "\n",
        "Please visit Sendgrid at: https://sendgrid.com/\n",
        "\n",
        "(Sendgrid is a Twilio company for sending emails.)\n",
        "\n",
        "If SendGrid gives you problems, see the alternative implementation using \"Resend Email\" in community_contributions/2_lab2_with_resend_email\n",
        "\n",
        "Please set up an account - it's free! (at least, for me, right now).\n",
        "\n",
        "Once you've created an account, click on:\n",
        "\n",
        "Settings (left sidebar) >> API Keys >> Create API Key (button on top right)\n",
        "\n",
        "Copy the key to the clipboard, then add a new line to your .env file:\n",
        "\n",
        "`SENDGRID_API_KEY=xxxx`\n",
        "\n",
        "And also, within SendGrid, go to:\n",
        "\n",
        "Settings (left sidebar) >> Sender Authentication >> \"Verify a Single Sender\"  \n",
        "and verify that your own email address is a real email address, so that SendGrid can send emails for you.\n"
      ]
    },
    {
      "cell_type": "code",
      "execution_count": 10,
      "metadata": {},
      "outputs": [],
      "source": [
        "from dotenv import load_dotenv\n",
        "from agents import Agent, Runner, trace, function_tool\n",
        "from openai.types.responses import ResponseTextDeltaEvent\n",
        "from typing import Dict\n",
        "import os\n",
        "import certifi\n",
        "os.environ['SSL_CERT_FILE'] = certifi.where()\n",
        "import ssl\n",
        "ssl._create_default_https_context = ssl._create_unverified_context\n",
        "import sendgrid\n",
        "from sendgrid.helpers.mail import Mail, Email, To, Content\n",
        "import asyncio\n",
        "\n"
      ]
    },
    {
      "cell_type": "code",
      "execution_count": 11,
      "metadata": {},
      "outputs": [
        {
          "data": {
            "text/plain": [
              "True"
            ]
          },
          "execution_count": 11,
          "metadata": {},
          "output_type": "execute_result"
        }
      ],
      "source": [
        "load_dotenv(override=True)"
      ]
    },
    {
      "cell_type": "code",
      "execution_count": 1,
      "metadata": {},
      "outputs": [
        {
          "ename": "NameError",
          "evalue": "name 'sendgrid' is not defined",
          "output_type": "error",
          "traceback": [
            "\u001b[31m---------------------------------------------------------------------------\u001b[39m",
            "\u001b[31mNameError\u001b[39m                                 Traceback (most recent call last)",
            "\u001b[36mCell\u001b[39m\u001b[36m \u001b[39m\u001b[32mIn[1]\u001b[39m\u001b[32m, line 12\u001b[39m\n\u001b[32m      9\u001b[39m     response = sg.client.mail.send.post(request_body=mail)\n\u001b[32m     10\u001b[39m     \u001b[38;5;28mprint\u001b[39m(response.status_code)\n\u001b[32m---> \u001b[39m\u001b[32m12\u001b[39m \u001b[43msend_test_email\u001b[49m\u001b[43m(\u001b[49m\u001b[43m)\u001b[49m\n",
            "\u001b[36mCell\u001b[39m\u001b[36m \u001b[39m\u001b[32mIn[1]\u001b[39m\u001b[32m, line 4\u001b[39m, in \u001b[36msend_test_email\u001b[39m\u001b[34m()\u001b[39m\n\u001b[32m      3\u001b[39m \u001b[38;5;28;01mdef\u001b[39;00m\u001b[38;5;250m \u001b[39m\u001b[34msend_test_email\u001b[39m():\n\u001b[32m----> \u001b[39m\u001b[32m4\u001b[39m     sg = \u001b[43msendgrid\u001b[49m.SendGridAPIClient(api_key=os.environ.get(\u001b[33m'\u001b[39m\u001b[33mSENDGRID_API_KEY\u001b[39m\u001b[33m'\u001b[39m))\n\u001b[32m      5\u001b[39m     from_email = Email(\u001b[33m\"\u001b[39m\u001b[33mygy3389@gmail.com\u001b[39m\u001b[33m\"\u001b[39m)  \u001b[38;5;66;03m# Change to your verified sender\u001b[39;00m\n\u001b[32m      6\u001b[39m     to_email = To(\u001b[33m\"\u001b[39m\u001b[33mygy3389@gmail.com\u001b[39m\u001b[33m\"\u001b[39m)  \u001b[38;5;66;03m# Change to your recipient\u001b[39;00m\n",
            "\u001b[31mNameError\u001b[39m: name 'sendgrid' is not defined"
          ]
        }
      ],
      "source": [
        "# Let's just check emails are working for you\n",
        "\n",
        "def send_test_email():\n",
        "    sg = sendgrid.SendGridAPIClient(api_key=os.environ.get('SENDGRID_API_KEY'))\n",
        "    from_email = Email(\"ygy3389@gmail.com\")  # Change to your verified sender\n",
        "    to_email = To(\"ygy3389@gmail.com\")  # Change to your recipient\n",
        "    content = Content(\"text/plain\", \"This is an important test email\")\n",
        "    mail = Mail(from_email, to_email, \"Test email\", content).get()\n",
        "    response = sg.client.mail.send.post(request_body=mail)\n",
        "    print(response.status_code)\n",
        "\n",
        "send_test_email()"
      ]
    },
    {
      "cell_type": "markdown",
      "metadata": {},
      "source": [
        "### Did you receive the test email\n",
        "\n",
        "If you get a 202, then you're good to go!\n",
        "\n",
        "#### Certificate error\n",
        "\n",
        "If you get an error SSL: CERTIFICATE_VERIFY_FAILED then students Chris S and Oleksandr K have suggestions:  \n",
        "First run this: `!uv pip install --upgrade certifi`  \n",
        "Next, run this:\n",
        "```python\n",
        "import certifi\n",
        "import os\n",
        "os.environ['SSL_CERT_FILE'] = certifi.where()\n",
        "```\n",
        "\n",
        "#### Other errors or no email\n",
        "\n",
        "If there are other problems, you'll need to check your API key and your verified sender email address in the SendGrid dashboard\n",
        "\n",
        "Or use the alternative implementation using \"Resend Email\" in community_contributions/2_lab2_with_resend_email\n",
        "\n",
        "(Or - you could always replace the email sending code below with a Pushover call, or something to simply write to a flat file)"
      ]
    },
    {
      "cell_type": "markdown",
      "metadata": {},
      "source": [
        "## Step 1: Agent workflow"
      ]
    },
    {
      "cell_type": "code",
      "execution_count": 13,
      "metadata": {},
      "outputs": [],
      "source": [
        "instructions1 = \"You are a sales agent working for ComplAI, \\\n",
        "a company that provides a SaaS tool for ensuring SOC2 compliance and preparing for audits, powered by AI. \\\n",
        "You write professional, serious cold emails.\"\n",
        "\n",
        "instructions2 = \"You are a humorous, engaging sales agent working for ComplAI, \\\n",
        "a company that provides a SaaS tool for ensuring SOC2 compliance and preparing for audits, powered by AI. \\\n",
        "You write witty, engaging cold emails that are likely to get a response.\"\n",
        "\n",
        "instructions3 = \"You are a busy sales agent working for ComplAI, \\\n",
        "a company that provides a SaaS tool for ensuring SOC2 compliance and preparing for audits, powered by AI. \\\n",
        "You write concise, to the point cold emails.\""
      ]
    },
    {
      "cell_type": "code",
      "execution_count": 14,
      "metadata": {},
      "outputs": [],
      "source": [
        "sales_agent1 = Agent(\n",
        "        name=\"Professional Sales Agent\",\n",
        "        instructions=instructions1,\n",
        "        model=\"gpt-4o-mini\"\n",
        ")\n",
        "\n",
        "sales_agent2 = Agent(\n",
        "        name=\"Engaging Sales Agent\",\n",
        "        instructions=instructions2,\n",
        "        model=\"gpt-4o-mini\"\n",
        ")\n",
        "\n",
        "sales_agent3 = Agent(\n",
        "        name=\"Busy Sales Agent\",\n",
        "        instructions=instructions3,\n",
        "        model=\"gpt-4o-mini\"\n",
        ")"
      ]
    },
    {
      "cell_type": "code",
      "execution_count": 15,
      "metadata": {},
      "outputs": [
        {
          "name": "stdout",
          "output_type": "stream",
          "text": [
            "Subject: Streamline Your SOC2 Compliance Process with ComplAI\n",
            "\n",
            "Dear [Recipient's Name],\n",
            "\n",
            "I hope this message finds you well.\n",
            "\n",
            "Navigating the complexities of SOC2 compliance can be a daunting task. As your organization grows, so do the challenges of maintaining compliance and preparing for audits. At ComplAI, we understand that the traditional methods can be time-consuming and cumbersome.\n",
            "\n",
            "Our AI-powered SaaS tool is designed to simplify the SOC2 compliance journey. With ComplAI, you can:\n",
            "\n",
            "- **Automate Documentation**: Reduce manual efforts and streamline document management.\n",
            "- **Continuous Monitoring**: Stay ahead of compliance requirements with real-time updates and alerts.\n",
            "- **Audit Preparation**: Simplify the audit process, ensuring you are always ready for review.\n",
            "\n",
            "We’ve helped companies like [Notable Client] reduce their compliance-related workload by up to 50%, allowing them to focus more on their core business activities.\n",
            "\n",
            "I’d love to offer you a personalized demonstration of how ComplAI can help optimize your compliance efforts. Would you be available for a brief call next week?\n",
            "\n",
            "Thank you for your time, and I look forward to the possibility of working together.\n",
            "\n",
            "Best regards,\n",
            "\n",
            "[Your Name]  \n",
            "[Your Job Title]  \n",
            "ComplAI  \n",
            "[Your Phone Number]  \n",
            "[Your Email Address]  \n",
            "[Company Website]  "
          ]
        }
      ],
      "source": [
        "\n",
        "result = Runner.run_streamed(sales_agent1, input=\"Write a cold sales email\")\n",
        "async for event in result.stream_events():\n",
        "    if event.type == \"raw_response_event\" and isinstance(event.data, ResponseTextDeltaEvent):\n",
        "        print(event.data.delta, end=\"\", flush=True)"
      ]
    },
    {
      "cell_type": "code",
      "execution_count": 16,
      "metadata": {},
      "outputs": [
        {
          "name": "stdout",
          "output_type": "stream",
          "text": [
            "Subject: Simplify Your SOC 2 Compliance with AI-Driven Solutions\n",
            "\n",
            "Hi [Recipient's Name],\n",
            "\n",
            "I hope this message finds you well. My name is [Your Name], and I'm reaching out to introduce you to ComplAI, a cutting-edge SaaS tool designed to streamline SOC 2 compliance and prepare your organization for audits.\n",
            "\n",
            "In today’s rapidly evolving regulatory landscape, achieving and maintaining SOC 2 compliance can be a daunting challenge. ComplAI utilizes advanced AI technology to simplify this process, ensuring your documentation, risk management, and audit preparations are both efficient and effective.\n",
            "\n",
            "Key Benefits of ComplAI:\n",
            "\n",
            "1. **Automated Compliance Tracking:** Stay on top of requirements without the manual burden.\n",
            "2. **Real-Time Insights:** Gain actionable insights to make informed decisions quickly.\n",
            "3. **Streamlined Audits:** Prepare for audits with certainty, reducing stress and improving outcomes.\n",
            "\n",
            "I would love the opportunity to discuss how ComplAI can assist [Company Name] in enhancing compliance efforts while saving valuable time and resources. Would you be open to a brief conversation next week?\n",
            "\n",
            "Thank you for considering this opportunity. I look forward to your response.\n",
            "\n",
            "Best regards,\n",
            "\n",
            "[Your Name]  \n",
            "[Your Title]  \n",
            "ComplAI  \n",
            "[Your Phone Number]  \n",
            "[Your Email Address]  \n",
            "[Your LinkedIn Profile] (if applicable)\n",
            "\n",
            "\n",
            "Subject: Let’s Chat So You Don’t Have to Chat with Auditors!\n",
            "\n",
            "Hi [Recipient's Name],\n",
            "\n",
            "I hope this email finds you blissfully unaware that the audit season is lurking just around the corner like an overly enthusiastic tax accountant at a holiday party!\n",
            "\n",
            "I’m [Your Name], and I represent ComplAI, where we offer a nifty SaaS tool that ensures SOC2 compliance is smoother than your morning coffee. Our AI-powered platform takes the guesswork out of audit prep so you can spend less time stressing and more time on, well, anything else!\n",
            "\n",
            "Whether your current compliance strategy feels like juggling flaming swords or navigating a maze in the dark, we’ve got your back. Imagine showing up to your audit fully prepared, instead of doing your best impression of a deer in headlights.\n",
            "\n",
            "Want to save yourself hours of head-scratching? Let me know if you’d like a quick chat. I promise it’ll be way more enjoyable than sifting through paperwork!\n",
            "\n",
            "Looking forward to hearing from you!\n",
            "\n",
            "Best,\n",
            "[Your Name]  \n",
            "[Your Job Title]  \n",
            "ComplAI  \n",
            "[Your Contact Information]  \n",
            "P.S. No auditors were harmed in the making of our compliance tool! 😄\n",
            "\n",
            "\n",
            "Subject: Simplify Your SOC 2 Compliance Process\n",
            "\n",
            "Hi [First Name],\n",
            "\n",
            "I hope this message finds you well. I'm reaching out to introduce ComplAI, a SaaS solution designed to streamline SOC 2 compliance and audit preparation.\n",
            "\n",
            "Our AI-powered tool automates documentation and compliance checks, saving your team valuable time and reducing the risk of costly mistakes.\n",
            "\n",
            "Would you be open to a quick call to discuss how we can support your compliance efforts and ease the audit process?\n",
            "\n",
            "Best,  \n",
            "[Your Name]  \n",
            "[Your Position]  \n",
            "ComplAI  \n",
            "[Your Phone Number]  \n",
            "[Your LinkedIn Profile or Website]  \n",
            "\n",
            "\n"
          ]
        }
      ],
      "source": [
        "message = \"Write a cold sales email\"\n",
        "\n",
        "with trace(\"Parallel cold emails\"):\n",
        "    results = await asyncio.gather(\n",
        "        Runner.run(sales_agent1, message),\n",
        "        Runner.run(sales_agent2, message),\n",
        "        Runner.run(sales_agent3, message),\n",
        "    )\n",
        "\n",
        "outputs = [result.final_output for result in results]\n",
        "\n",
        "for output in outputs:\n",
        "    print(output + \"\\n\\n\")\n"
      ]
    },
    {
      "cell_type": "code",
      "execution_count": 17,
      "metadata": {},
      "outputs": [],
      "source": [
        "sales_picker = Agent(\n",
        "    name=\"sales_picker\",\n",
        "    instructions=\"You pick the best cold sales email from the given options. \\\n",
        "Imagine you are a customer and pick the one you are most likely to respond to. \\\n",
        "Do not give an explanation; reply with the selected email only.\",\n",
        "    model=\"gpt-4o-mini\"\n",
        ")"
      ]
    },
    {
      "cell_type": "code",
      "execution_count": 18,
      "metadata": {},
      "outputs": [
        {
          "name": "stdout",
          "output_type": "stream",
          "text": [
            "Best sales email:\n",
            "Subject: 🚀 Is Your SOC2 Compliance Missing a Rocket Boost?\n",
            "\n",
            "Hi [Recipient's Name],\n",
            "\n",
            "I hope this email finds you navigating the vast universe of compliance without getting lost in the black hole of paperwork! 🌌\n",
            "\n",
            "At ComplAI, we're on a mission to bring your SOC2 compliance process into the future—no more time travel paradoxes (or endless spreadsheets) necessary! With our AI-powered SaaS tool, you can streamline your compliance efforts like a spaceship on hyperdrive. 🛸\n",
            "\n",
            "Imagine this: audits that don't feel like a root canal, reports that get prepared faster than you can say \"SOC2,\" and peace of mind that comes from knowing you’ll sail right through with confidence.\n",
            "\n",
            "Interested in how we can help you avoid the compliance asteroid belt? I'd love to schedule a quick chat. Let’s make those audits as easy as pie—without the calories! 🥧\n",
            "\n",
            "Looking forward to hearing from you!\n",
            "\n",
            "Best,  \n",
            "[Your Name]  \n",
            "[Your Position]  \n",
            "ComplAI  \n",
            "[Your Contact Information]  \n",
            "\n",
            "P.S. If you respond, I promise to send you some great compliance puns. They’re out of this world! 🌍✨\n"
          ]
        }
      ],
      "source": [
        "message = \"Write a cold sales email\"\n",
        "\n",
        "with trace(\"Selection from sales people\"):\n",
        "    results = await asyncio.gather(\n",
        "        Runner.run(sales_agent1, message),\n",
        "        Runner.run(sales_agent2, message),\n",
        "        Runner.run(sales_agent3, message),\n",
        "    )\n",
        "    outputs = [result.final_output for result in results]\n",
        "\n",
        "    emails = \"Cold sales emails:\\n\\n\" + \"\\n\\nEmail:\\n\\n\".join(outputs)\n",
        "\n",
        "    best = await Runner.run(sales_picker, emails)\n",
        "\n",
        "    print(f\"Best sales email:\\n{best.final_output}\")\n"
      ]
    },
    {
      "cell_type": "markdown",
      "metadata": {},
      "source": [
        "Now go and check out the trace:\n",
        "\n",
        "https://platform.openai.com/traces"
      ]
    },
    {
      "cell_type": "markdown",
      "metadata": {},
      "source": [
        "## Part 2: use of tools\n",
        "\n",
        "Now we will add a tool to the mix.\n",
        "\n",
        "Remember all that json boilerplate and the `handle_tool_calls()` function with the if logic.."
      ]
    },
    {
      "cell_type": "code",
      "execution_count": 19,
      "metadata": {},
      "outputs": [],
      "source": [
        "sales_agent1 = Agent(\n",
        "        name=\"Professional Sales Agent\",\n",
        "        instructions=instructions1,\n",
        "        model=\"gpt-4o-mini\",\n",
        ")\n",
        "\n",
        "sales_agent2 = Agent(\n",
        "        name=\"Engaging Sales Agent\",\n",
        "        instructions=instructions2,\n",
        "        model=\"gpt-4o-mini\",\n",
        ")\n",
        "\n",
        "sales_agent3 = Agent(\n",
        "        name=\"Busy Sales Agent\",\n",
        "        instructions=instructions3,\n",
        "        model=\"gpt-4o-mini\",\n",
        ")"
      ]
    },
    {
      "cell_type": "code",
      "execution_count": 20,
      "metadata": {},
      "outputs": [
        {
          "data": {
            "text/plain": [
              "Agent(name='Professional Sales Agent', instructions='You are a sales agent working for ComplAI, a company that provides a SaaS tool for ensuring SOC2 compliance and preparing for audits, powered by AI. You write professional, serious cold emails.', prompt=None, handoff_description=None, handoffs=[], model='gpt-4o-mini', model_settings=ModelSettings(temperature=None, top_p=None, frequency_penalty=None, presence_penalty=None, tool_choice=None, parallel_tool_calls=None, truncation=None, max_tokens=None, reasoning=None, metadata=None, store=None, include_usage=None, extra_query=None, extra_body=None, extra_headers=None, extra_args=None), tools=[], mcp_servers=[], mcp_config={}, input_guardrails=[], output_guardrails=[], output_type=None, hooks=None, tool_use_behavior='run_llm_again', reset_tool_choice=True)"
            ]
          },
          "execution_count": 20,
          "metadata": {},
          "output_type": "execute_result"
        }
      ],
      "source": [
        "sales_agent1"
      ]
    },
    {
      "cell_type": "markdown",
      "metadata": {},
      "source": [
        "## Steps 2 and 3: Tools and Agent interactions\n",
        "\n",
        "Remember all that boilerplate json?\n",
        "\n",
        "Simply wrap your function with the decorator `@function_tool`"
      ]
    },
    {
      "cell_type": "code",
      "execution_count": 33,
      "metadata": {},
      "outputs": [],
      "source": [
        "@function_tool\n",
        "def send_email(body: str):\n",
        "    \"\"\" Send out an email with the given body to all sales prospects \"\"\"\n",
        "    sg = sendgrid.SendGridAPIClient(api_key=os.environ.get('SENDGRID_API_KEY'))\n",
        "    from_email = Email(\"ygy3389@gmail.com\")  # Change to your verified sender\n",
        "    to_email = To(\"ygy3389@gmail.com\")  # Change to your recipient\n",
        "    content = Content(\"text/plain\", body)\n",
        "    mail = Mail(from_email, to_email, \"Sales email\", content).get()\n",
        "    sg.client.mail.send.post(request_body=mail)\n",
        "    return {\"status\": \"success\"}"
      ]
    },
    {
      "cell_type": "markdown",
      "metadata": {},
      "source": [
        "### This has automatically been converted into a tool, with the boilerplate json created"
      ]
    },
    {
      "cell_type": "code",
      "execution_count": 34,
      "metadata": {},
      "outputs": [
        {
          "data": {
            "text/plain": [
              "FunctionTool(name='send_email', description='Send out an email with the given body to all sales prospects', params_json_schema={'properties': {'body': {'title': 'Body', 'type': 'string'}}, 'required': ['body'], 'title': 'send_email_args', 'type': 'object', 'additionalProperties': False}, on_invoke_tool=<function function_tool.<locals>._create_function_tool.<locals>._on_invoke_tool at 0x00000262889D9BC0>, strict_json_schema=True, is_enabled=True)"
            ]
          },
          "execution_count": 34,
          "metadata": {},
          "output_type": "execute_result"
        }
      ],
      "source": [
        "# Let's look at it\n",
        "send_email"
      ]
    },
    {
      "cell_type": "markdown",
      "metadata": {},
      "source": [
        "### And you can also convert an Agent into a tool"
      ]
    },
    {
      "cell_type": "code",
      "execution_count": 35,
      "metadata": {},
      "outputs": [
        {
          "data": {
            "text/plain": [
              "FunctionTool(name='sales_agent1', description='Write a cold sales email', params_json_schema={'properties': {'input': {'title': 'Input', 'type': 'string'}}, 'required': ['input'], 'title': 'sales_agent1_args', 'type': 'object', 'additionalProperties': False}, on_invoke_tool=<function function_tool.<locals>._create_function_tool.<locals>._on_invoke_tool at 0x0000026288AB8680>, strict_json_schema=True, is_enabled=True)"
            ]
          },
          "execution_count": 35,
          "metadata": {},
          "output_type": "execute_result"
        }
      ],
      "source": [
        "tool1 = sales_agent1.as_tool(tool_name=\"sales_agent1\", tool_description=\"Write a cold sales email\")\n",
        "tool1"
      ]
    },
    {
      "cell_type": "markdown",
      "metadata": {},
      "source": [
        "### So now we can gather all the tools together:\n",
        "\n",
        "A tool for each of our 3 email-writing agents\n",
        "\n",
        "And a tool for our function to send emails"
      ]
    },
    {
      "cell_type": "code",
      "execution_count": 36,
      "metadata": {},
      "outputs": [
        {
          "data": {
            "text/plain": [
              "[FunctionTool(name='sales_agent1', description='Write a cold sales email', params_json_schema={'properties': {'input': {'title': 'Input', 'type': 'string'}}, 'required': ['input'], 'title': 'sales_agent1_args', 'type': 'object', 'additionalProperties': False}, on_invoke_tool=<function function_tool.<locals>._create_function_tool.<locals>._on_invoke_tool at 0x0000026288AB8FE0>, strict_json_schema=True, is_enabled=True),\n",
              " FunctionTool(name='sales_agent2', description='Write a cold sales email', params_json_schema={'properties': {'input': {'title': 'Input', 'type': 'string'}}, 'required': ['input'], 'title': 'sales_agent2_args', 'type': 'object', 'additionalProperties': False}, on_invoke_tool=<function function_tool.<locals>._create_function_tool.<locals>._on_invoke_tool at 0x0000026287E27E20>, strict_json_schema=True, is_enabled=True),\n",
              " FunctionTool(name='sales_agent3', description='Write a cold sales email', params_json_schema={'properties': {'input': {'title': 'Input', 'type': 'string'}}, 'required': ['input'], 'title': 'sales_agent3_args', 'type': 'object', 'additionalProperties': False}, on_invoke_tool=<function function_tool.<locals>._create_function_tool.<locals>._on_invoke_tool at 0x00000262889DAB60>, strict_json_schema=True, is_enabled=True),\n",
              " FunctionTool(name='send_email', description='Send out an email with the given body to all sales prospects', params_json_schema={'properties': {'body': {'title': 'Body', 'type': 'string'}}, 'required': ['body'], 'title': 'send_email_args', 'type': 'object', 'additionalProperties': False}, on_invoke_tool=<function function_tool.<locals>._create_function_tool.<locals>._on_invoke_tool at 0x00000262889D9BC0>, strict_json_schema=True, is_enabled=True)]"
            ]
          },
          "execution_count": 36,
          "metadata": {},
          "output_type": "execute_result"
        }
      ],
      "source": [
        "description = \"Write a cold sales email\"\n",
        "\n",
        "tool1 = sales_agent1.as_tool(tool_name=\"sales_agent1\", tool_description=description)\n",
        "tool2 = sales_agent2.as_tool(tool_name=\"sales_agent2\", tool_description=description)\n",
        "tool3 = sales_agent3.as_tool(tool_name=\"sales_agent3\", tool_description=description)\n",
        "\n",
        "tools = [tool1, tool2, tool3, send_email]\n",
        "\n",
        "tools"
      ]
    },
    {
      "cell_type": "markdown",
      "metadata": {},
      "source": [
        "## And now it's time for our Sales Manager - our planning agent"
      ]
    },
    {
      "cell_type": "code",
      "execution_count": 37,
      "metadata": {},
      "outputs": [],
      "source": [
        "# Improved instructions thanks to student Guillermo F.\n",
        "\n",
        "instructions = \"\"\"\n",
        "You are a Sales Manager at ComplAI. Your goal is to find the single best cold sales email using the sales_agent tools.\n",
        " \n",
        "Follow these steps carefully:\n",
        "1. Generate Drafts: Use all three sales_agent tools to generate three different email drafts. Do not proceed until all three drafts are ready.\n",
        " \n",
        "2. Evaluate and Select: Review the drafts and choose the single best email using your judgment of which one is most effective.\n",
        " \n",
        "3. Use the send_email tool to send the best email (and only the best email) to the user.\n",
        " \n",
        "Crucial Rules:\n",
        "- You must use the sales agent tools to generate the drafts — do not write them yourself.\n",
        "- You must send ONE email using the send_email tool — never more than one.\n",
        "\"\"\"\n",
        "\n",
        "\n",
        "sales_manager = Agent(name=\"Sales Manager\", instructions=instructions, tools=tools, model=\"gpt-4o-mini\")\n",
        "\n",
        "message = \"Send a cold sales email addressed to 'Dear CEO'\"\n",
        "\n",
        "with trace(\"Sales manager\"):\n",
        "    result = await Runner.run(sales_manager, message)"
      ]
    },
    {
      "cell_type": "markdown",
      "metadata": {},
      "source": [
        "<table style=\"margin: 0; text-align: left; width:100%\">\n",
        "    <tr>\n",
        "        <td style=\"width: 150px; height: 150px; vertical-align: middle;\">\n",
        "            <img src=\"../assets/stop.png\" width=\"150\" height=\"150\" style=\"display: block;\" />\n",
        "        </td>\n",
        "        <td>\n",
        "            <h2 style=\"color:#ff7800;\">Wait - you didn't get an email??</h2>\n",
        "            <span style=\"color:#ff7800;\">With much thanks to student Chris S. for describing his issue and fixes. \n",
        "            If you don't receive an email after running the prior cell, here are some things to check: <br/>\n",
        "            First, check your Spam folder! Several students have missed that the emails arrived in Spam!<br/>Second, print(result) and see if you are receiving errors about SSL. \n",
        "            If you're receiving SSL errors, then please check out theses <a href=\"https://chatgpt.com/share/680620ec-3b30-8012-8c26-ca86693d0e3d\">networking tips</a> and see the note in the next cell. Also look at the trace in OpenAI, and investigate on the SendGrid website, to hunt for clues. Let me know if I can help!\n",
        "            </span>\n",
        "        </td>\n",
        "    </tr>\n",
        "</table>"
      ]
    },
    {
      "cell_type": "markdown",
      "metadata": {},
      "source": [
        "### And one more suggestion to send emails from student Oleksandr on Windows 11:\n",
        "\n",
        "If you are getting certificate SSL errors, then:  \n",
        "Run this in a terminal: `uv pip install --upgrade certifi`\n",
        "\n",
        "Then run this code:\n",
        "```python\n",
        "import certifi\n",
        "import os\n",
        "os.environ['SSL_CERT_FILE'] = certifi.where()\n",
        "```\n",
        "\n",
        "Thank you Oleksandr!"
      ]
    },
    {
      "cell_type": "markdown",
      "metadata": {},
      "source": [
        "## Remember to check the trace\n",
        "\n",
        "https://platform.openai.com/traces\n",
        "\n",
        "And then check your email!!\n"
      ]
    },
    {
      "cell_type": "markdown",
      "metadata": {},
      "source": [
        "### Handoffs represent a way an agent can delegate to an agent, passing control to it\n",
        "\n",
        "Handoffs and Agents-as-tools are similar:\n",
        "\n",
        "In both cases, an Agent can collaborate with another Agent\n",
        "\n",
        "With tools, control passes back\n",
        "\n",
        "With handoffs, control passes across\n",
        "\n"
      ]
    },
    {
      "cell_type": "code",
      "execution_count": 45,
      "metadata": {},
      "outputs": [],
      "source": [
        "\n",
        "subject_instructions = \"You can write a subject for a cold sales email. \\\n",
        "You are given a message and you need to write a subject for an email that is likely to get a response.\"\n",
        "\n",
        "html_instructions = \"You can convert a text email body to an HTML email body. \\\n",
        "You are given a text email body which might have some markdown \\\n",
        "and you need to convert it to an HTML email body with simple, clear, compelling layout and design.\"\n",
        "\n",
        "subject_writer = Agent(name=\"Email subject writer\", instructions=subject_instructions, model=\"gpt-4o-mini\")\n",
        "subject_tool = subject_writer.as_tool(tool_name=\"subject_writer\", tool_description=\"Write a subject for a cold sales email\")\n",
        "\n",
        "html_converter = Agent(name=\"HTML email body converter\", instructions=html_instructions, model=\"gpt-4o-mini\")\n",
        "html_tool = html_converter.as_tool(tool_name=\"html_converter\",tool_description=\"Convert a text email body to an HTML email body\")\n"
      ]
    },
    {
      "cell_type": "code",
      "execution_count": 46,
      "metadata": {},
      "outputs": [],
      "source": [
        "@function_tool\n",
        "def send_html_email(subject: str, html_body: str) -> Dict[str, str]:\n",
        "    \"\"\" Send out an email with the given subject and HTML body to all sales prospects \"\"\"\n",
        "    sg = sendgrid.SendGridAPIClient(api_key=os.environ.get('SENDGRID_API_KEY'))\n",
        "    from_email = Email(\"ygy3389@gmail.com\")  # Change to your verified sender\n",
        "    to_email = To(\"ygy3389@gmail.com\")  # Change to your recipient\n",
        "    content = Content(\"text/html\", html_body)\n",
        "    mail = Mail(from_email, to_email, subject, content).get()\n",
        "    sg.client.mail.send.post(request_body=mail)\n",
        "    return {\"status\": \"success\"}"
      ]
    },
    {
      "cell_type": "code",
      "execution_count": 47,
      "metadata": {},
      "outputs": [],
      "source": [
        "tools = [subject_tool, html_tool, send_html_email]"
      ]
    },
    {
      "cell_type": "code",
      "execution_count": 48,
      "metadata": {},
      "outputs": [
        {
          "data": {
            "text/plain": [
              "[FunctionTool(name='subject_writer', description='Write a subject for a cold sales email', params_json_schema={'properties': {'input': {'title': 'Input', 'type': 'string'}}, 'required': ['input'], 'title': 'subject_writer_args', 'type': 'object', 'additionalProperties': False}, on_invoke_tool=<function function_tool.<locals>._create_function_tool.<locals>._on_invoke_tool at 0x0000026288ABA020>, strict_json_schema=True, is_enabled=True),\n",
              " FunctionTool(name='html_converter', description='Convert a text email body to an HTML email body', params_json_schema={'properties': {'input': {'title': 'Input', 'type': 'string'}}, 'required': ['input'], 'title': 'html_converter_args', 'type': 'object', 'additionalProperties': False}, on_invoke_tool=<function function_tool.<locals>._create_function_tool.<locals>._on_invoke_tool at 0x0000026288AB9A80>, strict_json_schema=True, is_enabled=True),\n",
              " FunctionTool(name='send_html_email', description='Send out an email with the given subject and HTML body to all sales prospects', params_json_schema={'properties': {'subject': {'title': 'Subject', 'type': 'string'}, 'html_body': {'title': 'Html Body', 'type': 'string'}}, 'required': ['subject', 'html_body'], 'title': 'send_html_email_args', 'type': 'object', 'additionalProperties': False}, on_invoke_tool=<function function_tool.<locals>._create_function_tool.<locals>._on_invoke_tool at 0x0000026284DB5300>, strict_json_schema=True, is_enabled=True)]"
            ]
          },
          "execution_count": 48,
          "metadata": {},
          "output_type": "execute_result"
        }
      ],
      "source": [
        "tools"
      ]
    },
    {
      "cell_type": "code",
      "execution_count": 49,
      "metadata": {},
      "outputs": [],
      "source": [
        "instructions =\"You are an email formatter and sender. You receive the body of an email to be sent. \\\n",
        "You first use the subject_writer tool to write a subject for the email, then use the html_converter tool to convert the body to HTML. \\\n",
        "Finally, you use the send_html_email tool to send the email with the subject and HTML body.\"\n",
        "\n",
        "\n",
        "emailer_agent = Agent(\n",
        "    name=\"Email Manager\",\n",
        "    instructions=instructions,\n",
        "    tools=tools,\n",
        "    model=\"gpt-4o-mini\",\n",
        "    handoff_description=\"Convert an email to HTML and send it\")\n"
      ]
    },
    {
      "cell_type": "markdown",
      "metadata": {},
      "source": [
        "### Now we have 3 tools and 1 handoff"
      ]
    },
    {
      "cell_type": "code",
      "execution_count": 50,
      "metadata": {},
      "outputs": [
        {
          "name": "stdout",
          "output_type": "stream",
          "text": [
            "[FunctionTool(name='sales_agent1', description='Write a cold sales email', params_json_schema={'properties': {'input': {'title': 'Input', 'type': 'string'}}, 'required': ['input'], 'title': 'sales_agent1_args', 'type': 'object', 'additionalProperties': False}, on_invoke_tool=<function function_tool.<locals>._create_function_tool.<locals>._on_invoke_tool at 0x0000026288AB8FE0>, strict_json_schema=True, is_enabled=True), FunctionTool(name='sales_agent2', description='Write a cold sales email', params_json_schema={'properties': {'input': {'title': 'Input', 'type': 'string'}}, 'required': ['input'], 'title': 'sales_agent2_args', 'type': 'object', 'additionalProperties': False}, on_invoke_tool=<function function_tool.<locals>._create_function_tool.<locals>._on_invoke_tool at 0x0000026287E27E20>, strict_json_schema=True, is_enabled=True), FunctionTool(name='sales_agent3', description='Write a cold sales email', params_json_schema={'properties': {'input': {'title': 'Input', 'type': 'string'}}, 'required': ['input'], 'title': 'sales_agent3_args', 'type': 'object', 'additionalProperties': False}, on_invoke_tool=<function function_tool.<locals>._create_function_tool.<locals>._on_invoke_tool at 0x00000262889DAB60>, strict_json_schema=True, is_enabled=True)]\n",
            "[Agent(name='Email Manager', instructions='You are an email formatter and sender. You receive the body of an email to be sent. You first use the subject_writer tool to write a subject for the email, then use the html_converter tool to convert the body to HTML. Finally, you use the send_html_email tool to send the email with the subject and HTML body.', prompt=None, handoff_description='Convert an email to HTML and send it', handoffs=[], model='gpt-4o-mini', model_settings=ModelSettings(temperature=None, top_p=None, frequency_penalty=None, presence_penalty=None, tool_choice=None, parallel_tool_calls=None, truncation=None, max_tokens=None, reasoning=None, metadata=None, store=None, include_usage=None, extra_query=None, extra_body=None, extra_headers=None, extra_args=None), tools=[FunctionTool(name='subject_writer', description='Write a subject for a cold sales email', params_json_schema={'properties': {'input': {'title': 'Input', 'type': 'string'}}, 'required': ['input'], 'title': 'subject_writer_args', 'type': 'object', 'additionalProperties': False}, on_invoke_tool=<function function_tool.<locals>._create_function_tool.<locals>._on_invoke_tool at 0x0000026288ABA020>, strict_json_schema=True, is_enabled=True), FunctionTool(name='html_converter', description='Convert a text email body to an HTML email body', params_json_schema={'properties': {'input': {'title': 'Input', 'type': 'string'}}, 'required': ['input'], 'title': 'html_converter_args', 'type': 'object', 'additionalProperties': False}, on_invoke_tool=<function function_tool.<locals>._create_function_tool.<locals>._on_invoke_tool at 0x0000026288AB9A80>, strict_json_schema=True, is_enabled=True), FunctionTool(name='send_html_email', description='Send out an email with the given subject and HTML body to all sales prospects', params_json_schema={'properties': {'subject': {'title': 'Subject', 'type': 'string'}, 'html_body': {'title': 'Html Body', 'type': 'string'}}, 'required': ['subject', 'html_body'], 'title': 'send_html_email_args', 'type': 'object', 'additionalProperties': False}, on_invoke_tool=<function function_tool.<locals>._create_function_tool.<locals>._on_invoke_tool at 0x0000026284DB5300>, strict_json_schema=True, is_enabled=True)], mcp_servers=[], mcp_config={}, input_guardrails=[], output_guardrails=[], output_type=None, hooks=None, tool_use_behavior='run_llm_again', reset_tool_choice=True)]\n"
          ]
        }
      ],
      "source": [
        "tools = [tool1, tool2, tool3]\n",
        "handoffs = [emailer_agent]\n",
        "print(tools)\n",
        "print(handoffs)"
      ]
    },
    {
      "cell_type": "code",
      "execution_count": 51,
      "metadata": {},
      "outputs": [],
      "source": [
        "# Improved instructions thanks to student Guillermo F.\n",
        "\n",
        "sales_manager_instructions = \"\"\"\n",
        "You are a Sales Manager at ComplAI. Your goal is to find the single best cold sales email using the sales_agent tools.\n",
        " \n",
        "Follow these steps carefully:\n",
        "1. Generate Drafts: Use all three sales_agent tools to generate three different email drafts. Do not proceed until all three drafts are ready.\n",
        " \n",
        "2. Evaluate and Select: Review the drafts and choose the single best email using your judgment of which one is most effective.\n",
        "You can use the tools multiple times if you're not satisfied with the results from the first try.\n",
        " \n",
        "3. Handoff for Sending: Pass ONLY the winning email draft to the 'Email Manager' agent. The Email Manager will take care of formatting and sending.\n",
        " \n",
        "Crucial Rules:\n",
        "- You must use the sales agent tools to generate the drafts — do not write them yourself.\n",
        "- You must hand off exactly ONE email to the Email Manager — never more than one.\n",
        "\"\"\"\n",
        "\n",
        "\n",
        "sales_manager = Agent(\n",
        "    name=\"Sales Manager\",\n",
        "    instructions=sales_manager_instructions,\n",
        "    tools=tools,\n",
        "    handoffs=handoffs,\n",
        "    model=\"gpt-4o-mini\")\n",
        "\n",
        "message = \"Send out a cold sales email addressed to Dear CEO from Alice\"\n",
        "\n",
        "with trace(\"Automated SDR\"):\n",
        "    result = await Runner.run(sales_manager, message)"
      ]
    },
    {
      "cell_type": "markdown",
      "metadata": {},
      "source": [
        "### Remember to check the trace\n",
        "\n",
        "https://platform.openai.com/traces\n",
        "\n",
        "And then check your email!!"
      ]
    },
    {
      "cell_type": "markdown",
      "metadata": {},
      "source": [
        "<table style=\"margin: 0; text-align: left; width:100%\">\n",
        "    <tr>\n",
        "        <td style=\"width: 150px; height: 150px; vertical-align: middle;\">\n",
        "            <img src=\"../assets/exercise.png\" width=\"150\" height=\"150\" style=\"display: block;\" />\n",
        "        </td>\n",
        "        <td>\n",
        "            <h2 style=\"color:#ff7800;\">Exercise</h2>\n",
        "            <span style=\"color:#ff7800;\">Can you identify the Agentic design patterns that were used here?<br/>\n",
        "            What is the 1 line that changed this from being an Agentic \"workflow\" to \"agent\" under Anthropic's definition?<br/>\n",
        "            Try adding in more tools and Agents! You could have tools that handle the mail merge to send to a list.<br/><br/>\n",
        "            HARD CHALLENGE: research how you can have SendGrid call a Callback webhook when a user replies to an email,\n",
        "            Then have the SDR respond to keep the conversation going! This may require some \"vibe coding\" 😂\n",
        "            </span>\n",
        "        </td>\n",
        "    </tr>\n",
        "</table>"
      ]
    },
    {
      "cell_type": "markdown",
      "metadata": {},
      "source": [
        "### 1. 识别使用的Agentic设计模式（Can you identify the Agentic design patterns that were used here?）\n",
        "\n",
        "笔记本展示了几个经典的代理设计模式，这些模式让系统从简单的工作流演变为灵活的代理协作。以下是主要模式，结合代码示例：\n",
        "\n",
        "- __工具使用模式 (Tool Use Pattern)__：\n",
        "\n",
        "  - __描述__：代理使用工具（functions或agents-as-tools）来执行外部操作或子任务，而不是仅靠LLM生成文本。这允许代理“行动”，如调用API发送邮件。\n",
        "  - __笔记本示例__：销售经理代理使用三个sales_agent工具（`tool1, tool2, tool3`）生成邮件草稿，并使用`@function_tool`装饰的`send_email`或`send_html_email`发送邮件。代码中：`tools = [tool1, tool2, tool3, send_email]`。这让代理能“思考”（规划）+“行动”（工具调用）。\n",
        "  - __为什么是模式__：这是基础代理模式（如OpenAI/LangChain中常见），代理循环：LLM决定工具调用 → 执行工具 → 返回结果到LLM → 迭代直到完成。\n",
        "\n",
        "- __代理作为工具模式 (Agents-as-Tools Pattern)__：\n",
        "\n",
        "  - __描述__：将一个代理包装成工具，让另一个代理调用它作为子模块，实现模块化协作。\n",
        "  - __笔记本示例__：三个销售代理被转换为工具：`tool1 = sales_agent1.as_tool(tool_name=\"sales_agent1\", tool_description=\"Write a cold sales email\")`。销售经理通过这些工具并行生成草稿（`await asyncio.gather(...)`），然后内部评估挑选最佳的。这比手动并行运行更“代理化”。\n",
        "  - __为什么是模式__：它允许层次化（hierarchical）代理，父代理统筹子代理，类似于“微服务”架构。\n",
        "\n",
        "- __Handoff/委托模式 (Handoff/Delegation Pattern)__：\n",
        "\n",
        "  - __描述__：代理将控制权完全移交给另一个专用代理处理子任务，支持自治协作，而非微观管理。\n",
        "  - __笔记本示例__：最终版本中，销售经理生成草稿后，将最佳邮件`handoff`给`emailer_agent`（`handoffs = [emailer_agent]`，描述为\"Convert an email to HTML and send it\"）。emailer_agent自己使用`subject_writer`、`html_converter`工具写主题、转换HTML并发送。这引入了“跨代理”控制流。\n",
        "  - __为什么是模式__：类似于ReAct（Reasoning + Acting）或CrewAI的角色分工，代理团队像“接力赛”。\n",
        "\n",
        "- __规划-执行-评估循环模式 (Plan-Execute-Review Loop)__：\n",
        "\n",
        "  - __描述__：代理先规划步骤、执行工具，然后评估输出，可能迭代改进。\n",
        "  - __笔记本示例__：销售经理指令明确步骤：1. 生成草稿（用工具）；2. 评估选择最佳；3. handoff发送。早期版本有`sales_picker`代理评估，但后期整合到经理中，支持迭代（指令允许“use tools multiple times if not satisfied”）。\n",
        "  - __为什么是模式__：这是反射（Reflection）或自省（Self-Reflection）模式的变体，代理能“反思”输出质量。\n",
        "\n",
        "- __并行执行模式 (Parallel Execution Pattern)__：\n",
        "\n",
        "  - __描述__：代理同时调用多个工具/子代理，提高效率。\n",
        "  - __笔记本示例__：`await asyncio.gather(Runner.run(sales_agent1, message), ...)` 并行生成三个草稿。\n",
        "  - __为什么是模式__：常见于多代理系统中，减少延迟。\n",
        "\n",
        "总体，这些模式让系统像一个“销售开发代表（SDR）”团队：经理规划，销售员生成，格式化员发送。笔记本从简单并行（无模式）逐步添加这些，展示了代理设计的演进。\n"
      ]
    },
    {
      "cell_type": "markdown",
      "metadata": {},
      "source": [
        "### 2.哪一行代码将这个从Agentic \"workflow\"转变为\"agent\"（What is the 1 line that changed this from being an Agentic \"workflow\" to \"agent\" under Anthropic's definition?）\n",
        "\n",
        "- __Anthropic定义简述__：根据Anthropic（Claude的开发者）的代理观，\"workflow\" 是固定、 predictable 的步骤链（如脚本化工具调用，无LLM决策灵活性）。而\"agent\" 需&#x8981;__&#x81EA;治（autonomy）__：LLM能动态决策、迭代、处理意外（如反思输出、使用工具自主），而非刚性流程。这通常通过工具+循环+委托实现，允许代理“像人类一样”适应（参考Anthropic的Tool Use和Agentic Patterns文档，强调“reasoning loops”和“delegation”）。\n",
        "\n",
        "- __关键一行代码__：添加手off到代理初始化中，即：\n",
        "\n",
        "  ```javascript\n",
        "  handoffs=[emailer_agent]\n",
        "  ```\n",
        "\n",
        "  - __位置__：在最终`sales_manager`代理的定义中：`sales_manager = Agent(..., handoffs=handoffs, model=\"gpt-4o-mini\")`，其中`handoffs = [emailer_agent]`。\n",
        "\n",
        "  - __为什么是这行__？\n",
        "\n",
        "    - __之前是workflow__：在\"Part 2: use of tools\"，销售经理自己处理一切（生成→挑选→发送），这是固定循环：工具调用 + 内部评估。像脚本：步骤预定义，无真正委托。\n",
        "    - __转变为agent__：添加handoff后，经理能动态委托子任务给emailer_agent（另一个自治代理），并让它独立运行自己的工具链（写主题→转换HTML→发送）。这引&#x5165;__&#x81EA;治协作__：经理不控制细节，而是“交棒”，允许系统处理变异（如emailer_agent可迭代改进HTML）。这符合Anthropic的\"agent\"定义——有动态决策和子代理自治，而非纯workflow。\n",
        "    - __影响__：系统从单代理脚本变成多代理团队，LLM能“反思”何时handoff（基于指令），支持Anthropic强调的“extended reasoning”和“delegation for complex tasks”。\n",
        "\n",
        "如果没有handoff，系统仍是“工具工作流”；handoff让它“活起来”，成为真正代理。\n"
      ]
    },
    {
      "cell_type": "markdown",
      "metadata": {},
      "source": [
        "<table style=\"margin: 0; text-align: left; width:100%\">\n",
        "    <tr>\n",
        "        <td style=\"width: 150px; height: 150px; vertical-align: middle;\">\n",
        "            <img src=\"../assets/business.png\" width=\"150\" height=\"150\" style=\"display: block;\" />\n",
        "        </td>\n",
        "        <td>\n",
        "            <h2 style=\"color:#00bfff;\">Commercial implications</h2>\n",
        "            <span style=\"color:#00bfff;\">This is immediately applicable to Sales Automation; but more generally this could be applied to  end-to-end automation of any business process through conversations and tools. Think of ways you could apply an Agent solution\n",
        "            like this in your day job.\n",
        "            </span>\n",
        "        </td>\n",
        "    </tr>\n",
        "</table>"
      ]
    },
    {
      "cell_type": "markdown",
      "metadata": {},
      "source": [
        "## Extra note:\n",
        "\n",
        "Google has released their Agent Development Kit (ADK). It's not yet got the traction of the other frameworks on this course, but it's getting some attention. It's interesting to note that it looks quite similar to OpenAI Agents SDK. To give you a preview, here's a peak at sample code from ADK:\n",
        "\n",
        "```\n",
        "root_agent = Agent(\n",
        "    name=\"weather_time_agent\",\n",
        "    model=\"gemini-2.0-flash\",\n",
        "    description=\"Agent to answer questions about the time and weather in a city.\",\n",
        "    instruction=\"You are a helpful agent who can answer user questions about the time and weather in a city.\",\n",
        "    tools=[get_weather, get_current_time]\n",
        ")\n",
        "```\n",
        "\n",
        "Well, that looks familiar!\n",
        "\n",
        "And a student has contributed a customer care agent in community_contributions that uses ADK."
      ]
    },
    {
      "cell_type": "markdown",
      "metadata": {},
      "source": []
    }
  ],
  "metadata": {
    "kernelspec": {
      "display_name": "agents",
      "language": "python",
      "name": "python3"
    },
    "language_info": {
      "codemirror_mode": {
        "name": "ipython",
        "version": 3
      },
      "file_extension": ".py",
      "mimetype": "text/x-python",
      "name": "python",
      "nbconvert_exporter": "python",
      "pygments_lexer": "ipython3",
      "version": "3.12.11"
    }
  },
  "nbformat": 4,
  "nbformat_minor": 2
}
