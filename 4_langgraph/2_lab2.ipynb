{
 "cells": [
  {
   "cell_type": "markdown",
   "metadata": {},
   "source": [
    "### And welcome to Week 4, Day 3 - more LangGraph.."
   ]
  },
  {
   "cell_type": "code",
   "execution_count": 6,
   "metadata": {},
   "outputs": [],
   "source": [
    "from typing import Annotated\n",
    "from langgraph.graph import StateGraph, START\n",
    "from langgraph.graph.message import add_messages\n",
    "from dotenv import load_dotenv\n",
    "from IPython.display import Image, display\n",
    "import gradio as gr\n",
    "from langgraph.prebuilt import ToolNode, tools_condition\n",
    "import requests\n",
    "import os\n",
    "from langchain_openai import ChatOpenAI\n",
    "from typing import TypedDict\n"
   ]
  },
  {
   "cell_type": "code",
   "execution_count": 26,
   "metadata": {},
   "outputs": [
    {
     "data": {
      "text/plain": [
       "True"
      ]
     },
     "execution_count": 26,
     "metadata": {},
     "output_type": "execute_result"
    }
   ],
   "source": [
    "# Our favorite first step! Crew was doing this for us, by the way.\n",
    "load_dotenv(override=True)\n"
   ]
  },
  {
   "cell_type": "markdown",
   "metadata": {},
   "source": [
    "### First, let's go set up LangSmith!\n",
    "\n",
    "https://langsmith.com"
   ]
  },
  {
   "cell_type": "markdown",
   "metadata": {},
   "source": [
    "### Next, here is a useful function in LangChain community:"
   ]
  },
  {
   "cell_type": "code",
   "execution_count": 8,
   "metadata": {},
   "outputs": [
    {
     "data": {
      "text/plain": [
       "\"Explore HUAWEI's latest laptops and learn about MateBook X Series, MateBook Series, MateBook E Series, and MateBook D Series laptops. Let's take a quick look at the Huawei Matebook Fold ultimate design meet the world's first foldable laptop. Explore HUAWEI's latest laptops and learn about MateBook X Series, MateBook Series, MateBook E Series, and MateBook D Series laptops. Huawei launches MateBook Pro laptop with 18-inch folding display powered by company's own HarmonyOS operating system and processing chips. Huawei's brand-new MateBook Fold laptop has both an 18-inch and a 13-inch display ... The ~$3,300 foldable all-screen computer comes with a ... Products ; MateBook E · 2017, Intel Core i5 ; MateBook X · 2017, Intel Core i5 ; MateBook D · June 2017, Intel Core i7 ; MateBook X Pro 2024 · 2024, Intel Core Ultra 9 ... The new MateBook Fold and MateBook Pro both run on HarmonyOS 5, the latest version of an operating system Huawei Technologies began developing ... Huawei calls this device the Huawei Metbook Fold Ultimate Design but do you think it really qualifies as a laptop? HUAWEI MateBook D 16 2024 come with a 16:10 ratio of bezel-less screen, which greatly expands the field of view. The new numeric keypad is specially ... HUAWEI MateBook Fold Ultimate Edition, 32GB 1TB (Cloud Blue) · 18″ foldable dual-layer OLED display with 3.3K resolution · Ultra-thin and lightweight at just 1.16 ...\""
      ]
     },
     "execution_count": 8,
     "metadata": {},
     "output_type": "execute_result"
    }
   ],
   "source": [
    "from langchain_community.utilities import GoogleSerperAPIWrapper\n",
    "\n",
    "serper = GoogleSerperAPIWrapper()\n",
    "serper.run(\"What is the latest laptop model of HUAWEI?\")"
   ]
  },
  {
   "cell_type": "markdown",
   "metadata": {},
   "source": [
    "### Now here is a LangChain wrapper class for converting functions into Tools"
   ]
  },
  {
   "cell_type": "code",
   "execution_count": 9,
   "metadata": {},
   "outputs": [],
   "source": [
    "from langchain.agents import Tool\n",
    "\n",
    "tool_search =Tool(\n",
    "        name=\"search\",\n",
    "        func=serper.run,\n",
    "        description=\"Useful for when you need more information from an online search\"\n",
    "    )\n",
    "\n"
   ]
  },
  {
   "cell_type": "markdown",
   "metadata": {},
   "source": [
    "### Now we can try out the tool the langchain way"
   ]
  },
  {
   "cell_type": "code",
   "execution_count": 10,
   "metadata": {},
   "outputs": [
    {
     "data": {
      "text/plain": [
       "'Paris is the capital and largest city of France, with an estimated city population of 2,048,472 in an area of 105.4 km2 (40.7 sq mi), and a metropolitan ... Paris is the capital and most populous city of France. Situated on the Seine River, in the north of the country, it is in the centre of the Île-de-France ... Paris is the capital of France, the largest country of Europe with 550 000 km2 (65 millions inhabitants). Paris has 2.234 million inhabitants end 2011. The capital of France has been Paris since its liberation in 1944. Paris, city and capital of France, located along the Seine River, in the north-central part of the country. Paris is one of the world\\'s most ... Paris, the capital of France, is often referred to as the \"City of Light\" and is renowned for its art, culture, and history. Paris is the city of romance par excellence, the fashion capital and the best example of French art de vivre. Exploring Paris is an essential rite of passage ... Paris Capital City Of France In 4K Ultra HD Video | Paris, France Capital And Largest City | Paris Is A Major European City And A Global ... Paris, the capital and largest city of France, is located in the northern part of the country on the banks of the Seine River. Paris is the capital city of France and a cultural and culinary hub. In 2024 it played host to its third Olympic Games. Paris, situated on the river Seine ...'"
      ]
     },
     "execution_count": 10,
     "metadata": {},
     "output_type": "execute_result"
    }
   ],
   "source": [
    "tool_search.invoke(\"What is the capital of France?\")"
   ]
  },
  {
   "cell_type": "markdown",
   "metadata": {},
   "source": [
    "### And now let's write a tool ourselves\n",
    "\n",
    "We'll pick a familiar one"
   ]
  },
  {
   "cell_type": "code",
   "execution_count": 27,
   "metadata": {},
   "outputs": [],
   "source": [
    "pushover_token = os.getenv(\"PUSHOVER_TOKEN\")\n",
    "pushover_user = os.getenv(\"PUSHOVER_USER\")\n",
    "pushover_url = \"https://api.pushover.net/1/messages.json\"\n",
    "\n",
    "def push(text: str):\n",
    "    \"\"\"Send a push notification to the user\"\"\"\n",
    "    requests.post(pushover_url, data = {\"token\": pushover_token, \"user\": pushover_user, \"message\": text})"
   ]
  },
  {
   "cell_type": "code",
   "execution_count": 28,
   "metadata": {},
   "outputs": [],
   "source": [
    "tool_push = Tool(\n",
    "        name=\"send_push_notification\",\n",
    "        func=push,\n",
    "        description=\"useful for when you want to send a push notification\"\n",
    "    )\n",
    "\n",
    "tool_push.invoke(\"Hello, me\")"
   ]
  },
  {
   "cell_type": "markdown",
   "metadata": {},
   "source": [
    "### Back to the Graph from yesterday\n",
    "\n",
    "One small change - using TypedDict instead of BaseModel for the State object\n",
    "\n",
    "When we implement tools, we always need to make 2 changes to the code:\n",
    "\n",
    "1. Changes to provide the tools to OpenAI in json when we make the call\n",
    "\n",
    "2. Changes to handle the results back: look for the model staying that the finish_reason==\"tool_calls\" and then retrieve the call, run the function, provide the results."
   ]
  },
  {
   "cell_type": "markdown",
   "metadata": {},
   "source": [
    "### Bring them together"
   ]
  },
  {
   "cell_type": "code",
   "execution_count": 17,
   "metadata": {},
   "outputs": [],
   "source": [
    "tools = [tool_search, tool_push]"
   ]
  },
  {
   "cell_type": "code",
   "execution_count": 12,
   "metadata": {},
   "outputs": [],
   "source": [
    "# Step 1: Define the State object\n",
    "class State(TypedDict):\n",
    "    messages: Annotated[list, add_messages]"
   ]
  },
  {
   "cell_type": "code",
   "execution_count": 13,
   "metadata": {},
   "outputs": [],
   "source": [
    "# Step 2: Start the Graph Builder with this State class\n",
    "graph_builder = StateGraph(State)"
   ]
  },
  {
   "cell_type": "code",
   "execution_count": 18,
   "metadata": {},
   "outputs": [],
   "source": [
    "# This is different:\n",
    "\n",
    "llm = ChatOpenAI(model=\"gpt-4o-mini\")\n",
    "llm_with_tools = llm.bind_tools(tools)"
   ]
  },
  {
   "cell_type": "code",
   "execution_count": 19,
   "metadata": {},
   "outputs": [
    {
     "data": {
      "text/plain": [
       "<langgraph.graph.state.StateGraph at 0x2e0649040>"
      ]
     },
     "execution_count": 19,
     "metadata": {},
     "output_type": "execute_result"
    }
   ],
   "source": [
    "# Step 3: Create a Node\n",
    "\n",
    "\n",
    "def chatbot(state: State):\n",
    "    return {\"messages\": [llm_with_tools.invoke(state[\"messages\"])]}\n",
    "\n",
    "graph_builder.add_node(\"chatbot\", chatbot)\n",
    "graph_builder.add_node(\"tools\", ToolNode(tools=tools))"
   ]
  },
  {
   "cell_type": "code",
   "execution_count": 20,
   "metadata": {},
   "outputs": [
    {
     "data": {
      "text/plain": [
       "<langgraph.graph.state.StateGraph at 0x2e0649040>"
      ]
     },
     "execution_count": 20,
     "metadata": {},
     "output_type": "execute_result"
    }
   ],
   "source": [
    "# Step 4: Create Edges\n",
    "\n",
    "\n",
    "graph_builder.add_conditional_edges( \"chatbot\", tools_condition, \"tools\")\n",
    "\n",
    "# Any time a tool is called, we return to the chatbot to decide the next step\n",
    "graph_builder.add_edge(\"tools\", \"chatbot\")\n",
    "graph_builder.add_edge(START, \"chatbot\")"
   ]
  },
  {
   "cell_type": "code",
   "execution_count": 21,
   "metadata": {},
   "outputs": [
    {
     "data": {
      "image/png": "[encoded data removed]",
      "text/plain": [
       "<IPython.core.display.Image object>"
      ]
     },
     "metadata": {},
     "output_type": "display_data"
    }
   ],
   "source": [
    "# Step 5: Compile the Graph\n",
    "graph = graph_builder.compile()\n",
    "display(Image(graph.get_graph().draw_mermaid_png()))"
   ]
  },
  {
   "cell_type": "markdown",
   "metadata": {},
   "source": [
    "### That's it! And, let's do this:"
   ]
  },
  {
   "cell_type": "code",
   "execution_count": 22,
   "metadata": {},
   "outputs": [
    {
     "name": "stdout",
     "output_type": "stream",
     "text": [
      "* Running on local URL:  http://127.0.0.1:7860\n",
      "* To create a public link, set `share=True` in `launch()`.\n"
     ]
    },
    {
     "data": {
      "text/html": [
       "<div><iframe src=\"http://127.0.0.1:7860/\" width=\"100%\" height=\"500\" allow=\"autoplay; camera; microphone; clipboard-read; clipboard-write;\" frameborder=\"0\" allowfullscreen></iframe></div>"
      ],
      "text/plain": [
       "<IPython.core.display.HTML object>"
      ]
     },
     "metadata": {},
     "output_type": "display_data"
    },
    {
     "data": {
      "text/plain": []
     },
     "execution_count": 22,
     "metadata": {},
     "output_type": "execute_result"
    }
   ],
   "source": [
    "def chat(user_input: str, history):\n",
    "    result = graph.invoke({\"messages\": [{\"role\": \"user\", \"content\": user_input}]})\n",
    "    return result[\"messages\"][-1].content\n",
    "\n",
    "\n",
    "gr.ChatInterface(chat, type=\"messages\").launch()"
   ]
  },
  {
   "cell_type": "markdown",
   "metadata": {},
   "source": [
    "## OK it's time to add Memory!\n",
    "\n",
    "### BUT WAIT!\n",
    "\n",
    "We have this whole Graph maintaining the state and appending to the state.\n",
    "\n",
    "Why isn't this handling memory?\n",
    "\n",
    "### This is a crucial point for understanding LangGraph\n",
    "\n",
    "> A super-step can be considered a single iteration over the graph nodes. Nodes that run in parallel are part of the same super-step, while nodes that run sequentially belong to separate super-steps.\n",
    "\n",
    "\n",
    "One \"Super-Step\" of the graph represents one invocation of passing messages between agents.\n",
    "\n",
    "In idomatic LangGraph, you call invoke to run your graph for each super-step; for each interaction.\n",
    "\n",
    "The reducer handles state updates automatically within one super-step, but not between them.\n",
    "\n",
    "That is what checkpointing achieves."
   ]
  },
  {
   "cell_type": "code",
   "execution_count": 29,
   "metadata": {},
   "outputs": [],
   "source": [
    "from langgraph.checkpoint.memory import MemorySaver\n",
    "\n",
    "memory = MemorySaver()"
   ]
  },
  {
   "cell_type": "code",
   "execution_count": 30,
   "metadata": {},
   "outputs": [
    {
     "data": {
      "image/png": "[encoded data removed]",
      "text/plain": [
       "<IPython.core.display.Image object>"
      ]
     },
     "metadata": {},
     "output_type": "display_data"
    }
   ],
   "source": [
    "# Steps 1 and 2\n",
    "graph_builder = StateGraph(State)\n",
    "\n",
    "\n",
    "# Step 3\n",
    "llm = ChatOpenAI(model=\"gpt-4o-mini\")\n",
    "llm_with_tools = llm.bind_tools(tools)\n",
    "\n",
    "def chatbot(state: State):\n",
    "    print(state)\n",
    "    return {\"messages\": [llm_with_tools.invoke(state[\"messages\"])]}\n",
    "\n",
    "graph_builder.add_node(\"chatbot\", chatbot)\n",
    "graph_builder.add_node(\"tools\", ToolNode(tools=tools))\n",
    "\n",
    "# Step 4\n",
    "graph_builder.add_conditional_edges( \"chatbot\", tools_condition, \"tools\")\n",
    "graph_builder.add_edge(\"tools\", \"chatbot\")\n",
    "graph_builder.add_edge(START, \"chatbot\")\n",
    "\n",
    "# Step 5\n",
    "graph = graph_builder.compile(checkpointer=memory)\n",
    "display(Image(graph.get_graph().draw_mermaid_png()))"
   ]
  },
  {
   "cell_type": "code",
   "execution_count": 31,
   "metadata": {},
   "outputs": [
    {
     "name": "stdout",
     "output_type": "stream",
     "text": [
      "* Running on local URL:  http://127.0.0.1:7861\n",
      "* To create a public link, set `share=True` in `launch()`.\n"
     ]
    },
    {
     "data": {
      "text/html": [
       "<div><iframe src=\"http://127.0.0.1:7861/\" width=\"100%\" height=\"500\" allow=\"autoplay; camera; microphone; clipboard-read; clipboard-write;\" frameborder=\"0\" allowfullscreen></iframe></div>"
      ],
      "text/plain": [
       "<IPython.core.display.HTML object>"
      ]
     },
     "metadata": {},
     "output_type": "display_data"
    },
    {
     "data": {
      "text/plain": []
     },
     "execution_count": 31,
     "metadata": {},
     "output_type": "execute_result"
    },
    {
     "name": "stdout",
     "output_type": "stream",
     "text": [
      "{'messages': [HumanMessage(content='My name is Bowen', additional_kwargs={}, response_metadata={}, id='edcf0951-e36a-4db2-aa5d-1e6619c01893')]}\n",
      "{'messages': [HumanMessage(content='My name is Bowen', additional_kwargs={}, response_metadata={}, id='edcf0951-e36a-4db2-aa5d-1e6619c01893'), AIMessage(content='Nice to meet you, Bowen! How can I assist you today?', additional_kwargs={'refusal': None}, response_metadata={'token_usage': {'completion_tokens': 15, 'prompt_tokens': 92, 'total_tokens': 107, 'completion_tokens_details': {'accepted_prediction_tokens': 0, 'audio_tokens': 0, 'reasoning_tokens': 0, 'rejected_prediction_tokens': 0}, 'prompt_tokens_details': {'audio_tokens': 0, 'cached_tokens': 0}}, 'model_name': 'gpt-4o-mini-2024-07-18', 'system_fingerprint': 'fp_560af6e559', 'id': 'chatcmpl-CQ4ZJYsClWm8W4NlTSQqLgoAxU4AL', 'service_tier': 'default', 'finish_reason': 'stop', 'logprobs': None}, id='run--9b6e99fb-a3fd-46cb-8e64-b02105e4b038-0', usage_metadata={'input_tokens': 92, 'output_tokens': 15, 'total_tokens': 107, 'input_token_details': {'audio': 0, 'cache_read': 0}, 'output_token_details': {'audio': 0, 'reasoning': 0}}), HumanMessage(content=\"Check online about my name's popularity\", additional_kwargs={}, response_metadata={}, id='7ddc6287-92c4-4e50-8728-1e7fdd814ef0')]}\n",
      "{'messages': [HumanMessage(content='My name is Bowen', additional_kwargs={}, response_metadata={}, id='edcf0951-e36a-4db2-aa5d-1e6619c01893'), AIMessage(content='Nice to meet you, Bowen! How can I assist you today?', additional_kwargs={'refusal': None}, response_metadata={'token_usage': {'completion_tokens': 15, 'prompt_tokens': 92, 'total_tokens': 107, 'completion_tokens_details': {'accepted_prediction_tokens': 0, 'audio_tokens': 0, 'reasoning_tokens': 0, 'rejected_prediction_tokens': 0}, 'prompt_tokens_details': {'audio_tokens': 0, 'cached_tokens': 0}}, 'model_name': 'gpt-4o-mini-2024-07-18', 'system_fingerprint': 'fp_560af6e559', 'id': 'chatcmpl-CQ4ZJYsClWm8W4NlTSQqLgoAxU4AL', 'service_tier': 'default', 'finish_reason': 'stop', 'logprobs': None}, id='run--9b6e99fb-a3fd-46cb-8e64-b02105e4b038-0', usage_metadata={'input_tokens': 92, 'output_tokens': 15, 'total_tokens': 107, 'input_token_details': {'audio': 0, 'cache_read': 0}, 'output_token_details': {'audio': 0, 'reasoning': 0}}), HumanMessage(content=\"Check online about my name's popularity\", additional_kwargs={}, response_metadata={}, id='7ddc6287-92c4-4e50-8728-1e7fdd814ef0'), AIMessage(content='', additional_kwargs={'tool_calls': [{'id': 'call_vR9eGAP3KCPewlDEznWvSha1', 'function': {'arguments': '{\"__arg1\":\"popularity of the name Bowen\"}', 'name': 'search'}, 'type': 'function'}], 'refusal': None}, response_metadata={'token_usage': {'completion_tokens': 20, 'prompt_tokens': 121, 'total_tokens': 141, 'completion_tokens_details': {'accepted_prediction_tokens': 0, 'audio_tokens': 0, 'reasoning_tokens': 0, 'rejected_prediction_tokens': 0}, 'prompt_tokens_details': {'audio_tokens': 0, 'cached_tokens': 0}}, 'model_name': 'gpt-4o-mini-2024-07-18', 'system_fingerprint': 'fp_560af6e559', 'id': 'chatcmpl-CQ4Zb7HrkhWohZa5mGXFcuH8LabKo', 'service_tier': 'default', 'finish_reason': 'tool_calls', 'logprobs': None}, id='run--0b663698-630d-4ed6-9fd7-0ab52dce9f37-0', tool_calls=[{'name': 'search', 'args': {'__arg1': 'popularity of the name Bowen'}, 'id': 'call_vR9eGAP3KCPewlDEznWvSha1', 'type': 'tool_call'}], usage_metadata={'input_tokens': 121, 'output_tokens': 20, 'total_tokens': 141, 'input_token_details': {'audio': 0, 'cache_read': 0}, 'output_token_details': {'audio': 0, 'reasoning': 0}}), ToolMessage(content='See the popularity of the baby name Bowen over time, plus its meaning, origin, common sibling names, and more in BabyCenter\\'s Baby Names tool. The Welsh boy\\'s name Bowen means \"son of Owen,\" which comes from the traditional name Owain. Thanks to its connection to Owen, Bowen can also translate to \"son ... Bowen is a boy\\'s name of Welsh origin meaning \"son of Owen; wave of writing, wave of literature\". Bowen is the 321 ranked male name by popularity. What is the meaning of the name Bowen? Discover the origin, popularity, Bowen name meaning, and names related to Bowen with Mama Natural\\'s fantastic baby ... Bowen (masculine). Year, Rank, Percent Used. 2024, #321, 0.058. 2023, #349, 0.051. 2022, #390, 0.044. 2021, #367, 0.047. 2020, #395, 0.042. Bowen: Statistics About The Baby Name Bowen ; Year, Boy Rank, # Boys, % Boys, Girl Rank ; 2024, 321, 1,074, 0.0582%, * ; 2023, 349, 934, 0.0510%, * ... Bowen has ranked as high as #548 nationally, which occurred in 2024, and has been most popular in Texas, California, Georgia, Ohio, and Utah. In the past 5 ... 1,106 people named Bowen were born in the U.S. in 2024. It was the 321st most popular name for boys, and the 601st most popular overall. Bowen has never been ... Bowen is a Celtic surname representing two separate Celtic strains, one Welsh and one Irish, and entered the US Top 1000 (for boys) for the first time in 2011. ... I think Bowen sounds nicer with Scott in the middle! It\\'s also a bit more fun and unexpected than Emmett which is pretty popular at the moment.', name='search', id='26fb4f85-1bf0-4ebf-a679-c3ba5e59a3b2', tool_call_id='call_vR9eGAP3KCPewlDEznWvSha1')]}\n"
     ]
    }
   ],
   "source": [
    "config = {\"configurable\": {\"thread_id\": \"1\"}}\n",
    "\n",
    "def chat(user_input: str, history):\n",
    "    result = graph.invoke({\"messages\": [{\"role\": \"user\", \"content\": user_input}]}, config=config)\n",
    "    return result[\"messages\"][-1].content\n",
    "\n",
    "\n",
    "gr.ChatInterface(chat, type=\"messages\").launch()"
   ]
  },
  {
   "cell_type": "code",
   "execution_count": 32,
   "metadata": {},
   "outputs": [
    {
     "data": {
      "text/plain": [
       "StateSnapshot(values={'messages': [HumanMessage(content='My name is Bowen', additional_kwargs={}, response_metadata={}, id='edcf0951-e36a-4db2-aa5d-1e6619c01893'), AIMessage(content='Nice to meet you, Bowen! How can I assist you today?', additional_kwargs={'refusal': None}, response_metadata={'token_usage': {'completion_tokens': 15, 'prompt_tokens': 92, 'total_tokens': 107, 'completion_tokens_details': {'accepted_prediction_tokens': 0, 'audio_tokens': 0, 'reasoning_tokens': 0, 'rejected_prediction_tokens': 0}, 'prompt_tokens_details': {'audio_tokens': 0, 'cached_tokens': 0}}, 'model_name': 'gpt-4o-mini-2024-07-18', 'system_fingerprint': 'fp_560af6e559', 'id': 'chatcmpl-CQ4ZJYsClWm8W4NlTSQqLgoAxU4AL', 'service_tier': 'default', 'finish_reason': 'stop', 'logprobs': None}, id='run--9b6e99fb-a3fd-46cb-8e64-b02105e4b038-0', usage_metadata={'input_tokens': 92, 'output_tokens': 15, 'total_tokens': 107, 'input_token_details': {'audio': 0, 'cache_read': 0}, 'output_token_details': {'audio': 0, 'reasoning': 0}}), HumanMessage(content=\"Check online about my name's popularity\", additional_kwargs={}, response_metadata={}, id='7ddc6287-92c4-4e50-8728-1e7fdd814ef0'), AIMessage(content='', additional_kwargs={'tool_calls': [{'id': 'call_vR9eGAP3KCPewlDEznWvSha1', 'function': {'arguments': '{\"__arg1\":\"popularity of the name Bowen\"}', 'name': 'search'}, 'type': 'function'}], 'refusal': None}, response_metadata={'token_usage': {'completion_tokens': 20, 'prompt_tokens': 121, 'total_tokens': 141, 'completion_tokens_details': {'accepted_prediction_tokens': 0, 'audio_tokens': 0, 'reasoning_tokens': 0, 'rejected_prediction_tokens': 0}, 'prompt_tokens_details': {'audio_tokens': 0, 'cached_tokens': 0}}, 'model_name': 'gpt-4o-mini-2024-07-18', 'system_fingerprint': 'fp_560af6e559', 'id': 'chatcmpl-CQ4Zb7HrkhWohZa5mGXFcuH8LabKo', 'service_tier': 'default', 'finish_reason': 'tool_calls', 'logprobs': None}, id='run--0b663698-630d-4ed6-9fd7-0ab52dce9f37-0', tool_calls=[{'name': 'search', 'args': {'__arg1': 'popularity of the name Bowen'}, 'id': 'call_vR9eGAP3KCPewlDEznWvSha1', 'type': 'tool_call'}], usage_metadata={'input_tokens': 121, 'output_tokens': 20, 'total_tokens': 141, 'input_token_details': {'audio': 0, 'cache_read': 0}, 'output_token_details': {'audio': 0, 'reasoning': 0}}), ToolMessage(content='See the popularity of the baby name Bowen over time, plus its meaning, origin, common sibling names, and more in BabyCenter\\'s Baby Names tool. The Welsh boy\\'s name Bowen means \"son of Owen,\" which comes from the traditional name Owain. Thanks to its connection to Owen, Bowen can also translate to \"son ... Bowen is a boy\\'s name of Welsh origin meaning \"son of Owen; wave of writing, wave of literature\". Bowen is the 321 ranked male name by popularity. What is the meaning of the name Bowen? Discover the origin, popularity, Bowen name meaning, and names related to Bowen with Mama Natural\\'s fantastic baby ... Bowen (masculine). Year, Rank, Percent Used. 2024, #321, 0.058. 2023, #349, 0.051. 2022, #390, 0.044. 2021, #367, 0.047. 2020, #395, 0.042. Bowen: Statistics About The Baby Name Bowen ; Year, Boy Rank, # Boys, % Boys, Girl Rank ; 2024, 321, 1,074, 0.0582%, * ; 2023, 349, 934, 0.0510%, * ... Bowen has ranked as high as #548 nationally, which occurred in 2024, and has been most popular in Texas, California, Georgia, Ohio, and Utah. In the past 5 ... 1,106 people named Bowen were born in the U.S. in 2024. It was the 321st most popular name for boys, and the 601st most popular overall. Bowen has never been ... Bowen is a Celtic surname representing two separate Celtic strains, one Welsh and one Irish, and entered the US Top 1000 (for boys) for the first time in 2011. ... I think Bowen sounds nicer with Scott in the middle! It\\'s also a bit more fun and unexpected than Emmett which is pretty popular at the moment.', name='search', id='26fb4f85-1bf0-4ebf-a679-c3ba5e59a3b2', tool_call_id='call_vR9eGAP3KCPewlDEznWvSha1'), AIMessage(content='The name Bowen has a Welsh origin, meaning \"son of Owen.\" Here\\'s a summary of its popularity and some statistics:\\n\\n- **Current Popularity Rank**: Bowen is ranked 321 among boys\\' names in the U.S. for the year 2024.\\n- **Rank Over Recent Years**:\\n  - 2024: #321\\n  - 2023: #349\\n  - 2022: #390\\n  - 2021: #367\\n  - 2020: #395\\n- **Percent Used**: The name was used by approximately 0.058% of boys in 2024.\\n- **Total Born**: In 2024, about 1,106 boys were given the name Bowen in the U.S.\\n- **Popularity by State**: It has been most popular in states like Texas, California, Georgia, Ohio, and Utah.\\n\\nBowen first entered the U.S. Top 1000 for boys in 2011 and has a Celtic background, with connections to both Welsh and Irish origins.', additional_kwargs={'refusal': None}, response_metadata={'token_usage': {'completion_tokens': 217, 'prompt_tokens': 568, 'total_tokens': 785, 'completion_tokens_details': {'accepted_prediction_tokens': 0, 'audio_tokens': 0, 'reasoning_tokens': 0, 'rejected_prediction_tokens': 0}, 'prompt_tokens_details': {'audio_tokens': 0, 'cached_tokens': 0}}, 'model_name': 'gpt-4o-mini-2024-07-18', 'system_fingerprint': 'fp_560af6e559', 'id': 'chatcmpl-CQ4ZeSLMt36YLKOwYrGnB5Tkohs9B', 'service_tier': 'default', 'finish_reason': 'stop', 'logprobs': None}, id='run--5df38550-2677-4b3b-9f83-7928a964529c-0', usage_metadata={'input_tokens': 568, 'output_tokens': 217, 'total_tokens': 785, 'input_token_details': {'audio': 0, 'cache_read': 0}, 'output_token_details': {'audio': 0, 'reasoning': 0}})]}, next=(), config={'configurable': {'thread_id': '1', 'checkpoint_ns': '', 'checkpoint_id': '1f0a7ee1-a7a6-65a0-8006-f357515dcf44'}}, metadata={'source': 'loop', 'writes': {'chatbot': {'messages': [AIMessage(content='The name Bowen has a Welsh origin, meaning \"son of Owen.\" Here\\'s a summary of its popularity and some statistics:\\n\\n- **Current Popularity Rank**: Bowen is ranked 321 among boys\\' names in the U.S. for the year 2024.\\n- **Rank Over Recent Years**:\\n  - 2024: #321\\n  - 2023: #349\\n  - 2022: #390\\n  - 2021: #367\\n  - 2020: #395\\n- **Percent Used**: The name was used by approximately 0.058% of boys in 2024.\\n- **Total Born**: In 2024, about 1,106 boys were given the name Bowen in the U.S.\\n- **Popularity by State**: It has been most popular in states like Texas, California, Georgia, Ohio, and Utah.\\n\\nBowen first entered the U.S. Top 1000 for boys in 2011 and has a Celtic background, with connections to both Welsh and Irish origins.', additional_kwargs={'refusal': None}, response_metadata={'token_usage': {'completion_tokens': 217, 'prompt_tokens': 568, 'total_tokens': 785, 'completion_tokens_details': {'accepted_prediction_tokens': 0, 'audio_tokens': 0, 'reasoning_tokens': 0, 'rejected_prediction_tokens': 0}, 'prompt_tokens_details': {'audio_tokens': 0, 'cached_tokens': 0}}, 'model_name': 'gpt-4o-mini-2024-07-18', 'system_fingerprint': 'fp_560af6e559', 'id': 'chatcmpl-CQ4ZeSLMt36YLKOwYrGnB5Tkohs9B', 'service_tier': 'default', 'finish_reason': 'stop', 'logprobs': None}, id='run--5df38550-2677-4b3b-9f83-7928a964529c-0', usage_metadata={'input_tokens': 568, 'output_tokens': 217, 'total_tokens': 785, 'input_token_details': {'audio': 0, 'cache_read': 0}, 'output_token_details': {'audio': 0, 'reasoning': 0}})]}}, 'step': 6, 'parents': {}, 'thread_id': '1'}, created_at='2025-10-13T04:35:53.676938+00:00', parent_config={'configurable': {'thread_id': '1', 'checkpoint_ns': '', 'checkpoint_id': '1f0a7ee1-5edb-6992-8005-2396aa896c9f'}}, tasks=(), interrupts=())"
      ]
     },
     "execution_count": 32,
     "metadata": {},
     "output_type": "execute_result"
    }
   ],
   "source": [
    "graph.get_state(config)"
   ]
  },
  {
   "cell_type": "code",
   "execution_count": 33,
   "metadata": {},
   "outputs": [
    {
     "data": {
      "text/plain": [
       "[StateSnapshot(values={'messages': [HumanMessage(content='My name is Bowen', additional_kwargs={}, response_metadata={}, id='edcf0951-e36a-4db2-aa5d-1e6619c01893'), AIMessage(content='Nice to meet you, Bowen! How can I assist you today?', additional_kwargs={'refusal': None}, response_metadata={'token_usage': {'completion_tokens': 15, 'prompt_tokens': 92, 'total_tokens': 107, 'completion_tokens_details': {'accepted_prediction_tokens': 0, 'audio_tokens': 0, 'reasoning_tokens': 0, 'rejected_prediction_tokens': 0}, 'prompt_tokens_details': {'audio_tokens': 0, 'cached_tokens': 0}}, 'model_name': 'gpt-4o-mini-2024-07-18', 'system_fingerprint': 'fp_560af6e559', 'id': 'chatcmpl-CQ4ZJYsClWm8W4NlTSQqLgoAxU4AL', 'service_tier': 'default', 'finish_reason': 'stop', 'logprobs': None}, id='run--9b6e99fb-a3fd-46cb-8e64-b02105e4b038-0', usage_metadata={'input_tokens': 92, 'output_tokens': 15, 'total_tokens': 107, 'input_token_details': {'audio': 0, 'cache_read': 0}, 'output_token_details': {'audio': 0, 'reasoning': 0}}), HumanMessage(content=\"Check online about my name's popularity\", additional_kwargs={}, response_metadata={}, id='7ddc6287-92c4-4e50-8728-1e7fdd814ef0'), AIMessage(content='', additional_kwargs={'tool_calls': [{'id': 'call_vR9eGAP3KCPewlDEznWvSha1', 'function': {'arguments': '{\"__arg1\":\"popularity of the name Bowen\"}', 'name': 'search'}, 'type': 'function'}], 'refusal': None}, response_metadata={'token_usage': {'completion_tokens': 20, 'prompt_tokens': 121, 'total_tokens': 141, 'completion_tokens_details': {'accepted_prediction_tokens': 0, 'audio_tokens': 0, 'reasoning_tokens': 0, 'rejected_prediction_tokens': 0}, 'prompt_tokens_details': {'audio_tokens': 0, 'cached_tokens': 0}}, 'model_name': 'gpt-4o-mini-2024-07-18', 'system_fingerprint': 'fp_560af6e559', 'id': 'chatcmpl-CQ4Zb7HrkhWohZa5mGXFcuH8LabKo', 'service_tier': 'default', 'finish_reason': 'tool_calls', 'logprobs': None}, id='run--0b663698-630d-4ed6-9fd7-0ab52dce9f37-0', tool_calls=[{'name': 'search', 'args': {'__arg1': 'popularity of the name Bowen'}, 'id': 'call_vR9eGAP3KCPewlDEznWvSha1', 'type': 'tool_call'}], usage_metadata={'input_tokens': 121, 'output_tokens': 20, 'total_tokens': 141, 'input_token_details': {'audio': 0, 'cache_read': 0}, 'output_token_details': {'audio': 0, 'reasoning': 0}}), ToolMessage(content='See the popularity of the baby name Bowen over time, plus its meaning, origin, common sibling names, and more in BabyCenter\\'s Baby Names tool. The Welsh boy\\'s name Bowen means \"son of Owen,\" which comes from the traditional name Owain. Thanks to its connection to Owen, Bowen can also translate to \"son ... Bowen is a boy\\'s name of Welsh origin meaning \"son of Owen; wave of writing, wave of literature\". Bowen is the 321 ranked male name by popularity. What is the meaning of the name Bowen? Discover the origin, popularity, Bowen name meaning, and names related to Bowen with Mama Natural\\'s fantastic baby ... Bowen (masculine). Year, Rank, Percent Used. 2024, #321, 0.058. 2023, #349, 0.051. 2022, #390, 0.044. 2021, #367, 0.047. 2020, #395, 0.042. Bowen: Statistics About The Baby Name Bowen ; Year, Boy Rank, # Boys, % Boys, Girl Rank ; 2024, 321, 1,074, 0.0582%, * ; 2023, 349, 934, 0.0510%, * ... Bowen has ranked as high as #548 nationally, which occurred in 2024, and has been most popular in Texas, California, Georgia, Ohio, and Utah. In the past 5 ... 1,106 people named Bowen were born in the U.S. in 2024. It was the 321st most popular name for boys, and the 601st most popular overall. Bowen has never been ... Bowen is a Celtic surname representing two separate Celtic strains, one Welsh and one Irish, and entered the US Top 1000 (for boys) for the first time in 2011. ... I think Bowen sounds nicer with Scott in the middle! It\\'s also a bit more fun and unexpected than Emmett which is pretty popular at the moment.', name='search', id='26fb4f85-1bf0-4ebf-a679-c3ba5e59a3b2', tool_call_id='call_vR9eGAP3KCPewlDEznWvSha1'), AIMessage(content='The name Bowen has a Welsh origin, meaning \"son of Owen.\" Here\\'s a summary of its popularity and some statistics:\\n\\n- **Current Popularity Rank**: Bowen is ranked 321 among boys\\' names in the U.S. for the year 2024.\\n- **Rank Over Recent Years**:\\n  - 2024: #321\\n  - 2023: #349\\n  - 2022: #390\\n  - 2021: #367\\n  - 2020: #395\\n- **Percent Used**: The name was used by approximately 0.058% of boys in 2024.\\n- **Total Born**: In 2024, about 1,106 boys were given the name Bowen in the U.S.\\n- **Popularity by State**: It has been most popular in states like Texas, California, Georgia, Ohio, and Utah.\\n\\nBowen first entered the U.S. Top 1000 for boys in 2011 and has a Celtic background, with connections to both Welsh and Irish origins.', additional_kwargs={'refusal': None}, response_metadata={'token_usage': {'completion_tokens': 217, 'prompt_tokens': 568, 'total_tokens': 785, 'completion_tokens_details': {'accepted_prediction_tokens': 0, 'audio_tokens': 0, 'reasoning_tokens': 0, 'rejected_prediction_tokens': 0}, 'prompt_tokens_details': {'audio_tokens': 0, 'cached_tokens': 0}}, 'model_name': 'gpt-4o-mini-2024-07-18', 'system_fingerprint': 'fp_560af6e559', 'id': 'chatcmpl-CQ4ZeSLMt36YLKOwYrGnB5Tkohs9B', 'service_tier': 'default', 'finish_reason': 'stop', 'logprobs': None}, id='run--5df38550-2677-4b3b-9f83-7928a964529c-0', usage_metadata={'input_tokens': 568, 'output_tokens': 217, 'total_tokens': 785, 'input_token_details': {'audio': 0, 'cache_read': 0}, 'output_token_details': {'audio': 0, 'reasoning': 0}})]}, next=(), config={'configurable': {'thread_id': '1', 'checkpoint_ns': '', 'checkpoint_id': '1f0a7ee1-a7a6-65a0-8006-f357515dcf44'}}, metadata={'source': 'loop', 'writes': {'chatbot': {'messages': [AIMessage(content='The name Bowen has a Welsh origin, meaning \"son of Owen.\" Here\\'s a summary of its popularity and some statistics:\\n\\n- **Current Popularity Rank**: Bowen is ranked 321 among boys\\' names in the U.S. for the year 2024.\\n- **Rank Over Recent Years**:\\n  - 2024: #321\\n  - 2023: #349\\n  - 2022: #390\\n  - 2021: #367\\n  - 2020: #395\\n- **Percent Used**: The name was used by approximately 0.058% of boys in 2024.\\n- **Total Born**: In 2024, about 1,106 boys were given the name Bowen in the U.S.\\n- **Popularity by State**: It has been most popular in states like Texas, California, Georgia, Ohio, and Utah.\\n\\nBowen first entered the U.S. Top 1000 for boys in 2011 and has a Celtic background, with connections to both Welsh and Irish origins.', additional_kwargs={'refusal': None}, response_metadata={'token_usage': {'completion_tokens': 217, 'prompt_tokens': 568, 'total_tokens': 785, 'completion_tokens_details': {'accepted_prediction_tokens': 0, 'audio_tokens': 0, 'reasoning_tokens': 0, 'rejected_prediction_tokens': 0}, 'prompt_tokens_details': {'audio_tokens': 0, 'cached_tokens': 0}}, 'model_name': 'gpt-4o-mini-2024-07-18', 'system_fingerprint': 'fp_560af6e559', 'id': 'chatcmpl-CQ4ZeSLMt36YLKOwYrGnB5Tkohs9B', 'service_tier': 'default', 'finish_reason': 'stop', 'logprobs': None}, id='run--5df38550-2677-4b3b-9f83-7928a964529c-0', usage_metadata={'input_tokens': 568, 'output_tokens': 217, 'total_tokens': 785, 'input_token_details': {'audio': 0, 'cache_read': 0}, 'output_token_details': {'audio': 0, 'reasoning': 0}})]}}, 'step': 6, 'parents': {}, 'thread_id': '1'}, created_at='2025-10-13T04:35:53.676938+00:00', parent_config={'configurable': {'thread_id': '1', 'checkpoint_ns': '', 'checkpoint_id': '1f0a7ee1-5edb-6992-8005-2396aa896c9f'}}, tasks=(), interrupts=()),\n",
       " StateSnapshot(values={'messages': [HumanMessage(content='My name is Bowen', additional_kwargs={}, response_metadata={}, id='edcf0951-e36a-4db2-aa5d-1e6619c01893'), AIMessage(content='Nice to meet you, Bowen! How can I assist you today?', additional_kwargs={'refusal': None}, response_metadata={'token_usage': {'completion_tokens': 15, 'prompt_tokens': 92, 'total_tokens': 107, 'completion_tokens_details': {'accepted_prediction_tokens': 0, 'audio_tokens': 0, 'reasoning_tokens': 0, 'rejected_prediction_tokens': 0}, 'prompt_tokens_details': {'audio_tokens': 0, 'cached_tokens': 0}}, 'model_name': 'gpt-4o-mini-2024-07-18', 'system_fingerprint': 'fp_560af6e559', 'id': 'chatcmpl-CQ4ZJYsClWm8W4NlTSQqLgoAxU4AL', 'service_tier': 'default', 'finish_reason': 'stop', 'logprobs': None}, id='run--9b6e99fb-a3fd-46cb-8e64-b02105e4b038-0', usage_metadata={'input_tokens': 92, 'output_tokens': 15, 'total_tokens': 107, 'input_token_details': {'audio': 0, 'cache_read': 0}, 'output_token_details': {'audio': 0, 'reasoning': 0}}), HumanMessage(content=\"Check online about my name's popularity\", additional_kwargs={}, response_metadata={}, id='7ddc6287-92c4-4e50-8728-1e7fdd814ef0'), AIMessage(content='', additional_kwargs={'tool_calls': [{'id': 'call_vR9eGAP3KCPewlDEznWvSha1', 'function': {'arguments': '{\"__arg1\":\"popularity of the name Bowen\"}', 'name': 'search'}, 'type': 'function'}], 'refusal': None}, response_metadata={'token_usage': {'completion_tokens': 20, 'prompt_tokens': 121, 'total_tokens': 141, 'completion_tokens_details': {'accepted_prediction_tokens': 0, 'audio_tokens': 0, 'reasoning_tokens': 0, 'rejected_prediction_tokens': 0}, 'prompt_tokens_details': {'audio_tokens': 0, 'cached_tokens': 0}}, 'model_name': 'gpt-4o-mini-2024-07-18', 'system_fingerprint': 'fp_560af6e559', 'id': 'chatcmpl-CQ4Zb7HrkhWohZa5mGXFcuH8LabKo', 'service_tier': 'default', 'finish_reason': 'tool_calls', 'logprobs': None}, id='run--0b663698-630d-4ed6-9fd7-0ab52dce9f37-0', tool_calls=[{'name': 'search', 'args': {'__arg1': 'popularity of the name Bowen'}, 'id': 'call_vR9eGAP3KCPewlDEznWvSha1', 'type': 'tool_call'}], usage_metadata={'input_tokens': 121, 'output_tokens': 20, 'total_tokens': 141, 'input_token_details': {'audio': 0, 'cache_read': 0}, 'output_token_details': {'audio': 0, 'reasoning': 0}}), ToolMessage(content='See the popularity of the baby name Bowen over time, plus its meaning, origin, common sibling names, and more in BabyCenter\\'s Baby Names tool. The Welsh boy\\'s name Bowen means \"son of Owen,\" which comes from the traditional name Owain. Thanks to its connection to Owen, Bowen can also translate to \"son ... Bowen is a boy\\'s name of Welsh origin meaning \"son of Owen; wave of writing, wave of literature\". Bowen is the 321 ranked male name by popularity. What is the meaning of the name Bowen? Discover the origin, popularity, Bowen name meaning, and names related to Bowen with Mama Natural\\'s fantastic baby ... Bowen (masculine). Year, Rank, Percent Used. 2024, #321, 0.058. 2023, #349, 0.051. 2022, #390, 0.044. 2021, #367, 0.047. 2020, #395, 0.042. Bowen: Statistics About The Baby Name Bowen ; Year, Boy Rank, # Boys, % Boys, Girl Rank ; 2024, 321, 1,074, 0.0582%, * ; 2023, 349, 934, 0.0510%, * ... Bowen has ranked as high as #548 nationally, which occurred in 2024, and has been most popular in Texas, California, Georgia, Ohio, and Utah. In the past 5 ... 1,106 people named Bowen were born in the U.S. in 2024. It was the 321st most popular name for boys, and the 601st most popular overall. Bowen has never been ... Bowen is a Celtic surname representing two separate Celtic strains, one Welsh and one Irish, and entered the US Top 1000 (for boys) for the first time in 2011. ... I think Bowen sounds nicer with Scott in the middle! It\\'s also a bit more fun and unexpected than Emmett which is pretty popular at the moment.', name='search', id='26fb4f85-1bf0-4ebf-a679-c3ba5e59a3b2', tool_call_id='call_vR9eGAP3KCPewlDEznWvSha1')]}, next=('chatbot',), config={'configurable': {'thread_id': '1', 'checkpoint_ns': '', 'checkpoint_id': '1f0a7ee1-5edb-6992-8005-2396aa896c9f'}}, metadata={'source': 'loop', 'writes': {'tools': {'messages': [ToolMessage(content='See the popularity of the baby name Bowen over time, plus its meaning, origin, common sibling names, and more in BabyCenter\\'s Baby Names tool. The Welsh boy\\'s name Bowen means \"son of Owen,\" which comes from the traditional name Owain. Thanks to its connection to Owen, Bowen can also translate to \"son ... Bowen is a boy\\'s name of Welsh origin meaning \"son of Owen; wave of writing, wave of literature\". Bowen is the 321 ranked male name by popularity. What is the meaning of the name Bowen? Discover the origin, popularity, Bowen name meaning, and names related to Bowen with Mama Natural\\'s fantastic baby ... Bowen (masculine). Year, Rank, Percent Used. 2024, #321, 0.058. 2023, #349, 0.051. 2022, #390, 0.044. 2021, #367, 0.047. 2020, #395, 0.042. Bowen: Statistics About The Baby Name Bowen ; Year, Boy Rank, # Boys, % Boys, Girl Rank ; 2024, 321, 1,074, 0.0582%, * ; 2023, 349, 934, 0.0510%, * ... Bowen has ranked as high as #548 nationally, which occurred in 2024, and has been most popular in Texas, California, Georgia, Ohio, and Utah. In the past 5 ... 1,106 people named Bowen were born in the U.S. in 2024. It was the 321st most popular name for boys, and the 601st most popular overall. Bowen has never been ... Bowen is a Celtic surname representing two separate Celtic strains, one Welsh and one Irish, and entered the US Top 1000 (for boys) for the first time in 2011. ... I think Bowen sounds nicer with Scott in the middle! It\\'s also a bit more fun and unexpected than Emmett which is pretty popular at the moment.', name='search', id='26fb4f85-1bf0-4ebf-a679-c3ba5e59a3b2', tool_call_id='call_vR9eGAP3KCPewlDEznWvSha1')]}}, 'step': 5, 'parents': {}, 'thread_id': '1'}, created_at='2025-10-13T04:35:46.044140+00:00', parent_config={'configurable': {'thread_id': '1', 'checkpoint_ns': '', 'checkpoint_id': '1f0a7ee1-5236-6106-8004-3e27dd43fd38'}}, tasks=(PregelTask(id='5228d0b3-f3dc-253d-ee67-49cda6cf8316', name='chatbot', path=('__pregel_pull', 'chatbot'), error=None, interrupts=(), state=None, result={'messages': [AIMessage(content='The name Bowen has a Welsh origin, meaning \"son of Owen.\" Here\\'s a summary of its popularity and some statistics:\\n\\n- **Current Popularity Rank**: Bowen is ranked 321 among boys\\' names in the U.S. for the year 2024.\\n- **Rank Over Recent Years**:\\n  - 2024: #321\\n  - 2023: #349\\n  - 2022: #390\\n  - 2021: #367\\n  - 2020: #395\\n- **Percent Used**: The name was used by approximately 0.058% of boys in 2024.\\n- **Total Born**: In 2024, about 1,106 boys were given the name Bowen in the U.S.\\n- **Popularity by State**: It has been most popular in states like Texas, California, Georgia, Ohio, and Utah.\\n\\nBowen first entered the U.S. Top 1000 for boys in 2011 and has a Celtic background, with connections to both Welsh and Irish origins.', additional_kwargs={'refusal': None}, response_metadata={'token_usage': {'completion_tokens': 217, 'prompt_tokens': 568, 'total_tokens': 785, 'completion_tokens_details': {'accepted_prediction_tokens': 0, 'audio_tokens': 0, 'reasoning_tokens': 0, 'rejected_prediction_tokens': 0}, 'prompt_tokens_details': {'audio_tokens': 0, 'cached_tokens': 0}}, 'model_name': 'gpt-4o-mini-2024-07-18', 'system_fingerprint': 'fp_560af6e559', 'id': 'chatcmpl-CQ4ZeSLMt36YLKOwYrGnB5Tkohs9B', 'service_tier': 'default', 'finish_reason': 'stop', 'logprobs': None}, id='run--5df38550-2677-4b3b-9f83-7928a964529c-0', usage_metadata={'input_tokens': 568, 'output_tokens': 217, 'total_tokens': 785, 'input_token_details': {'audio': 0, 'cache_read': 0}, 'output_token_details': {'audio': 0, 'reasoning': 0}})]}),), interrupts=()),\n",
       " StateSnapshot(values={'messages': [HumanMessage(content='My name is Bowen', additional_kwargs={}, response_metadata={}, id='edcf0951-e36a-4db2-aa5d-1e6619c01893'), AIMessage(content='Nice to meet you, Bowen! How can I assist you today?', additional_kwargs={'refusal': None}, response_metadata={'token_usage': {'completion_tokens': 15, 'prompt_tokens': 92, 'total_tokens': 107, 'completion_tokens_details': {'accepted_prediction_tokens': 0, 'audio_tokens': 0, 'reasoning_tokens': 0, 'rejected_prediction_tokens': 0}, 'prompt_tokens_details': {'audio_tokens': 0, 'cached_tokens': 0}}, 'model_name': 'gpt-4o-mini-2024-07-18', 'system_fingerprint': 'fp_560af6e559', 'id': 'chatcmpl-CQ4ZJYsClWm8W4NlTSQqLgoAxU4AL', 'service_tier': 'default', 'finish_reason': 'stop', 'logprobs': None}, id='run--9b6e99fb-a3fd-46cb-8e64-b02105e4b038-0', usage_metadata={'input_tokens': 92, 'output_tokens': 15, 'total_tokens': 107, 'input_token_details': {'audio': 0, 'cache_read': 0}, 'output_token_details': {'audio': 0, 'reasoning': 0}}), HumanMessage(content=\"Check online about my name's popularity\", additional_kwargs={}, response_metadata={}, id='7ddc6287-92c4-4e50-8728-1e7fdd814ef0'), AIMessage(content='', additional_kwargs={'tool_calls': [{'id': 'call_vR9eGAP3KCPewlDEznWvSha1', 'function': {'arguments': '{\"__arg1\":\"popularity of the name Bowen\"}', 'name': 'search'}, 'type': 'function'}], 'refusal': None}, response_metadata={'token_usage': {'completion_tokens': 20, 'prompt_tokens': 121, 'total_tokens': 141, 'completion_tokens_details': {'accepted_prediction_tokens': 0, 'audio_tokens': 0, 'reasoning_tokens': 0, 'rejected_prediction_tokens': 0}, 'prompt_tokens_details': {'audio_tokens': 0, 'cached_tokens': 0}}, 'model_name': 'gpt-4o-mini-2024-07-18', 'system_fingerprint': 'fp_560af6e559', 'id': 'chatcmpl-CQ4Zb7HrkhWohZa5mGXFcuH8LabKo', 'service_tier': 'default', 'finish_reason': 'tool_calls', 'logprobs': None}, id='run--0b663698-630d-4ed6-9fd7-0ab52dce9f37-0', tool_calls=[{'name': 'search', 'args': {'__arg1': 'popularity of the name Bowen'}, 'id': 'call_vR9eGAP3KCPewlDEznWvSha1', 'type': 'tool_call'}], usage_metadata={'input_tokens': 121, 'output_tokens': 20, 'total_tokens': 141, 'input_token_details': {'audio': 0, 'cache_read': 0}, 'output_token_details': {'audio': 0, 'reasoning': 0}})]}, next=('tools',), config={'configurable': {'thread_id': '1', 'checkpoint_ns': '', 'checkpoint_id': '1f0a7ee1-5236-6106-8004-3e27dd43fd38'}}, metadata={'source': 'loop', 'writes': {'chatbot': {'messages': [AIMessage(content='', additional_kwargs={'tool_calls': [{'id': 'call_vR9eGAP3KCPewlDEznWvSha1', 'function': {'arguments': '{\"__arg1\":\"popularity of the name Bowen\"}', 'name': 'search'}, 'type': 'function'}], 'refusal': None}, response_metadata={'token_usage': {'completion_tokens': 20, 'prompt_tokens': 121, 'total_tokens': 141, 'completion_tokens_details': {'accepted_prediction_tokens': 0, 'audio_tokens': 0, 'reasoning_tokens': 0, 'rejected_prediction_tokens': 0}, 'prompt_tokens_details': {'audio_tokens': 0, 'cached_tokens': 0}}, 'model_name': 'gpt-4o-mini-2024-07-18', 'system_fingerprint': 'fp_560af6e559', 'id': 'chatcmpl-CQ4Zb7HrkhWohZa5mGXFcuH8LabKo', 'service_tier': 'default', 'finish_reason': 'tool_calls', 'logprobs': None}, id='run--0b663698-630d-4ed6-9fd7-0ab52dce9f37-0', tool_calls=[{'name': 'search', 'args': {'__arg1': 'popularity of the name Bowen'}, 'id': 'call_vR9eGAP3KCPewlDEznWvSha1', 'type': 'tool_call'}], usage_metadata={'input_tokens': 121, 'output_tokens': 20, 'total_tokens': 141, 'input_token_details': {'audio': 0, 'cache_read': 0}, 'output_token_details': {'audio': 0, 'reasoning': 0}})]}}, 'step': 4, 'parents': {}, 'thread_id': '1'}, created_at='2025-10-13T04:35:44.718044+00:00', parent_config={'configurable': {'thread_id': '1', 'checkpoint_ns': '', 'checkpoint_id': '1f0a7ee1-4767-6eaa-8003-6eae64b422fc'}}, tasks=(PregelTask(id='d51dd412-74d0-3b13-28fc-c68fe7f6e925', name='tools', path=('__pregel_pull', 'tools'), error=None, interrupts=(), state=None, result={'messages': [ToolMessage(content='See the popularity of the baby name Bowen over time, plus its meaning, origin, common sibling names, and more in BabyCenter\\'s Baby Names tool. The Welsh boy\\'s name Bowen means \"son of Owen,\" which comes from the traditional name Owain. Thanks to its connection to Owen, Bowen can also translate to \"son ... Bowen is a boy\\'s name of Welsh origin meaning \"son of Owen; wave of writing, wave of literature\". Bowen is the 321 ranked male name by popularity. What is the meaning of the name Bowen? Discover the origin, popularity, Bowen name meaning, and names related to Bowen with Mama Natural\\'s fantastic baby ... Bowen (masculine). Year, Rank, Percent Used. 2024, #321, 0.058. 2023, #349, 0.051. 2022, #390, 0.044. 2021, #367, 0.047. 2020, #395, 0.042. Bowen: Statistics About The Baby Name Bowen ; Year, Boy Rank, # Boys, % Boys, Girl Rank ; 2024, 321, 1,074, 0.0582%, * ; 2023, 349, 934, 0.0510%, * ... Bowen has ranked as high as #548 nationally, which occurred in 2024, and has been most popular in Texas, California, Georgia, Ohio, and Utah. In the past 5 ... 1,106 people named Bowen were born in the U.S. in 2024. It was the 321st most popular name for boys, and the 601st most popular overall. Bowen has never been ... Bowen is a Celtic surname representing two separate Celtic strains, one Welsh and one Irish, and entered the US Top 1000 (for boys) for the first time in 2011. ... I think Bowen sounds nicer with Scott in the middle! It\\'s also a bit more fun and unexpected than Emmett which is pretty popular at the moment.', name='search', tool_call_id='call_vR9eGAP3KCPewlDEznWvSha1')]}),), interrupts=()),\n",
       " StateSnapshot(values={'messages': [HumanMessage(content='My name is Bowen', additional_kwargs={}, response_metadata={}, id='edcf0951-e36a-4db2-aa5d-1e6619c01893'), AIMessage(content='Nice to meet you, Bowen! How can I assist you today?', additional_kwargs={'refusal': None}, response_metadata={'token_usage': {'completion_tokens': 15, 'prompt_tokens': 92, 'total_tokens': 107, 'completion_tokens_details': {'accepted_prediction_tokens': 0, 'audio_tokens': 0, 'reasoning_tokens': 0, 'rejected_prediction_tokens': 0}, 'prompt_tokens_details': {'audio_tokens': 0, 'cached_tokens': 0}}, 'model_name': 'gpt-4o-mini-2024-07-18', 'system_fingerprint': 'fp_560af6e559', 'id': 'chatcmpl-CQ4ZJYsClWm8W4NlTSQqLgoAxU4AL', 'service_tier': 'default', 'finish_reason': 'stop', 'logprobs': None}, id='run--9b6e99fb-a3fd-46cb-8e64-b02105e4b038-0', usage_metadata={'input_tokens': 92, 'output_tokens': 15, 'total_tokens': 107, 'input_token_details': {'audio': 0, 'cache_read': 0}, 'output_token_details': {'audio': 0, 'reasoning': 0}}), HumanMessage(content=\"Check online about my name's popularity\", additional_kwargs={}, response_metadata={}, id='7ddc6287-92c4-4e50-8728-1e7fdd814ef0')]}, next=('chatbot',), config={'configurable': {'thread_id': '1', 'checkpoint_ns': '', 'checkpoint_id': '1f0a7ee1-4767-6eaa-8003-6eae64b422fc'}}, metadata={'source': 'loop', 'writes': None, 'step': 3, 'parents': {}, 'thread_id': '1'}, created_at='2025-10-13T04:35:43.585035+00:00', parent_config={'configurable': {'thread_id': '1', 'checkpoint_ns': '', 'checkpoint_id': '1f0a7ee1-4766-6e56-8002-db58da2c5561'}}, tasks=(PregelTask(id='a4c54fbb-9487-38ee-948d-097bb62336dc', name='chatbot', path=('__pregel_pull', 'chatbot'), error=None, interrupts=(), state=None, result={'messages': [AIMessage(content='', additional_kwargs={'tool_calls': [{'id': 'call_vR9eGAP3KCPewlDEznWvSha1', 'function': {'arguments': '{\"__arg1\":\"popularity of the name Bowen\"}', 'name': 'search'}, 'type': 'function'}], 'refusal': None}, response_metadata={'token_usage': {'completion_tokens': 20, 'prompt_tokens': 121, 'total_tokens': 141, 'completion_tokens_details': {'accepted_prediction_tokens': 0, 'audio_tokens': 0, 'reasoning_tokens': 0, 'rejected_prediction_tokens': 0}, 'prompt_tokens_details': {'audio_tokens': 0, 'cached_tokens': 0}}, 'model_name': 'gpt-4o-mini-2024-07-18', 'system_fingerprint': 'fp_560af6e559', 'id': 'chatcmpl-CQ4Zb7HrkhWohZa5mGXFcuH8LabKo', 'service_tier': 'default', 'finish_reason': 'tool_calls', 'logprobs': None}, id='run--0b663698-630d-4ed6-9fd7-0ab52dce9f37-0', tool_calls=[{'name': 'search', 'args': {'__arg1': 'popularity of the name Bowen'}, 'id': 'call_vR9eGAP3KCPewlDEznWvSha1', 'type': 'tool_call'}], usage_metadata={'input_tokens': 121, 'output_tokens': 20, 'total_tokens': 141, 'input_token_details': {'audio': 0, 'cache_read': 0}, 'output_token_details': {'audio': 0, 'reasoning': 0}})]}),), interrupts=()),\n",
       " StateSnapshot(values={'messages': [HumanMessage(content='My name is Bowen', additional_kwargs={}, response_metadata={}, id='edcf0951-e36a-4db2-aa5d-1e6619c01893'), AIMessage(content='Nice to meet you, Bowen! How can I assist you today?', additional_kwargs={'refusal': None}, response_metadata={'token_usage': {'completion_tokens': 15, 'prompt_tokens': 92, 'total_tokens': 107, 'completion_tokens_details': {'accepted_prediction_tokens': 0, 'audio_tokens': 0, 'reasoning_tokens': 0, 'rejected_prediction_tokens': 0}, 'prompt_tokens_details': {'audio_tokens': 0, 'cached_tokens': 0}}, 'model_name': 'gpt-4o-mini-2024-07-18', 'system_fingerprint': 'fp_560af6e559', 'id': 'chatcmpl-CQ4ZJYsClWm8W4NlTSQqLgoAxU4AL', 'service_tier': 'default', 'finish_reason': 'stop', 'logprobs': None}, id='run--9b6e99fb-a3fd-46cb-8e64-b02105e4b038-0', usage_metadata={'input_tokens': 92, 'output_tokens': 15, 'total_tokens': 107, 'input_token_details': {'audio': 0, 'cache_read': 0}, 'output_token_details': {'audio': 0, 'reasoning': 0}})]}, next=('__start__',), config={'configurable': {'thread_id': '1', 'checkpoint_ns': '', 'checkpoint_id': '1f0a7ee1-4766-6e56-8002-db58da2c5561'}}, metadata={'source': 'input', 'writes': {'__start__': {'messages': [{'role': 'user', 'content': \"Check online about my name's popularity\"}]}}, 'step': 2, 'parents': {}, 'thread_id': '1'}, created_at='2025-10-13T04:35:43.584614+00:00', parent_config={'configurable': {'thread_id': '1', 'checkpoint_ns': '', 'checkpoint_id': '1f0a7ee0-9e3d-64d8-8001-38dadffffeef'}}, tasks=(PregelTask(id='bf597e99-6cd9-e591-ead5-6066d6c14c6f', name='__start__', path=('__pregel_pull', '__start__'), error=None, interrupts=(), state=None, result={'messages': [{'role': 'user', 'content': \"Check online about my name's popularity\"}]}),), interrupts=()),\n",
       " StateSnapshot(values={'messages': [HumanMessage(content='My name is Bowen', additional_kwargs={}, response_metadata={}, id='edcf0951-e36a-4db2-aa5d-1e6619c01893'), AIMessage(content='Nice to meet you, Bowen! How can I assist you today?', additional_kwargs={'refusal': None}, response_metadata={'token_usage': {'completion_tokens': 15, 'prompt_tokens': 92, 'total_tokens': 107, 'completion_tokens_details': {'accepted_prediction_tokens': 0, 'audio_tokens': 0, 'reasoning_tokens': 0, 'rejected_prediction_tokens': 0}, 'prompt_tokens_details': {'audio_tokens': 0, 'cached_tokens': 0}}, 'model_name': 'gpt-4o-mini-2024-07-18', 'system_fingerprint': 'fp_560af6e559', 'id': 'chatcmpl-CQ4ZJYsClWm8W4NlTSQqLgoAxU4AL', 'service_tier': 'default', 'finish_reason': 'stop', 'logprobs': None}, id='run--9b6e99fb-a3fd-46cb-8e64-b02105e4b038-0', usage_metadata={'input_tokens': 92, 'output_tokens': 15, 'total_tokens': 107, 'input_token_details': {'audio': 0, 'cache_read': 0}, 'output_token_details': {'audio': 0, 'reasoning': 0}})]}, next=(), config={'configurable': {'thread_id': '1', 'checkpoint_ns': '', 'checkpoint_id': '1f0a7ee0-9e3d-64d8-8001-38dadffffeef'}}, metadata={'source': 'loop', 'writes': {'chatbot': {'messages': [AIMessage(content='Nice to meet you, Bowen! How can I assist you today?', additional_kwargs={'refusal': None}, response_metadata={'token_usage': {'completion_tokens': 15, 'prompt_tokens': 92, 'total_tokens': 107, 'completion_tokens_details': {'accepted_prediction_tokens': 0, 'audio_tokens': 0, 'reasoning_tokens': 0, 'rejected_prediction_tokens': 0}, 'prompt_tokens_details': {'audio_tokens': 0, 'cached_tokens': 0}}, 'model_name': 'gpt-4o-mini-2024-07-18', 'system_fingerprint': 'fp_560af6e559', 'id': 'chatcmpl-CQ4ZJYsClWm8W4NlTSQqLgoAxU4AL', 'service_tier': 'default', 'finish_reason': 'stop', 'logprobs': None}, id='run--9b6e99fb-a3fd-46cb-8e64-b02105e4b038-0', usage_metadata={'input_tokens': 92, 'output_tokens': 15, 'total_tokens': 107, 'input_token_details': {'audio': 0, 'cache_read': 0}, 'output_token_details': {'audio': 0, 'reasoning': 0}})]}}, 'step': 1, 'parents': {}, 'thread_id': '1'}, created_at='2025-10-13T04:35:25.846647+00:00', parent_config={'configurable': {'thread_id': '1', 'checkpoint_ns': '', 'checkpoint_id': '1f0a7ee0-8d50-6ec2-8000-ad44f55ee960'}}, tasks=(), interrupts=()),\n",
       " StateSnapshot(values={'messages': [HumanMessage(content='My name is Bowen', additional_kwargs={}, response_metadata={}, id='edcf0951-e36a-4db2-aa5d-1e6619c01893')]}, next=('chatbot',), config={'configurable': {'thread_id': '1', 'checkpoint_ns': '', 'checkpoint_id': '1f0a7ee0-8d50-6ec2-8000-ad44f55ee960'}}, metadata={'source': 'loop', 'writes': None, 'step': 0, 'parents': {}, 'thread_id': '1'}, created_at='2025-10-13T04:35:24.072100+00:00', parent_config={'configurable': {'thread_id': '1', 'checkpoint_ns': '', 'checkpoint_id': '1f0a7ee0-8d4e-6226-bfff-07b416c1ee00'}}, tasks=(PregelTask(id='8f114695-9615-590c-4500-3db19c107ce7', name='chatbot', path=('__pregel_pull', 'chatbot'), error=None, interrupts=(), state=None, result={'messages': [AIMessage(content='Nice to meet you, Bowen! How can I assist you today?', additional_kwargs={'refusal': None}, response_metadata={'token_usage': {'completion_tokens': 15, 'prompt_tokens': 92, 'total_tokens': 107, 'completion_tokens_details': {'accepted_prediction_tokens': 0, 'audio_tokens': 0, 'reasoning_tokens': 0, 'rejected_prediction_tokens': 0}, 'prompt_tokens_details': {'audio_tokens': 0, 'cached_tokens': 0}}, 'model_name': 'gpt-4o-mini-2024-07-18', 'system_fingerprint': 'fp_560af6e559', 'id': 'chatcmpl-CQ4ZJYsClWm8W4NlTSQqLgoAxU4AL', 'service_tier': 'default', 'finish_reason': 'stop', 'logprobs': None}, id='run--9b6e99fb-a3fd-46cb-8e64-b02105e4b038-0', usage_metadata={'input_tokens': 92, 'output_tokens': 15, 'total_tokens': 107, 'input_token_details': {'audio': 0, 'cache_read': 0}, 'output_token_details': {'audio': 0, 'reasoning': 0}})]}),), interrupts=()),\n",
       " StateSnapshot(values={'messages': []}, next=('__start__',), config={'configurable': {'thread_id': '1', 'checkpoint_ns': '', 'checkpoint_id': '1f0a7ee0-8d4e-6226-bfff-07b416c1ee00'}}, metadata={'source': 'input', 'writes': {'__start__': {'messages': [{'role': 'user', 'content': 'My name is Bowen'}]}}, 'step': -1, 'parents': {}, 'thread_id': '1'}, created_at='2025-10-13T04:35:24.070963+00:00', parent_config=None, tasks=(PregelTask(id='c8763568-a6a0-108f-f1e6-a408864c758e', name='__start__', path=('__pregel_pull', '__start__'), error=None, interrupts=(), state=None, result={'messages': [{'role': 'user', 'content': 'My name is Bowen'}]}),), interrupts=())]"
      ]
     },
     "execution_count": 33,
     "metadata": {},
     "output_type": "execute_result"
    }
   ],
   "source": [
    "# Most recent first\n",
    "\n",
    "list(graph.get_state_history(config))"
   ]
  },
  {
   "cell_type": "markdown",
   "metadata": {},
   "source": [
    "### LangGraph gives you tools to set the state back to a prior point in time, to branch off:\n",
    "\n",
    "```\n",
    "config = {\"configurable\": {\"thread_id\": \"1\", \"checkpoint_id\": ...}}\n",
    "graph.invoke(None, config=config)\n",
    "```\n",
    "\n",
    "And this allows you to build stable systems that can be recovered and rerun from any prior checkpoint."
   ]
  },
  {
   "cell_type": "markdown",
   "metadata": {},
   "source": [
    "### And now let's store in SQL\n",
    "\n",
    "### And this is the power of LangGraph."
   ]
  },
  {
   "cell_type": "code",
   "execution_count": 3,
   "metadata": {},
   "outputs": [],
   "source": [
    "import sqlite3\n",
    "from langgraph.checkpoint.sqlite import SqliteSaver\n",
    "\n",
    "db_path = \"memory.db\"\n",
    "conn = sqlite3.connect(db_path, check_same_thread=False)\n",
    "sql_memory = SqliteSaver(conn)"
   ]
  },
  {
   "cell_type": "code",
   "execution_count": null,
   "metadata": {},
   "outputs": [],
   "source": [
    "# Steps 1 and 2\n",
    "graph_builder = StateGraph(State)\n",
    "\n",
    "\n",
    "# Step 3\n",
    "llm = ChatOpenAI(model=\"gpt-4o-mini\")\n",
    "llm_with_tools = llm.bind_tools(tools)\n",
    "\n",
    "def chatbot(state: State):\n",
    "    print(state)\n",
    "    return {\"messages\": [llm_with_tools.invoke(state[\"messages\"])]}\n",
    "\n",
    "graph_builder.add_node(\"chatbot\", chatbot)\n",
    "graph_builder.add_node(\"tools\", ToolNode(tools=tools))\n",
    "\n",
    "# Step 4\n",
    "graph_builder.add_conditional_edges( \"chatbot\", tools_condition, \"tools\")\n",
    "graph_builder.add_edge(\"tools\", \"chatbot\")\n",
    "graph_builder.add_edge(START, \"chatbot\")\n",
    "\n",
    "# Step 5\n",
    "graph = graph_builder.compile(checkpointer=sql_memory)\n",
    "display(Image(graph.get_graph().draw_mermaid_png()))\n",
    " "
   ]
  },
  {
   "cell_type": "code",
   "execution_count": null,
   "metadata": {},
   "outputs": [],
   "source": [
    "config = {\"configurable\": {\"thread_id\": \"3\"}}\n",
    "\n",
    "def chat(user_input: str, history):\n",
    "    result = graph.invoke({\"messages\": [{\"role\": \"user\", \"content\": user_input}]}, config=config)\n",
    "    return result[\"messages\"][-1].content\n",
    "\n",
    "\n",
    "gr.ChatInterface(chat, type=\"messages\").launch()"
   ]
  },
  {
   "cell_type": "code",
   "execution_count": null,
   "metadata": {},
   "outputs": [],
   "source": []
  }
 ],
 "metadata": {
  "kernelspec": {
   "display_name": "agents",
   "language": "python",
   "name": "python3"
  },
  "language_info": {
   "codemirror_mode": {
    "name": "ipython",
    "version": 3
   },
   "file_extension": ".py",
   "mimetype": "text/x-python",
   "name": "python",
   "nbconvert_exporter": "python",
   "pygments_lexer": "ipython3",
   "version": "3.12.11"
  }
 },
 "nbformat": 4,
 "nbformat_minor": 2
}
