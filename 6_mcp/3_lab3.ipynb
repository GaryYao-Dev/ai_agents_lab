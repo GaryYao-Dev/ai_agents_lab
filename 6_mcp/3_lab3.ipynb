{
 "cells": [
  {
   "cell_type": "markdown",
   "metadata": {},
   "source": [
    "### Welcome to Week 6 Day 3!\n",
    "\n",
    "Let's experiment with a bunch more MCP Servers"
   ]
  },
  {
   "cell_type": "code",
   "execution_count": 16,
   "metadata": {},
   "outputs": [
    {
     "data": {
      "text/plain": [
       "True"
      ]
     },
     "execution_count": 16,
     "metadata": {},
     "output_type": "execute_result"
    }
   ],
   "source": [
    "from dotenv import load_dotenv\n",
    "from agents import Agent, Runner, trace\n",
    "from agents.mcp import MCPServerStdio\n",
    "import os\n",
    "from IPython.display import Markdown, display\n",
    "from datetime import datetime\n",
    "load_dotenv(override=True)"
   ]
  },
  {
   "cell_type": "markdown",
   "metadata": {},
   "source": [
    "### The first type of MCP Server: runs locally, everything local\n",
    "\n",
    "Here's a really interesting one: a knowledge-graph based memory.\n",
    "\n",
    "It's a persistent memory store of entities, observations about them, and relationships between them.\n",
    "\n",
    "https://github.com/modelcontextprotocol/servers/tree/main/src/memory\n"
   ]
  },
  {
   "cell_type": "code",
   "execution_count": 9,
   "metadata": {},
   "outputs": [
    {
     "data": {
      "text/plain": [
       "[Tool(name='create_entities', title='Create new entities with observations', description='Create new entities with observations', inputSchema={'$schema': 'http://json-schema.org/draft-07/schema#', 'type': 'object', 'properties': {'entities': {'type': 'array', 'items': {'type': 'object', 'properties': {'name': {'type': 'string'}, 'entityType': {'type': 'string'}, 'observations': {'type': 'array', 'items': {'type': 'string'}}}, 'required': ['name', 'entityType', 'observations']}}}, 'required': ['entities']}, outputSchema=None, icons=None, annotations=None, meta=None),\n",
       " Tool(name='search_nodes', title='Search for entities and their relations using text search with relevance ranking', description='Search for entities and their relations using text search with relevance ranking', inputSchema={'$schema': 'http://json-schema.org/draft-07/schema#', 'type': 'object', 'properties': {'query': {'type': 'string'}, 'limit': {'type': 'number'}}, 'required': ['query']}, outputSchema=None, icons=None, annotations=None, meta=None),\n",
       " Tool(name='read_graph', title='Get recent entities and their relations', description='Get recent entities and their relations', inputSchema={'type': 'object', 'properties': {}}, outputSchema=None, icons=None, annotations=None, meta=None),\n",
       " Tool(name='create_relations', title='Create relations between entities', description='Create relations between entities', inputSchema={'$schema': 'http://json-schema.org/draft-07/schema#', 'type': 'object', 'properties': {'relations': {'type': 'array', 'items': {'type': 'object', 'properties': {'source': {'type': 'string'}, 'target': {'type': 'string'}, 'type': {'type': 'string'}}, 'required': ['source', 'target', 'type']}}}, 'required': ['relations']}, outputSchema=None, icons=None, annotations=None, meta=None),\n",
       " Tool(name='delete_entity', title='Delete an entity and all its associated data (observations and relations)', description='Delete an entity and all its associated data (observations and relations)', inputSchema={'$schema': 'http://json-schema.org/draft-07/schema#', 'type': 'object', 'properties': {'name': {'type': 'string'}}, 'required': ['name']}, outputSchema=None, icons=None, annotations=None, meta=None),\n",
       " Tool(name='delete_relation', title='Delete a specific relation between entities', description='Delete a specific relation between entities', inputSchema={'$schema': 'http://json-schema.org/draft-07/schema#', 'type': 'object', 'properties': {'source': {'type': 'string'}, 'target': {'type': 'string'}, 'type': {'type': 'string'}}, 'required': ['source', 'target', 'type']}, outputSchema=None, icons=None, annotations=None, meta=None)]"
      ]
     },
     "execution_count": 9,
     "metadata": {},
     "output_type": "execute_result"
    }
   ],
   "source": [
    "params = {\"command\": \"npx\",\"args\": [\"-y\", \"mcp-memory-libsql\"],\"env\": {\"LIBSQL_URL\": \"file:./memory/new.db\"}}\n",
    "\n",
    "async with MCPServerStdio(params=params, client_session_timeout_seconds=30) as server:\n",
    "    mcp_tools = await server.list_tools()\n",
    "\n",
    "mcp_tools"
   ]
  },
  {
   "cell_type": "code",
   "execution_count": 13,
   "metadata": {},
   "outputs": [],
   "source": [
    "instructions = \"You use your entity tools as a persistent memory to store and recall information about your conversations.\"\n",
    "request = \"My name's Ed. I'm an LLM engineer. I'm teaching a course about AI Agents, including the incredible MCP protocol. \\\n",
    "MCP is a protocol for connecting agents with tools, resources and prompt templates, and makes it easy to integrate AI agents with capabilities.\"\n",
    "model = \"gpt-4o-mini\""
   ]
  },
  {
   "cell_type": "code",
   "execution_count": 14,
   "metadata": {},
   "outputs": [
    {
     "data": {
      "text/markdown": [
       "I've noted your information, Ed. You're an LLM engineer teaching a course on AI Agents, and you mentioned the MCP protocol, which connects agents with various tools and resources. If you need any assistance with your course or related topics, feel free to ask!"
      ],
      "text/plain": [
       "<IPython.core.display.Markdown object>"
      ]
     },
     "metadata": {},
     "output_type": "display_data"
    }
   ],
   "source": [
    "async with MCPServerStdio(params=params, client_session_timeout_seconds=30) as mcp_server:\n",
    "    agent = Agent(name=\"agent\", instructions=instructions, model=model, mcp_servers=[mcp_server])\n",
    "    with trace(\"conversation\"):\n",
    "        result = await Runner.run(agent, request)\n",
    "    display(Markdown(result.final_output))"
   ]
  },
  {
   "cell_type": "code",
   "execution_count": 15,
   "metadata": {},
   "outputs": [
    {
     "data": {
      "text/markdown": [
       "I have the following information about you, Ed:\n",
       "\n",
       "- **Profession**: LLM engineer\n",
       "- **Current Activity**: Teaching a course about AI Agents\n",
       "- **Discussion Topics**: Discussing the MCP protocol\n",
       "\n",
       "If there's anything else you'd like to add or modify, let me know!"
      ],
      "text/plain": [
       "<IPython.core.display.Markdown object>"
      ]
     },
     "metadata": {},
     "output_type": "display_data"
    }
   ],
   "source": [
    "async with MCPServerStdio(params=params, client_session_timeout_seconds=30) as mcp_server:\n",
    "    agent = Agent(name=\"agent\", instructions=instructions, model=model, mcp_servers=[mcp_server])\n",
    "    with trace(\"conversation\"):\n",
    "        result = await Runner.run(agent, \"My name's Ed. What do you know about me?\")\n",
    "    display(Markdown(result.final_output))"
   ]
  },
  {
   "cell_type": "markdown",
   "metadata": {},
   "source": [
    "### Check the trace:\n",
    "\n",
    "https://platform.openai.com/traces"
   ]
  },
  {
   "cell_type": "markdown",
   "metadata": {},
   "source": [
    "### The 2nd type of MCP server - runs locally, calls a web service\n",
    "\n",
    "### Brave Search - apologies - this will need another API key! But it's free again.\n",
    "\n",
    "https://brave.com/search/api/\n",
    "\n",
    "Set up your account, and put your key in the .env under `BRAVE_API_KEY`"
   ]
  },
  {
   "cell_type": "code",
   "execution_count": 17,
   "metadata": {},
   "outputs": [
    {
     "data": {
      "text/plain": [
       "[Tool(name='brave_web_search', title=None, description='Performs a web search using the Brave Search API, ideal for general queries, news, articles, and online content. Use this for broad information gathering, recent events, or when you need diverse web sources. Supports pagination, content filtering, and freshness controls. Maximum 20 results per request, with offset for pagination. ', inputSchema={'type': 'object', 'properties': {'query': {'type': 'string', 'description': 'Search query (max 400 chars, 50 words)'}, 'count': {'type': 'number', 'description': 'Number of results (1-20, default 10)', 'default': 10}, 'offset': {'type': 'number', 'description': 'Pagination offset (max 9, default 0)', 'default': 0}}, 'required': ['query']}, outputSchema=None, icons=None, annotations=None, meta=None),\n",
       " Tool(name='brave_local_search', title=None, description=\"Searches for local businesses and places using Brave's Local Search API. Best for queries related to physical locations, businesses, restaurants, services, etc. Returns detailed information including:\\n- Business names and addresses\\n- Ratings and review counts\\n- Phone numbers and opening hours\\nUse this when the query implies 'near me' or mentions specific locations. Automatically falls back to web search if no local results are found.\", inputSchema={'type': 'object', 'properties': {'query': {'type': 'string', 'description': \"Local search query (e.g. 'pizza near Central Park')\"}, 'count': {'type': 'number', 'description': 'Number of results (1-20, default 5)', 'default': 5}}, 'required': ['query']}, outputSchema=None, icons=None, annotations=None, meta=None)]"
      ]
     },
     "execution_count": 17,
     "metadata": {},
     "output_type": "execute_result"
    }
   ],
   "source": [
    "env = {\"BRAVE_API_KEY\": os.getenv(\"BRAVE_API_KEY\")}\n",
    "params = {\"command\": \"npx\", \"args\": [\"-y\", \"@modelcontextprotocol/server-brave-search\"], \"env\": env}\n",
    "\n",
    "async with MCPServerStdio(params=params, client_session_timeout_seconds=30) as server:\n",
    "    mcp_tools = await server.list_tools()\n",
    "\n",
    "mcp_tools"
   ]
  },
  {
   "cell_type": "code",
   "execution_count": 18,
   "metadata": {},
   "outputs": [],
   "source": [
    "instructions = \"You are able to search the web for information and briefly summarize the takeaways.\"\n",
    "request = f\"Please research the latest news on Amazon stock price and briefly summarize its outlook. \\\n",
    "For context, the current date is {datetime.now().strftime('%Y-%m-%d')}\"\n",
    "model = \"gpt-4o-mini\""
   ]
  },
  {
   "cell_type": "code",
   "execution_count": 19,
   "metadata": {},
   "outputs": [
    {
     "data": {
      "text/markdown": [
       "As of late October 2025, Amazon's stock outlook shows a mixed picture:\n",
       "\n",
       "1. **Current Price Trends**: Amazon's stock is forecasted to be around **$226.97** for the immediate future, indicating a modest increase from its recent price of approximately **$227**.\n",
       "\n",
       "2. **Analyst Ratings**: There is a favorable consensus among analysts, with a strong buy rating and an average price target of **$266.43**. This implies an anticipated **15.62% increase** in the stock price.\n",
       "\n",
       "3. **Long-Term Projections**: Forecasts suggest that by the end of 2030, Amazon's stock could reach **$524.67**, contingent on a **10% year-over-year revenue growth** despite expected challenges in profit margins due to increased competition, particularly within its AWS segment.\n",
       "\n",
       "4. **Recent Volatility**: The stock has faced volatility, including a nearly **10% drop** in early August and a **5% decline** in early October as part of a broader tech sell-off.\n",
       "\n",
       "### Summary:\n",
       "Overall, while Amazon's short-term outlook is cautious due to recent volatility, analysts remain optimistic about its long-term growth potential, general market sentiment leaning towards a \"strong buy\" recommendation."
      ],
      "text/plain": [
       "<IPython.core.display.Markdown object>"
      ]
     },
     "metadata": {},
     "output_type": "display_data"
    }
   ],
   "source": [
    "async with MCPServerStdio(params=params, client_session_timeout_seconds=30) as mcp_server:\n",
    "    agent = Agent(name=\"agent\", instructions=instructions, model=model, mcp_servers=[mcp_server])\n",
    "    with trace(\"conversation\"):\n",
    "        result = await Runner.run(agent, request)\n",
    "    display(Markdown(result.final_output))"
   ]
  },
  {
   "cell_type": "markdown",
   "metadata": {},
   "source": [
    "### As usual, check out the trace:\n",
    "\n",
    "https://platform.openai.com/traces"
   ]
  },
  {
   "cell_type": "markdown",
   "metadata": {},
   "source": [
    "## And now the third type: running remotely\n",
    "\n",
    "It's actually really hard to find a \"remote MCP server\" aka \"hosted MCP server\" aka \"managed MCP server\".\n",
    "\n",
    "It's not a common model for using or sharing MCP servers, and there isn't a standard way to discover remote MCP servers.\n",
    "\n",
    "Anthropic lists some remote MCP servers, but these are for paid applications with business users:\n",
    "\n",
    "https://docs.anthropic.com/en/docs/agents-and-tools/remote-mcp-servers\n",
    "\n",
    "CloudFlare has tooling for you to create and deploy your own remote MCP servers, but this does not seem to be a common practice:\n",
    "\n",
    "https://developers.cloudflare.com/agents/guides/remote-mcp-server/\n"
   ]
  },
  {
   "cell_type": "markdown",
   "metadata": {},
   "source": [
    "# And back to the 2nd type: the Polygon.io MCP Server"
   ]
  },
  {
   "cell_type": "markdown",
   "metadata": {},
   "source": [
    "<table style=\"margin: 0; text-align: left; width:100%\">\n",
    "    <tr>\n",
    "        <td style=\"width: 150px; height: 150px; vertical-align: middle;\">\n",
    "            <img src=\"../assets/stop.png\" width=\"150\" height=\"150\" style=\"display: block;\" />\n",
    "        </td>\n",
    "        <td>\n",
    "            <h2 style=\"color:#ff7800;\">PLEASE READ!!-</h2>\n",
    "            <span style=\"color:#ff7800;\">This service for financial market data has both a FREE plan and a PAID plan, and we can use either depending on your appetite.\n",
    "            </span>\n",
    "        </td>\n",
    "    </tr>\n",
    "</table>"
   ]
  },
  {
   "cell_type": "markdown",
   "metadata": {},
   "source": [
    "## NEW SECTION: Introducing polygon.io\n",
    "\n",
    "Polygon.io is a hugely popular financial data provider. It has a free plan and a paid plan. And it also has an MCP Server!\n",
    "\n",
    "First, read up on polygon.io on their excellent website, including looking at their pricing:\n",
    "\n",
    "https://polygon.io\n",
    "\n",
    "### Polygon.io Part 1: Polygon.io free service (the paid will be totally optional, of course!)\n",
    "\n",
    "1. Please sign up for polygon.io (top right)  \n",
    "2. Once signed in, please select \"Keys\" in the left hand navigation\n",
    "3. Press the blue \"New Key\" button\n",
    "4. Copy the key name\n",
    "5. Edit your .env file and add the row:\n",
    "\n",
    "`POLYGON_API_KEY=xxxx`"
   ]
  },
  {
   "cell_type": "code",
   "execution_count": 20,
   "metadata": {},
   "outputs": [],
   "source": [
    "load_dotenv(override=True)\n",
    "polygon_api_key = os.getenv(\"POLYGON_API_KEY\")\n",
    "if not polygon_api_key:\n",
    "    print(\"POLYGON_API_KEY is not set\")"
   ]
  },
  {
   "cell_type": "code",
   "execution_count": 25,
   "metadata": {},
   "outputs": [
    {
     "data": {
      "text/plain": [
       "PreviousCloseAgg(ticker='AAPL', close=269.7, high=271.41, low=267.11, open=269.275, timestamp=1761768000000, volume=51074415.0, vwap=269.5125)"
      ]
     },
     "execution_count": 25,
     "metadata": {},
     "output_type": "execute_result"
    }
   ],
   "source": [
    "from polygon import RESTClient\n",
    "client = RESTClient(polygon_api_key)\n",
    "client.get_previous_close_agg(\"AAPL\")[0]"
   ]
  },
  {
   "cell_type": "markdown",
   "metadata": {},
   "source": [
    "### Wrapped into a python module that caches end of day prices\n",
    "\n",
    "I've made a python module `market.py` that uses this API to look up share prices.\n",
    "\n",
    "But the free API is quite heavily rate limited - so I've been a bit sneaky; when you ask for a share price, this function retrieves the entire end-of-day equity market, and caches it in our database.\n"
   ]
  },
  {
   "cell_type": "code",
   "execution_count": 29,
   "metadata": {},
   "outputs": [
    {
     "name": "stdout",
     "output_type": "stream",
     "text": [
      "Was not able to use the polygon API due to {\"status\":\"NOT_AUTHORIZED\",\"request_id\":\"933cbf9e6ecf8bd1b64ba05377b90335\",\"message\":\"Attempted to request today's data before end of day. Please upgrade your plan at https://polygon.io/pricing\"}; using a random number\n"
     ]
    },
    {
     "data": {
      "text/plain": [
       "15.0"
      ]
     },
     "execution_count": 29,
     "metadata": {},
     "output_type": "execute_result"
    }
   ],
   "source": [
    "from market import get_share_price\n",
    "get_share_price(\"AAPL\")"
   ]
  },
  {
   "cell_type": "code",
   "execution_count": 23,
   "metadata": {},
   "outputs": [
    {
     "name": "stdout",
     "output_type": "stream",
     "text": [
      "Was not able to use the polygon API due to {\"status\":\"NOT_AUTHORIZED\",\"request_id\":\"47ad775ecc620e180eac6befefaada33\",\"message\":\"Attempted to request today's data before end of day. Please upgrade your plan at https://polygon.io/pricing\"}; using a random number\n",
      "Was not able to use the polygon API due to HTTPSConnectionPool(host='api.polygon.io', port=443): Max retries exceeded with url: /v2/aggs/grouped/locale/us/market/stocks/2025-10-29?adjusted=true&locale=us&market_type=stocks&include_otc=false (Caused by ResponseError('too many 429 error responses')); using a random number\n",
      "Was not able to use the polygon API due to HTTPSConnectionPool(host='api.polygon.io', port=443): Max retries exceeded with url: /v2/aggs/ticker/SPY/prev (Caused by ResponseError('too many 429 error responses')); using a random number\n",
      "Was not able to use the polygon API due to HTTPSConnectionPool(host='api.polygon.io', port=443): Max retries exceeded with url: /v2/aggs/ticker/SPY/prev (Caused by ResponseError('too many 429 error responses')); using a random number\n",
      "Was not able to use the polygon API due to HTTPSConnectionPool(host='api.polygon.io', port=443): Max retries exceeded with url: /v2/aggs/ticker/SPY/prev (Caused by ResponseError('too many 429 error responses')); using a random number\n",
      "Was not able to use the polygon API due to HTTPSConnectionPool(host='api.polygon.io', port=443): Max retries exceeded with url: /v2/aggs/ticker/SPY/prev (Caused by ResponseError('too many 429 error responses')); using a random number\n",
      "Was not able to use the polygon API due to HTTPSConnectionPool(host='api.polygon.io', port=443): Max retries exceeded with url: /v2/aggs/ticker/SPY/prev (Caused by ResponseError('too many 429 error responses')); using a random number\n",
      "Was not able to use the polygon API due to HTTPSConnectionPool(host='api.polygon.io', port=443): Max retries exceeded with url: /v2/aggs/ticker/SPY/prev (Caused by ResponseError('too many 429 error responses')); using a random number\n",
      "Was not able to use the polygon API due to HTTPSConnectionPool(host='api.polygon.io', port=443): Max retries exceeded with url: /v2/aggs/ticker/SPY/prev (Caused by ResponseError('too many 429 error responses')); using a random number\n",
      "Was not able to use the polygon API due to HTTPSConnectionPool(host='api.polygon.io', port=443): Max retries exceeded with url: /v2/aggs/ticker/SPY/prev (Caused by ResponseError('too many 429 error responses')); using a random number\n",
      "Was not able to use the polygon API due to HTTPSConnectionPool(host='api.polygon.io', port=443): Max retries exceeded with url: /v2/aggs/ticker/SPY/prev (Caused by ResponseError('too many 429 error responses')); using a random number\n",
      "Was not able to use the polygon API due to HTTPSConnectionPool(host='api.polygon.io', port=443): Max retries exceeded with url: /v2/aggs/ticker/SPY/prev (Caused by ResponseError('too many 429 error responses')); using a random number\n",
      "Was not able to use the polygon API due to HTTPSConnectionPool(host='api.polygon.io', port=443): Max retries exceeded with url: /v2/aggs/ticker/SPY/prev (Caused by ResponseError('too many 429 error responses')); using a random number\n",
      "Was not able to use the polygon API due to HTTPSConnectionPool(host='api.polygon.io', port=443): Max retries exceeded with url: /v2/aggs/ticker/SPY/prev (Caused by ResponseError('too many 429 error responses')); using a random number\n",
      "Was not able to use the polygon API due to HTTPSConnectionPool(host='api.polygon.io', port=443): Max retries exceeded with url: /v2/aggs/ticker/SPY/prev (Caused by ResponseError('too many 429 error responses')); using a random number\n",
      "Was not able to use the polygon API due to HTTPSConnectionPool(host='api.polygon.io', port=443): Max retries exceeded with url: /v2/aggs/ticker/SPY/prev (Caused by ResponseError('too many 429 error responses')); using a random number\n"
     ]
    },
    {
     "ename": "KeyboardInterrupt",
     "evalue": "",
     "output_type": "error",
     "traceback": [
      "\u001b[31m---------------------------------------------------------------------------\u001b[39m",
      "\u001b[31mKeyboardInterrupt\u001b[39m                         Traceback (most recent call last)",
      "\u001b[36mCell\u001b[39m\u001b[36m \u001b[39m\u001b[32mIn[23]\u001b[39m\u001b[32m, line 4\u001b[39m\n\u001b[32m      1\u001b[39m \u001b[38;5;66;03m# no rate limiting concerns!\u001b[39;00m\n\u001b[32m      3\u001b[39m \u001b[38;5;28;01mfor\u001b[39;00m i \u001b[38;5;129;01min\u001b[39;00m \u001b[38;5;28mrange\u001b[39m(\u001b[32m1000\u001b[39m):\n\u001b[32m----> \u001b[39m\u001b[32m4\u001b[39m     \u001b[43mget_share_price\u001b[49m\u001b[43m(\u001b[49m\u001b[33;43m\"\u001b[39;49m\u001b[33;43mAAPL\u001b[39;49m\u001b[33;43m\"\u001b[39;49m\u001b[43m)\u001b[49m\n\u001b[32m      5\u001b[39m get_share_price(\u001b[33m\"\u001b[39m\u001b[33mAAPL\u001b[39m\u001b[33m\"\u001b[39m)\n",
      "\u001b[36mFile \u001b[39m\u001b[32m~/Nextcloud/Project/Udemy/agents/6_mcp/market.py:67\u001b[39m, in \u001b[36mget_share_price\u001b[39m\u001b[34m(symbol)\u001b[39m\n\u001b[32m     65\u001b[39m \u001b[38;5;28;01mif\u001b[39;00m polygon_api_key:\n\u001b[32m     66\u001b[39m     \u001b[38;5;28;01mtry\u001b[39;00m:\n\u001b[32m---> \u001b[39m\u001b[32m67\u001b[39m         \u001b[38;5;28;01mreturn\u001b[39;00m \u001b[43mget_share_price_polygon\u001b[49m\u001b[43m(\u001b[49m\u001b[43msymbol\u001b[49m\u001b[43m)\u001b[49m\n\u001b[32m     68\u001b[39m     \u001b[38;5;28;01mexcept\u001b[39;00m \u001b[38;5;167;01mException\u001b[39;00m \u001b[38;5;28;01mas\u001b[39;00m e:\n\u001b[32m     69\u001b[39m         \u001b[38;5;28mprint\u001b[39m(\u001b[33mf\u001b[39m\u001b[33m\"\u001b[39m\u001b[33mWas not able to use the polygon API due to \u001b[39m\u001b[38;5;132;01m{\u001b[39;00me\u001b[38;5;132;01m}\u001b[39;00m\u001b[33m; using a random number\u001b[39m\u001b[33m\"\u001b[39m)\n",
      "\u001b[36mFile \u001b[39m\u001b[32m~/Nextcloud/Project/Udemy/agents/6_mcp/market.py:61\u001b[39m, in \u001b[36mget_share_price_polygon\u001b[39m\u001b[34m(symbol)\u001b[39m\n\u001b[32m     59\u001b[39m     \u001b[38;5;28;01mreturn\u001b[39;00m get_share_price_polygon_min(symbol)\n\u001b[32m     60\u001b[39m \u001b[38;5;28;01melse\u001b[39;00m:\n\u001b[32m---> \u001b[39m\u001b[32m61\u001b[39m     \u001b[38;5;28;01mreturn\u001b[39;00m \u001b[43mget_share_price_polygon_eod\u001b[49m\u001b[43m(\u001b[49m\u001b[43msymbol\u001b[49m\u001b[43m)\u001b[49m\n",
      "\u001b[36mFile \u001b[39m\u001b[32m~/Nextcloud/Project/Udemy/agents/6_mcp/market.py:47\u001b[39m, in \u001b[36mget_share_price_polygon_eod\u001b[39m\u001b[34m(symbol)\u001b[39m\n\u001b[32m     45\u001b[39m \u001b[38;5;28;01mdef\u001b[39;00m\u001b[38;5;250m \u001b[39m\u001b[34mget_share_price_polygon_eod\u001b[39m(symbol) -> \u001b[38;5;28mfloat\u001b[39m:\n\u001b[32m     46\u001b[39m     today = datetime.now().date().strftime(\u001b[33m\"\u001b[39m\u001b[33m%\u001b[39m\u001b[33mY-\u001b[39m\u001b[33m%\u001b[39m\u001b[33mm-\u001b[39m\u001b[38;5;132;01m%d\u001b[39;00m\u001b[33m\"\u001b[39m)\n\u001b[32m---> \u001b[39m\u001b[32m47\u001b[39m     market_data = \u001b[43mget_market_for_prior_date\u001b[49m\u001b[43m(\u001b[49m\u001b[43mtoday\u001b[49m\u001b[43m)\u001b[49m\n\u001b[32m     48\u001b[39m     \u001b[38;5;28;01mreturn\u001b[39;00m market_data.get(symbol, \u001b[32m0.0\u001b[39m)\n",
      "\u001b[36mFile \u001b[39m\u001b[32m~/Nextcloud/Project/Udemy/agents/6_mcp/market.py:40\u001b[39m, in \u001b[36mget_market_for_prior_date\u001b[39m\u001b[34m(today)\u001b[39m\n\u001b[32m     38\u001b[39m market_data = read_market(today)\n\u001b[32m     39\u001b[39m \u001b[38;5;28;01mif\u001b[39;00m \u001b[38;5;129;01mnot\u001b[39;00m market_data:\n\u001b[32m---> \u001b[39m\u001b[32m40\u001b[39m     market_data = \u001b[43mget_all_share_prices_polygon_eod\u001b[49m\u001b[43m(\u001b[49m\u001b[43m)\u001b[49m\n\u001b[32m     41\u001b[39m     write_market(today, market_data)\n\u001b[32m     42\u001b[39m \u001b[38;5;28;01mreturn\u001b[39;00m market_data\n",
      "\u001b[36mFile \u001b[39m\u001b[32m~/Nextcloud/Project/Udemy/agents/6_mcp/market.py:29\u001b[39m, in \u001b[36mget_all_share_prices_polygon_eod\u001b[39m\u001b[34m()\u001b[39m\n\u001b[32m     26\u001b[39m \u001b[38;5;250m\u001b[39m\u001b[33;03m\"\"\"With much thanks to student Reema R. for fixing the timezone issue with this!\"\"\"\u001b[39;00m\n\u001b[32m     27\u001b[39m client = RESTClient(polygon_api_key)\n\u001b[32m---> \u001b[39m\u001b[32m29\u001b[39m probe = \u001b[43mclient\u001b[49m\u001b[43m.\u001b[49m\u001b[43mget_previous_close_agg\u001b[49m\u001b[43m(\u001b[49m\u001b[33;43m\"\u001b[39;49m\u001b[33;43mSPY\u001b[39;49m\u001b[33;43m\"\u001b[39;49m\u001b[43m)\u001b[49m[\u001b[32m0\u001b[39m]\n\u001b[32m     30\u001b[39m last_close = datetime.fromtimestamp(probe.timestamp / \u001b[32m1000\u001b[39m, tz=timezone.utc).date()\n\u001b[32m     32\u001b[39m results = client.get_grouped_daily_aggs(last_close, adjusted=\u001b[38;5;28;01mTrue\u001b[39;00m, include_otc=\u001b[38;5;28;01mFalse\u001b[39;00m)\n",
      "\u001b[36mFile \u001b[39m\u001b[32m~/Nextcloud/Project/Udemy/agents/.venv/lib/python3.12/site-packages/polygon/rest/aggs.py:183\u001b[39m, in \u001b[36mAggsClient.get_previous_close_agg\u001b[39m\u001b[34m(self, ticker, adjusted, params, raw, options)\u001b[39m\n\u001b[32m    172\u001b[39m \u001b[38;5;250m\u001b[39m\u001b[33;03m\"\"\"\u001b[39;00m\n\u001b[32m    173\u001b[39m \u001b[33;03mGet the previous day's open, high, low, and close (OHLC) for the specified stock ticker.\u001b[39;00m\n\u001b[32m    174\u001b[39m \n\u001b[32m   (...)\u001b[39m\u001b[32m    179\u001b[39m \u001b[33;03m:return: Previous close aggregate\u001b[39;00m\n\u001b[32m    180\u001b[39m \u001b[33;03m\"\"\"\u001b[39;00m\n\u001b[32m    181\u001b[39m url = \u001b[33mf\u001b[39m\u001b[33m\"\u001b[39m\u001b[33m/v2/aggs/ticker/\u001b[39m\u001b[38;5;132;01m{\u001b[39;00mticker\u001b[38;5;132;01m}\u001b[39;00m\u001b[33m/prev\u001b[39m\u001b[33m\"\u001b[39m\n\u001b[32m--> \u001b[39m\u001b[32m183\u001b[39m \u001b[38;5;28;01mreturn\u001b[39;00m \u001b[38;5;28;43mself\u001b[39;49m\u001b[43m.\u001b[49m\u001b[43m_get\u001b[49m\u001b[43m(\u001b[49m\n\u001b[32m    184\u001b[39m \u001b[43m    \u001b[49m\u001b[43mpath\u001b[49m\u001b[43m=\u001b[49m\u001b[43murl\u001b[49m\u001b[43m,\u001b[49m\n\u001b[32m    185\u001b[39m \u001b[43m    \u001b[49m\u001b[43mparams\u001b[49m\u001b[43m=\u001b[49m\u001b[38;5;28;43mself\u001b[39;49m\u001b[43m.\u001b[49m\u001b[43m_get_params\u001b[49m\u001b[43m(\u001b[49m\u001b[38;5;28;43mself\u001b[39;49m\u001b[43m.\u001b[49m\u001b[43mget_previous_close_agg\u001b[49m\u001b[43m,\u001b[49m\u001b[43m \u001b[49m\u001b[38;5;28;43mlocals\u001b[39;49m\u001b[43m(\u001b[49m\u001b[43m)\u001b[49m\u001b[43m)\u001b[49m\u001b[43m,\u001b[49m\n\u001b[32m    186\u001b[39m \u001b[43m    \u001b[49m\u001b[43mresult_key\u001b[49m\u001b[43m=\u001b[49m\u001b[33;43m\"\u001b[39;49m\u001b[33;43mresults\u001b[39;49m\u001b[33;43m\"\u001b[39;49m\u001b[43m,\u001b[49m\n\u001b[32m    187\u001b[39m \u001b[43m    \u001b[49m\u001b[43mdeserializer\u001b[49m\u001b[43m=\u001b[49m\u001b[43mPreviousCloseAgg\u001b[49m\u001b[43m.\u001b[49m\u001b[43mfrom_dict\u001b[49m\u001b[43m,\u001b[49m\n\u001b[32m    188\u001b[39m \u001b[43m    \u001b[49m\u001b[43mraw\u001b[49m\u001b[43m=\u001b[49m\u001b[43mraw\u001b[49m\u001b[43m,\u001b[49m\n\u001b[32m    189\u001b[39m \u001b[43m    \u001b[49m\u001b[43moptions\u001b[49m\u001b[43m=\u001b[49m\u001b[43moptions\u001b[49m\u001b[43m,\u001b[49m\n\u001b[32m    190\u001b[39m \u001b[43m\u001b[49m\u001b[43m)\u001b[49m\n",
      "\u001b[36mFile \u001b[39m\u001b[32m~/Nextcloud/Project/Udemy/agents/.venv/lib/python3.12/site-packages/polygon/rest/base.py:119\u001b[39m, in \u001b[36mBaseClient._get\u001b[39m\u001b[34m(self, path, params, result_key, deserializer, raw, options)\u001b[39m\n\u001b[32m    116\u001b[39m     \u001b[38;5;28mprint\u001b[39m(\u001b[33mf\u001b[39m\u001b[33m\"\u001b[39m\u001b[33mRequest URL: \u001b[39m\u001b[38;5;132;01m{\u001b[39;00mfull_url\u001b[38;5;132;01m}\u001b[39;00m\u001b[33m\"\u001b[39m)\n\u001b[32m    117\u001b[39m     \u001b[38;5;28mprint\u001b[39m(\u001b[33mf\u001b[39m\u001b[33m\"\u001b[39m\u001b[33mRequest Headers: \u001b[39m\u001b[38;5;132;01m{\u001b[39;00mprint_headers\u001b[38;5;132;01m}\u001b[39;00m\u001b[33m\"\u001b[39m)\n\u001b[32m--> \u001b[39m\u001b[32m119\u001b[39m resp = \u001b[38;5;28;43mself\u001b[39;49m\u001b[43m.\u001b[49m\u001b[43mclient\u001b[49m\u001b[43m.\u001b[49m\u001b[43mrequest\u001b[49m\u001b[43m(\u001b[49m\n\u001b[32m    120\u001b[39m \u001b[43m    \u001b[49m\u001b[33;43m\"\u001b[39;49m\u001b[33;43mGET\u001b[39;49m\u001b[33;43m\"\u001b[39;49m\u001b[43m,\u001b[49m\n\u001b[32m    121\u001b[39m \u001b[43m    \u001b[49m\u001b[38;5;28;43mself\u001b[39;49m\u001b[43m.\u001b[49m\u001b[43mBASE\u001b[49m\u001b[43m \u001b[49m\u001b[43m+\u001b[49m\u001b[43m \u001b[49m\u001b[43mpath\u001b[49m\u001b[43m,\u001b[49m\n\u001b[32m    122\u001b[39m \u001b[43m    \u001b[49m\u001b[43mfields\u001b[49m\u001b[43m=\u001b[49m\u001b[43mparams\u001b[49m\u001b[43m,\u001b[49m\n\u001b[32m    123\u001b[39m \u001b[43m    \u001b[49m\u001b[43mheaders\u001b[49m\u001b[43m=\u001b[49m\u001b[43mheaders\u001b[49m\u001b[43m,\u001b[49m\n\u001b[32m    124\u001b[39m \u001b[43m\u001b[49m\u001b[43m)\u001b[49m\n\u001b[32m    126\u001b[39m \u001b[38;5;28;01mif\u001b[39;00m \u001b[38;5;28mself\u001b[39m.trace:\n\u001b[32m    127\u001b[39m     resp_headers_dict = \u001b[38;5;28mdict\u001b[39m(resp.headers.items())\n",
      "\u001b[36mFile \u001b[39m\u001b[32m~/Nextcloud/Project/Udemy/agents/.venv/lib/python3.12/site-packages/urllib3/_request_methods.py:135\u001b[39m, in \u001b[36mRequestMethods.request\u001b[39m\u001b[34m(self, method, url, body, fields, headers, json, **urlopen_kw)\u001b[39m\n\u001b[32m    132\u001b[39m     urlopen_kw[\u001b[33m\"\u001b[39m\u001b[33mbody\u001b[39m\u001b[33m\"\u001b[39m] = body\n\u001b[32m    134\u001b[39m \u001b[38;5;28;01mif\u001b[39;00m method \u001b[38;5;129;01min\u001b[39;00m \u001b[38;5;28mself\u001b[39m._encode_url_methods:\n\u001b[32m--> \u001b[39m\u001b[32m135\u001b[39m     \u001b[38;5;28;01mreturn\u001b[39;00m \u001b[38;5;28;43mself\u001b[39;49m\u001b[43m.\u001b[49m\u001b[43mrequest_encode_url\u001b[49m\u001b[43m(\u001b[49m\n\u001b[32m    136\u001b[39m \u001b[43m        \u001b[49m\u001b[43mmethod\u001b[49m\u001b[43m,\u001b[49m\n\u001b[32m    137\u001b[39m \u001b[43m        \u001b[49m\u001b[43murl\u001b[49m\u001b[43m,\u001b[49m\n\u001b[32m    138\u001b[39m \u001b[43m        \u001b[49m\u001b[43mfields\u001b[49m\u001b[43m=\u001b[49m\u001b[43mfields\u001b[49m\u001b[43m,\u001b[49m\u001b[43m  \u001b[49m\u001b[38;5;66;43;03m# type: ignore[arg-type]\u001b[39;49;00m\n\u001b[32m    139\u001b[39m \u001b[43m        \u001b[49m\u001b[43mheaders\u001b[49m\u001b[43m=\u001b[49m\u001b[43mheaders\u001b[49m\u001b[43m,\u001b[49m\n\u001b[32m    140\u001b[39m \u001b[43m        \u001b[49m\u001b[43m*\u001b[49m\u001b[43m*\u001b[49m\u001b[43murlopen_kw\u001b[49m\u001b[43m,\u001b[49m\n\u001b[32m    141\u001b[39m \u001b[43m    \u001b[49m\u001b[43m)\u001b[49m\n\u001b[32m    142\u001b[39m \u001b[38;5;28;01melse\u001b[39;00m:\n\u001b[32m    143\u001b[39m     \u001b[38;5;28;01mreturn\u001b[39;00m \u001b[38;5;28mself\u001b[39m.request_encode_body(\n\u001b[32m    144\u001b[39m         method, url, fields=fields, headers=headers, **urlopen_kw\n\u001b[32m    145\u001b[39m     )\n",
      "\u001b[36mFile \u001b[39m\u001b[32m~/Nextcloud/Project/Udemy/agents/.venv/lib/python3.12/site-packages/urllib3/_request_methods.py:182\u001b[39m, in \u001b[36mRequestMethods.request_encode_url\u001b[39m\u001b[34m(self, method, url, fields, headers, **urlopen_kw)\u001b[39m\n\u001b[32m    179\u001b[39m \u001b[38;5;28;01mif\u001b[39;00m fields:\n\u001b[32m    180\u001b[39m     url += \u001b[33m\"\u001b[39m\u001b[33m?\u001b[39m\u001b[33m\"\u001b[39m + urlencode(fields)\n\u001b[32m--> \u001b[39m\u001b[32m182\u001b[39m \u001b[38;5;28;01mreturn\u001b[39;00m \u001b[38;5;28;43mself\u001b[39;49m\u001b[43m.\u001b[49m\u001b[43murlopen\u001b[49m\u001b[43m(\u001b[49m\u001b[43mmethod\u001b[49m\u001b[43m,\u001b[49m\u001b[43m \u001b[49m\u001b[43murl\u001b[49m\u001b[43m,\u001b[49m\u001b[43m \u001b[49m\u001b[43m*\u001b[49m\u001b[43m*\u001b[49m\u001b[43mextra_kw\u001b[49m\u001b[43m)\u001b[49m\n",
      "\u001b[36mFile \u001b[39m\u001b[32m~/Nextcloud/Project/Udemy/agents/.venv/lib/python3.12/site-packages/urllib3/poolmanager.py:459\u001b[39m, in \u001b[36mPoolManager.urlopen\u001b[39m\u001b[34m(self, method, url, redirect, **kw)\u001b[39m\n\u001b[32m    457\u001b[39m     response = conn.urlopen(method, url, **kw)\n\u001b[32m    458\u001b[39m \u001b[38;5;28;01melse\u001b[39;00m:\n\u001b[32m--> \u001b[39m\u001b[32m459\u001b[39m     response = \u001b[43mconn\u001b[49m\u001b[43m.\u001b[49m\u001b[43murlopen\u001b[49m\u001b[43m(\u001b[49m\u001b[43mmethod\u001b[49m\u001b[43m,\u001b[49m\u001b[43m \u001b[49m\u001b[43mu\u001b[49m\u001b[43m.\u001b[49m\u001b[43mrequest_uri\u001b[49m\u001b[43m,\u001b[49m\u001b[43m \u001b[49m\u001b[43m*\u001b[49m\u001b[43m*\u001b[49m\u001b[43mkw\u001b[49m\u001b[43m)\u001b[49m\n\u001b[32m    461\u001b[39m redirect_location = redirect \u001b[38;5;129;01mand\u001b[39;00m response.get_redirect_location()\n\u001b[32m    462\u001b[39m \u001b[38;5;28;01mif\u001b[39;00m \u001b[38;5;129;01mnot\u001b[39;00m redirect_location:\n",
      "\u001b[36mFile \u001b[39m\u001b[32m~/Nextcloud/Project/Udemy/agents/.venv/lib/python3.12/site-packages/urllib3/connectionpool.py:787\u001b[39m, in \u001b[36mHTTPConnectionPool.urlopen\u001b[39m\u001b[34m(self, method, url, body, headers, retries, redirect, assert_same_host, timeout, pool_timeout, release_conn, chunked, body_pos, preload_content, decode_content, **response_kw)\u001b[39m\n\u001b[32m    784\u001b[39m response_conn = conn \u001b[38;5;28;01mif\u001b[39;00m \u001b[38;5;129;01mnot\u001b[39;00m release_conn \u001b[38;5;28;01melse\u001b[39;00m \u001b[38;5;28;01mNone\u001b[39;00m\n\u001b[32m    786\u001b[39m \u001b[38;5;66;03m# Make the request on the HTTPConnection object\u001b[39;00m\n\u001b[32m--> \u001b[39m\u001b[32m787\u001b[39m response = \u001b[38;5;28;43mself\u001b[39;49m\u001b[43m.\u001b[49m\u001b[43m_make_request\u001b[49m\u001b[43m(\u001b[49m\n\u001b[32m    788\u001b[39m \u001b[43m    \u001b[49m\u001b[43mconn\u001b[49m\u001b[43m,\u001b[49m\n\u001b[32m    789\u001b[39m \u001b[43m    \u001b[49m\u001b[43mmethod\u001b[49m\u001b[43m,\u001b[49m\n\u001b[32m    790\u001b[39m \u001b[43m    \u001b[49m\u001b[43murl\u001b[49m\u001b[43m,\u001b[49m\n\u001b[32m    791\u001b[39m \u001b[43m    \u001b[49m\u001b[43mtimeout\u001b[49m\u001b[43m=\u001b[49m\u001b[43mtimeout_obj\u001b[49m\u001b[43m,\u001b[49m\n\u001b[32m    792\u001b[39m \u001b[43m    \u001b[49m\u001b[43mbody\u001b[49m\u001b[43m=\u001b[49m\u001b[43mbody\u001b[49m\u001b[43m,\u001b[49m\n\u001b[32m    793\u001b[39m \u001b[43m    \u001b[49m\u001b[43mheaders\u001b[49m\u001b[43m=\u001b[49m\u001b[43mheaders\u001b[49m\u001b[43m,\u001b[49m\n\u001b[32m    794\u001b[39m \u001b[43m    \u001b[49m\u001b[43mchunked\u001b[49m\u001b[43m=\u001b[49m\u001b[43mchunked\u001b[49m\u001b[43m,\u001b[49m\n\u001b[32m    795\u001b[39m \u001b[43m    \u001b[49m\u001b[43mretries\u001b[49m\u001b[43m=\u001b[49m\u001b[43mretries\u001b[49m\u001b[43m,\u001b[49m\n\u001b[32m    796\u001b[39m \u001b[43m    \u001b[49m\u001b[43mresponse_conn\u001b[49m\u001b[43m=\u001b[49m\u001b[43mresponse_conn\u001b[49m\u001b[43m,\u001b[49m\n\u001b[32m    797\u001b[39m \u001b[43m    \u001b[49m\u001b[43mpreload_content\u001b[49m\u001b[43m=\u001b[49m\u001b[43mpreload_content\u001b[49m\u001b[43m,\u001b[49m\n\u001b[32m    798\u001b[39m \u001b[43m    \u001b[49m\u001b[43mdecode_content\u001b[49m\u001b[43m=\u001b[49m\u001b[43mdecode_content\u001b[49m\u001b[43m,\u001b[49m\n\u001b[32m    799\u001b[39m \u001b[43m    \u001b[49m\u001b[43m*\u001b[49m\u001b[43m*\u001b[49m\u001b[43mresponse_kw\u001b[49m\u001b[43m,\u001b[49m\n\u001b[32m    800\u001b[39m \u001b[43m\u001b[49m\u001b[43m)\u001b[49m\n\u001b[32m    802\u001b[39m \u001b[38;5;66;03m# Everything went great!\u001b[39;00m\n\u001b[32m    803\u001b[39m clean_exit = \u001b[38;5;28;01mTrue\u001b[39;00m\n",
      "\u001b[36mFile \u001b[39m\u001b[32m~/Nextcloud/Project/Udemy/agents/.venv/lib/python3.12/site-packages/urllib3/connectionpool.py:464\u001b[39m, in \u001b[36mHTTPConnectionPool._make_request\u001b[39m\u001b[34m(self, conn, method, url, body, headers, retries, timeout, chunked, response_conn, preload_content, decode_content, enforce_content_length)\u001b[39m\n\u001b[32m    461\u001b[39m \u001b[38;5;28;01mtry\u001b[39;00m:\n\u001b[32m    462\u001b[39m     \u001b[38;5;66;03m# Trigger any extra validation we need to do.\u001b[39;00m\n\u001b[32m    463\u001b[39m     \u001b[38;5;28;01mtry\u001b[39;00m:\n\u001b[32m--> \u001b[39m\u001b[32m464\u001b[39m         \u001b[38;5;28;43mself\u001b[39;49m\u001b[43m.\u001b[49m\u001b[43m_validate_conn\u001b[49m\u001b[43m(\u001b[49m\u001b[43mconn\u001b[49m\u001b[43m)\u001b[49m\n\u001b[32m    465\u001b[39m     \u001b[38;5;28;01mexcept\u001b[39;00m (SocketTimeout, BaseSSLError) \u001b[38;5;28;01mas\u001b[39;00m e:\n\u001b[32m    466\u001b[39m         \u001b[38;5;28mself\u001b[39m._raise_timeout(err=e, url=url, timeout_value=conn.timeout)\n",
      "\u001b[36mFile \u001b[39m\u001b[32m~/Nextcloud/Project/Udemy/agents/.venv/lib/python3.12/site-packages/urllib3/connectionpool.py:1093\u001b[39m, in \u001b[36mHTTPSConnectionPool._validate_conn\u001b[39m\u001b[34m(self, conn)\u001b[39m\n\u001b[32m   1091\u001b[39m \u001b[38;5;66;03m# Force connect early to allow us to validate the connection.\u001b[39;00m\n\u001b[32m   1092\u001b[39m \u001b[38;5;28;01mif\u001b[39;00m conn.is_closed:\n\u001b[32m-> \u001b[39m\u001b[32m1093\u001b[39m     \u001b[43mconn\u001b[49m\u001b[43m.\u001b[49m\u001b[43mconnect\u001b[49m\u001b[43m(\u001b[49m\u001b[43m)\u001b[49m\n\u001b[32m   1095\u001b[39m \u001b[38;5;66;03m# TODO revise this, see https://github.com/urllib3/urllib3/issues/2791\u001b[39;00m\n\u001b[32m   1096\u001b[39m \u001b[38;5;28;01mif\u001b[39;00m \u001b[38;5;129;01mnot\u001b[39;00m conn.is_verified \u001b[38;5;129;01mand\u001b[39;00m \u001b[38;5;129;01mnot\u001b[39;00m conn.proxy_is_verified:\n",
      "\u001b[36mFile \u001b[39m\u001b[32m~/Nextcloud/Project/Udemy/agents/.venv/lib/python3.12/site-packages/urllib3/connection.py:753\u001b[39m, in \u001b[36mHTTPSConnection.connect\u001b[39m\u001b[34m(self)\u001b[39m\n\u001b[32m    751\u001b[39m \u001b[38;5;28;01mtry\u001b[39;00m:\n\u001b[32m    752\u001b[39m     sock: socket.socket | ssl.SSLSocket\n\u001b[32m--> \u001b[39m\u001b[32m753\u001b[39m     \u001b[38;5;28mself\u001b[39m.sock = sock = \u001b[38;5;28;43mself\u001b[39;49m\u001b[43m.\u001b[49m\u001b[43m_new_conn\u001b[49m\u001b[43m(\u001b[49m\u001b[43m)\u001b[49m\n\u001b[32m    754\u001b[39m     server_hostname: \u001b[38;5;28mstr\u001b[39m = \u001b[38;5;28mself\u001b[39m.host\n\u001b[32m    755\u001b[39m     tls_in_tls = \u001b[38;5;28;01mFalse\u001b[39;00m\n",
      "\u001b[36mFile \u001b[39m\u001b[32m~/Nextcloud/Project/Udemy/agents/.venv/lib/python3.12/site-packages/urllib3/connection.py:198\u001b[39m, in \u001b[36mHTTPConnection._new_conn\u001b[39m\u001b[34m(self)\u001b[39m\n\u001b[32m    193\u001b[39m \u001b[38;5;250m\u001b[39m\u001b[33;03m\"\"\"Establish a socket connection and set nodelay settings on it.\u001b[39;00m\n\u001b[32m    194\u001b[39m \n\u001b[32m    195\u001b[39m \u001b[33;03m:return: New socket connection.\u001b[39;00m\n\u001b[32m    196\u001b[39m \u001b[33;03m\"\"\"\u001b[39;00m\n\u001b[32m    197\u001b[39m \u001b[38;5;28;01mtry\u001b[39;00m:\n\u001b[32m--> \u001b[39m\u001b[32m198\u001b[39m     sock = \u001b[43mconnection\u001b[49m\u001b[43m.\u001b[49m\u001b[43mcreate_connection\u001b[49m\u001b[43m(\u001b[49m\n\u001b[32m    199\u001b[39m \u001b[43m        \u001b[49m\u001b[43m(\u001b[49m\u001b[38;5;28;43mself\u001b[39;49m\u001b[43m.\u001b[49m\u001b[43m_dns_host\u001b[49m\u001b[43m,\u001b[49m\u001b[43m \u001b[49m\u001b[38;5;28;43mself\u001b[39;49m\u001b[43m.\u001b[49m\u001b[43mport\u001b[49m\u001b[43m)\u001b[49m\u001b[43m,\u001b[49m\n\u001b[32m    200\u001b[39m \u001b[43m        \u001b[49m\u001b[38;5;28;43mself\u001b[39;49m\u001b[43m.\u001b[49m\u001b[43mtimeout\u001b[49m\u001b[43m,\u001b[49m\n\u001b[32m    201\u001b[39m \u001b[43m        \u001b[49m\u001b[43msource_address\u001b[49m\u001b[43m=\u001b[49m\u001b[38;5;28;43mself\u001b[39;49m\u001b[43m.\u001b[49m\u001b[43msource_address\u001b[49m\u001b[43m,\u001b[49m\n\u001b[32m    202\u001b[39m \u001b[43m        \u001b[49m\u001b[43msocket_options\u001b[49m\u001b[43m=\u001b[49m\u001b[38;5;28;43mself\u001b[39;49m\u001b[43m.\u001b[49m\u001b[43msocket_options\u001b[49m\u001b[43m,\u001b[49m\n\u001b[32m    203\u001b[39m \u001b[43m    \u001b[49m\u001b[43m)\u001b[49m\n\u001b[32m    204\u001b[39m \u001b[38;5;28;01mexcept\u001b[39;00m socket.gaierror \u001b[38;5;28;01mas\u001b[39;00m e:\n\u001b[32m    205\u001b[39m     \u001b[38;5;28;01mraise\u001b[39;00m NameResolutionError(\u001b[38;5;28mself\u001b[39m.host, \u001b[38;5;28mself\u001b[39m, e) \u001b[38;5;28;01mfrom\u001b[39;00m\u001b[38;5;250m \u001b[39m\u001b[34;01me\u001b[39;00m\n",
      "\u001b[36mFile \u001b[39m\u001b[32m~/Nextcloud/Project/Udemy/agents/.venv/lib/python3.12/site-packages/urllib3/util/connection.py:73\u001b[39m, in \u001b[36mcreate_connection\u001b[39m\u001b[34m(address, timeout, source_address, socket_options)\u001b[39m\n\u001b[32m     71\u001b[39m \u001b[38;5;28;01mif\u001b[39;00m source_address:\n\u001b[32m     72\u001b[39m     sock.bind(source_address)\n\u001b[32m---> \u001b[39m\u001b[32m73\u001b[39m \u001b[43msock\u001b[49m\u001b[43m.\u001b[49m\u001b[43mconnect\u001b[49m\u001b[43m(\u001b[49m\u001b[43msa\u001b[49m\u001b[43m)\u001b[49m\n\u001b[32m     74\u001b[39m \u001b[38;5;66;03m# Break explicitly a reference cycle\u001b[39;00m\n\u001b[32m     75\u001b[39m err = \u001b[38;5;28;01mNone\u001b[39;00m\n",
      "\u001b[31mKeyboardInterrupt\u001b[39m: "
     ]
    }
   ],
   "source": [
    "# no rate limiting concerns!\n",
    "\n",
    "for i in range(1000):\n",
    "    get_share_price(\"AAPL\")\n",
    "get_share_price(\"AAPL\")"
   ]
  },
  {
   "cell_type": "markdown",
   "metadata": {},
   "source": [
    "### And I've made this into an MCP Server\n",
    "\n",
    "Just as we did with accounts.py; see `market_server.py`"
   ]
  },
  {
   "cell_type": "code",
   "execution_count": 30,
   "metadata": {},
   "outputs": [
    {
     "data": {
      "text/plain": [
       "[Tool(name='lookup_share_price', title=None, description='This tool provides the current price of the given stock symbol.\\n\\n    Args:\\n        symbol: the symbol of the stock\\n    ', inputSchema={'properties': {'symbol': {'title': 'Symbol', 'type': 'string'}}, 'required': ['symbol'], 'title': 'lookup_share_priceArguments', 'type': 'object'}, outputSchema={'properties': {'result': {'title': 'Result', 'type': 'number'}}, 'required': ['result'], 'title': 'lookup_share_priceOutput', 'type': 'object'}, icons=None, annotations=None, meta=None)]"
      ]
     },
     "execution_count": 30,
     "metadata": {},
     "output_type": "execute_result"
    }
   ],
   "source": [
    "params = {\"command\": \"uv\", \"args\": [\"run\", \"market_server.py\"]}\n",
    "async with MCPServerStdio(params=params, client_session_timeout_seconds=60) as server:\n",
    "    mcp_tools = await server.list_tools()\n",
    "mcp_tools"
   ]
  },
  {
   "cell_type": "markdown",
   "metadata": {},
   "source": [
    "### Let's try it out!\n",
    "\n",
    "Hopefully gpt-4o-mini is smart enough to know that the symbol for Apple is AAPL"
   ]
  },
  {
   "cell_type": "code",
   "execution_count": 31,
   "metadata": {},
   "outputs": [
    {
     "data": {
      "text/markdown": [
       "The current share price of Apple (AAPL) is $61.00."
      ],
      "text/plain": [
       "<IPython.core.display.Markdown object>"
      ]
     },
     "metadata": {},
     "output_type": "display_data"
    }
   ],
   "source": [
    "instructions = \"You answer questions about the stock market.\"\n",
    "request = \"What's the share price of Apple?\"\n",
    "model = \"gpt-4.1-mini\"\n",
    "\n",
    "async with MCPServerStdio(params=params, client_session_timeout_seconds=60) as mcp_server:\n",
    "    agent = Agent(name=\"agent\", instructions=instructions, model=model, mcp_servers=[mcp_server])\n",
    "    with trace(\"conversation\"):\n",
    "        result = await Runner.run(agent, request)\n",
    "    display(Markdown(result.final_output))"
   ]
  },
  {
   "cell_type": "markdown",
   "metadata": {},
   "source": [
    "## Polygon.io Part 2: Paid Plan - Totally Optional!\n",
    "\n",
    "If you are interested, you can subscribe to the monthly plan to get more up to date market data, and unlimited API calls.\n",
    "\n",
    "If you do wish to do this, then it also makes sense to use the full MCP server that Polygon.io has released, to take advantage of all their functionality.\n",
    "\n"
   ]
  },
  {
   "cell_type": "code",
   "execution_count": 32,
   "metadata": {},
   "outputs": [
    {
     "data": {
      "text/plain": [
       "[Tool(name='get_aggs', title=None, description='\\n    List aggregate bars for a ticker over a given date range in custom time window sizes.\\n    ', inputSchema={'properties': {'ticker': {'title': 'Ticker', 'type': 'string'}, 'multiplier': {'title': 'Multiplier', 'type': 'integer'}, 'timespan': {'title': 'Timespan', 'type': 'string'}, 'from_': {'anyOf': [{'type': 'string'}, {'type': 'integer'}, {'format': 'date-time', 'type': 'string'}, {'format': 'date', 'type': 'string'}], 'title': 'From'}, 'to': {'anyOf': [{'type': 'string'}, {'type': 'integer'}, {'format': 'date-time', 'type': 'string'}, {'format': 'date', 'type': 'string'}], 'title': 'To'}, 'adjusted': {'anyOf': [{'type': 'boolean'}, {'type': 'null'}], 'default': None, 'title': 'Adjusted'}, 'sort': {'anyOf': [{'type': 'string'}, {'type': 'null'}], 'default': None, 'title': 'Sort'}, 'limit': {'anyOf': [{'type': 'integer'}, {'type': 'null'}], 'default': None, 'title': 'Limit'}, 'params': {'anyOf': [{'additionalProperties': True, 'type': 'object'}, {'type': 'null'}], 'default': None, 'title': 'Params'}}, 'required': ['ticker', 'multiplier', 'timespan', 'from_', 'to'], 'title': 'get_aggsArguments', 'type': 'object'}, outputSchema={'properties': {'result': {'additionalProperties': True, 'title': 'Result', 'type': 'object'}}, 'required': ['result'], 'title': 'get_aggsOutput', 'type': 'object'}, icons=None, annotations=None, meta=None),\n",
       " Tool(name='list_aggs', title=None, description='\\n    Iterate through aggregate bars for a ticker over a given date range.\\n    ', inputSchema={'properties': {'ticker': {'title': 'Ticker', 'type': 'string'}, 'multiplier': {'title': 'Multiplier', 'type': 'integer'}, 'timespan': {'title': 'Timespan', 'type': 'string'}, 'from_': {'anyOf': [{'type': 'string'}, {'type': 'integer'}, {'format': 'date-time', 'type': 'string'}, {'format': 'date', 'type': 'string'}], 'title': 'From'}, 'to': {'anyOf': [{'type': 'string'}, {'type': 'integer'}, {'format': 'date-time', 'type': 'string'}, {'format': 'date', 'type': 'string'}], 'title': 'To'}, 'adjusted': {'anyOf': [{'type': 'boolean'}, {'type': 'null'}], 'default': None, 'title': 'Adjusted'}, 'sort': {'anyOf': [{'type': 'string'}, {'type': 'null'}], 'default': None, 'title': 'Sort'}, 'limit': {'anyOf': [{'type': 'integer'}, {'type': 'null'}], 'default': None, 'title': 'Limit'}, 'params': {'anyOf': [{'additionalProperties': True, 'type': 'object'}, {'type': 'null'}], 'default': None, 'title': 'Params'}}, 'required': ['ticker', 'multiplier', 'timespan', 'from_', 'to'], 'title': 'list_aggsArguments', 'type': 'object'}, outputSchema={'properties': {'result': {'additionalProperties': True, 'title': 'Result', 'type': 'object'}}, 'required': ['result'], 'title': 'list_aggsOutput', 'type': 'object'}, icons=None, annotations=None, meta=None),\n",
       " Tool(name='get_grouped_daily_aggs', title=None, description='\\n    Get grouped daily bars for entire market for a specific date.\\n    ', inputSchema={'properties': {'date': {'title': 'Date', 'type': 'string'}, 'adjusted': {'anyOf': [{'type': 'boolean'}, {'type': 'null'}], 'default': None, 'title': 'Adjusted'}, 'include_otc': {'anyOf': [{'type': 'boolean'}, {'type': 'null'}], 'default': None, 'title': 'Include Otc'}, 'locale': {'anyOf': [{'type': 'string'}, {'type': 'null'}], 'default': None, 'title': 'Locale'}, 'market_type': {'anyOf': [{'type': 'string'}, {'type': 'null'}], 'default': None, 'title': 'Market Type'}, 'params': {'anyOf': [{'additionalProperties': True, 'type': 'object'}, {'type': 'null'}], 'default': None, 'title': 'Params'}}, 'required': ['date'], 'title': 'get_grouped_daily_aggsArguments', 'type': 'object'}, outputSchema={'properties': {'result': {'additionalProperties': True, 'title': 'Result', 'type': 'object'}}, 'required': ['result'], 'title': 'get_grouped_daily_aggsOutput', 'type': 'object'}, icons=None, annotations=None, meta=None),\n",
       " Tool(name='get_daily_open_close_agg', title=None, description='\\n    Get daily open, close, high, and low for a specific ticker and date.\\n    ', inputSchema={'properties': {'ticker': {'title': 'Ticker', 'type': 'string'}, 'date': {'title': 'Date', 'type': 'string'}, 'adjusted': {'anyOf': [{'type': 'boolean'}, {'type': 'null'}], 'default': None, 'title': 'Adjusted'}, 'params': {'anyOf': [{'additionalProperties': True, 'type': 'object'}, {'type': 'null'}], 'default': None, 'title': 'Params'}}, 'required': ['ticker', 'date'], 'title': 'get_daily_open_close_aggArguments', 'type': 'object'}, outputSchema={'properties': {'result': {'additionalProperties': True, 'title': 'Result', 'type': 'object'}}, 'required': ['result'], 'title': 'get_daily_open_close_aggOutput', 'type': 'object'}, icons=None, annotations=None, meta=None),\n",
       " Tool(name='get_previous_close_agg', title=None, description=\"\\n    Get previous day's open, close, high, and low for a specific ticker.\\n    \", inputSchema={'properties': {'ticker': {'title': 'Ticker', 'type': 'string'}, 'adjusted': {'anyOf': [{'type': 'boolean'}, {'type': 'null'}], 'default': None, 'title': 'Adjusted'}, 'params': {'anyOf': [{'additionalProperties': True, 'type': 'object'}, {'type': 'null'}], 'default': None, 'title': 'Params'}}, 'required': ['ticker'], 'title': 'get_previous_close_aggArguments', 'type': 'object'}, outputSchema={'properties': {'result': {'additionalProperties': True, 'title': 'Result', 'type': 'object'}}, 'required': ['result'], 'title': 'get_previous_close_aggOutput', 'type': 'object'}, icons=None, annotations=None, meta=None),\n",
       " Tool(name='list_trades', title=None, description='\\n    Get trades for a ticker symbol.\\n    ', inputSchema={'properties': {'ticker': {'title': 'Ticker', 'type': 'string'}, 'timestamp': {'anyOf': [{'type': 'string'}, {'type': 'integer'}, {'format': 'date-time', 'type': 'string'}, {'format': 'date', 'type': 'string'}, {'type': 'null'}], 'default': None, 'title': 'Timestamp'}, 'timestamp_lt': {'anyOf': [{'type': 'string'}, {'type': 'integer'}, {'format': 'date-time', 'type': 'string'}, {'format': 'date', 'type': 'string'}, {'type': 'null'}], 'default': None, 'title': 'Timestamp Lt'}, 'timestamp_lte': {'anyOf': [{'type': 'string'}, {'type': 'integer'}, {'format': 'date-time', 'type': 'string'}, {'format': 'date', 'type': 'string'}, {'type': 'null'}], 'default': None, 'title': 'Timestamp Lte'}, 'timestamp_gt': {'anyOf': [{'type': 'string'}, {'type': 'integer'}, {'format': 'date-time', 'type': 'string'}, {'format': 'date', 'type': 'string'}, {'type': 'null'}], 'default': None, 'title': 'Timestamp Gt'}, 'timestamp_gte': {'anyOf': [{'type': 'string'}, {'type': 'integer'}, {'format': 'date-time', 'type': 'string'}, {'format': 'date', 'type': 'string'}, {'type': 'null'}], 'default': None, 'title': 'Timestamp Gte'}, 'limit': {'anyOf': [{'type': 'integer'}, {'type': 'null'}], 'default': None, 'title': 'Limit'}, 'sort': {'anyOf': [{'type': 'string'}, {'type': 'null'}], 'default': None, 'title': 'Sort'}, 'order': {'anyOf': [{'type': 'string'}, {'type': 'null'}], 'default': None, 'title': 'Order'}, 'params': {'anyOf': [{'additionalProperties': True, 'type': 'object'}, {'type': 'null'}], 'default': None, 'title': 'Params'}}, 'required': ['ticker'], 'title': 'list_tradesArguments', 'type': 'object'}, outputSchema={'properties': {'result': {'additionalProperties': True, 'title': 'Result', 'type': 'object'}}, 'required': ['result'], 'title': 'list_tradesOutput', 'type': 'object'}, icons=None, annotations=None, meta=None),\n",
       " Tool(name='get_last_trade', title=None, description='\\n    Get the most recent trade for a ticker symbol.\\n    ', inputSchema={'properties': {'ticker': {'title': 'Ticker', 'type': 'string'}, 'params': {'anyOf': [{'additionalProperties': True, 'type': 'object'}, {'type': 'null'}], 'default': None, 'title': 'Params'}}, 'required': ['ticker'], 'title': 'get_last_tradeArguments', 'type': 'object'}, outputSchema={'properties': {'result': {'additionalProperties': True, 'title': 'Result', 'type': 'object'}}, 'required': ['result'], 'title': 'get_last_tradeOutput', 'type': 'object'}, icons=None, annotations=None, meta=None),\n",
       " Tool(name='get_last_crypto_trade', title=None, description='\\n    Get the most recent trade for a crypto pair.\\n    ', inputSchema={'properties': {'from_': {'title': 'From', 'type': 'string'}, 'to': {'title': 'To', 'type': 'string'}, 'params': {'anyOf': [{'additionalProperties': True, 'type': 'object'}, {'type': 'null'}], 'default': None, 'title': 'Params'}}, 'required': ['from_', 'to'], 'title': 'get_last_crypto_tradeArguments', 'type': 'object'}, outputSchema={'properties': {'result': {'additionalProperties': True, 'title': 'Result', 'type': 'object'}}, 'required': ['result'], 'title': 'get_last_crypto_tradeOutput', 'type': 'object'}, icons=None, annotations=None, meta=None),\n",
       " Tool(name='list_quotes', title=None, description='\\n    Get quotes for a ticker symbol.\\n    ', inputSchema={'properties': {'ticker': {'title': 'Ticker', 'type': 'string'}, 'timestamp': {'anyOf': [{'type': 'string'}, {'type': 'integer'}, {'format': 'date-time', 'type': 'string'}, {'format': 'date', 'type': 'string'}, {'type': 'null'}], 'default': None, 'title': 'Timestamp'}, 'timestamp_lt': {'anyOf': [{'type': 'string'}, {'type': 'integer'}, {'format': 'date-time', 'type': 'string'}, {'format': 'date', 'type': 'string'}, {'type': 'null'}], 'default': None, 'title': 'Timestamp Lt'}, 'timestamp_lte': {'anyOf': [{'type': 'string'}, {'type': 'integer'}, {'format': 'date-time', 'type': 'string'}, {'format': 'date', 'type': 'string'}, {'type': 'null'}], 'default': None, 'title': 'Timestamp Lte'}, 'timestamp_gt': {'anyOf': [{'type': 'string'}, {'type': 'integer'}, {'format': 'date-time', 'type': 'string'}, {'format': 'date', 'type': 'string'}, {'type': 'null'}], 'default': None, 'title': 'Timestamp Gt'}, 'timestamp_gte': {'anyOf': [{'type': 'string'}, {'type': 'integer'}, {'format': 'date-time', 'type': 'string'}, {'format': 'date', 'type': 'string'}, {'type': 'null'}], 'default': None, 'title': 'Timestamp Gte'}, 'limit': {'anyOf': [{'type': 'integer'}, {'type': 'null'}], 'default': None, 'title': 'Limit'}, 'sort': {'anyOf': [{'type': 'string'}, {'type': 'null'}], 'default': None, 'title': 'Sort'}, 'order': {'anyOf': [{'type': 'string'}, {'type': 'null'}], 'default': None, 'title': 'Order'}, 'params': {'anyOf': [{'additionalProperties': True, 'type': 'object'}, {'type': 'null'}], 'default': None, 'title': 'Params'}}, 'required': ['ticker'], 'title': 'list_quotesArguments', 'type': 'object'}, outputSchema={'properties': {'result': {'additionalProperties': True, 'title': 'Result', 'type': 'object'}}, 'required': ['result'], 'title': 'list_quotesOutput', 'type': 'object'}, icons=None, annotations=None, meta=None),\n",
       " Tool(name='get_last_quote', title=None, description='\\n    Get the most recent quote for a ticker symbol.\\n    ', inputSchema={'properties': {'ticker': {'title': 'Ticker', 'type': 'string'}, 'params': {'anyOf': [{'additionalProperties': True, 'type': 'object'}, {'type': 'null'}], 'default': None, 'title': 'Params'}}, 'required': ['ticker'], 'title': 'get_last_quoteArguments', 'type': 'object'}, outputSchema={'properties': {'result': {'additionalProperties': True, 'title': 'Result', 'type': 'object'}}, 'required': ['result'], 'title': 'get_last_quoteOutput', 'type': 'object'}, icons=None, annotations=None, meta=None),\n",
       " Tool(name='get_last_forex_quote', title=None, description='\\n    Get the most recent forex quote.\\n    ', inputSchema={'properties': {'from_': {'title': 'From', 'type': 'string'}, 'to': {'title': 'To', 'type': 'string'}, 'params': {'anyOf': [{'additionalProperties': True, 'type': 'object'}, {'type': 'null'}], 'default': None, 'title': 'Params'}}, 'required': ['from_', 'to'], 'title': 'get_last_forex_quoteArguments', 'type': 'object'}, outputSchema={'properties': {'result': {'additionalProperties': True, 'title': 'Result', 'type': 'object'}}, 'required': ['result'], 'title': 'get_last_forex_quoteOutput', 'type': 'object'}, icons=None, annotations=None, meta=None),\n",
       " Tool(name='get_real_time_currency_conversion', title=None, description='\\n    Get real-time currency conversion.\\n    ', inputSchema={'properties': {'from_': {'title': 'From', 'type': 'string'}, 'to': {'title': 'To', 'type': 'string'}, 'amount': {'anyOf': [{'type': 'number'}, {'type': 'null'}], 'default': None, 'title': 'Amount'}, 'precision': {'anyOf': [{'type': 'integer'}, {'type': 'null'}], 'default': None, 'title': 'Precision'}, 'params': {'anyOf': [{'additionalProperties': True, 'type': 'object'}, {'type': 'null'}], 'default': None, 'title': 'Params'}}, 'required': ['from_', 'to'], 'title': 'get_real_time_currency_conversionArguments', 'type': 'object'}, outputSchema={'properties': {'result': {'additionalProperties': True, 'title': 'Result', 'type': 'object'}}, 'required': ['result'], 'title': 'get_real_time_currency_conversionOutput', 'type': 'object'}, icons=None, annotations=None, meta=None),\n",
       " Tool(name='list_universal_snapshots', title=None, description='\\n    Get universal snapshots for multiple assets of a specific type.\\n    ', inputSchema={'properties': {'type': {'title': 'Type', 'type': 'string'}, 'ticker_any_of': {'anyOf': [{'items': {'type': 'string'}, 'type': 'array'}, {'type': 'null'}], 'default': None, 'title': 'Ticker Any Of'}, 'order': {'anyOf': [{'type': 'string'}, {'type': 'null'}], 'default': None, 'title': 'Order'}, 'limit': {'anyOf': [{'type': 'integer'}, {'type': 'null'}], 'default': None, 'title': 'Limit'}, 'sort': {'anyOf': [{'type': 'string'}, {'type': 'null'}], 'default': None, 'title': 'Sort'}, 'params': {'anyOf': [{'additionalProperties': True, 'type': 'object'}, {'type': 'null'}], 'default': None, 'title': 'Params'}}, 'required': ['type'], 'title': 'list_universal_snapshotsArguments', 'type': 'object'}, outputSchema={'properties': {'result': {'additionalProperties': True, 'title': 'Result', 'type': 'object'}}, 'required': ['result'], 'title': 'list_universal_snapshotsOutput', 'type': 'object'}, icons=None, annotations=None, meta=None),\n",
       " Tool(name='get_snapshot_all', title=None, description='\\n    Get a snapshot of all tickers in a market.\\n    ', inputSchema={'properties': {'market_type': {'title': 'Market Type', 'type': 'string'}, 'tickers': {'anyOf': [{'items': {'type': 'string'}, 'type': 'array'}, {'type': 'null'}], 'default': None, 'title': 'Tickers'}, 'include_otc': {'anyOf': [{'type': 'boolean'}, {'type': 'null'}], 'default': None, 'title': 'Include Otc'}, 'params': {'anyOf': [{'additionalProperties': True, 'type': 'object'}, {'type': 'null'}], 'default': None, 'title': 'Params'}}, 'required': ['market_type'], 'title': 'get_snapshot_allArguments', 'type': 'object'}, outputSchema={'properties': {'result': {'additionalProperties': True, 'title': 'Result', 'type': 'object'}}, 'required': ['result'], 'title': 'get_snapshot_allOutput', 'type': 'object'}, icons=None, annotations=None, meta=None),\n",
       " Tool(name='get_snapshot_direction', title=None, description='\\n    Get gainers or losers for a market.\\n    ', inputSchema={'properties': {'market_type': {'title': 'Market Type', 'type': 'string'}, 'direction': {'title': 'Direction', 'type': 'string'}, 'include_otc': {'anyOf': [{'type': 'boolean'}, {'type': 'null'}], 'default': None, 'title': 'Include Otc'}, 'params': {'anyOf': [{'additionalProperties': True, 'type': 'object'}, {'type': 'null'}], 'default': None, 'title': 'Params'}}, 'required': ['market_type', 'direction'], 'title': 'get_snapshot_directionArguments', 'type': 'object'}, outputSchema={'properties': {'result': {'additionalProperties': True, 'title': 'Result', 'type': 'object'}}, 'required': ['result'], 'title': 'get_snapshot_directionOutput', 'type': 'object'}, icons=None, annotations=None, meta=None),\n",
       " Tool(name='get_snapshot_ticker', title=None, description='\\n    Get snapshot for a specific ticker.\\n    ', inputSchema={'properties': {'market_type': {'title': 'Market Type', 'type': 'string'}, 'ticker': {'title': 'Ticker', 'type': 'string'}, 'params': {'anyOf': [{'additionalProperties': True, 'type': 'object'}, {'type': 'null'}], 'default': None, 'title': 'Params'}}, 'required': ['market_type', 'ticker'], 'title': 'get_snapshot_tickerArguments', 'type': 'object'}, outputSchema={'properties': {'result': {'additionalProperties': True, 'title': 'Result', 'type': 'object'}}, 'required': ['result'], 'title': 'get_snapshot_tickerOutput', 'type': 'object'}, icons=None, annotations=None, meta=None),\n",
       " Tool(name='get_snapshot_option', title=None, description='\\n    Get snapshot for a specific option contract.\\n    ', inputSchema={'properties': {'underlying_asset': {'title': 'Underlying Asset', 'type': 'string'}, 'option_contract': {'title': 'Option Contract', 'type': 'string'}, 'params': {'anyOf': [{'additionalProperties': True, 'type': 'object'}, {'type': 'null'}], 'default': None, 'title': 'Params'}}, 'required': ['underlying_asset', 'option_contract'], 'title': 'get_snapshot_optionArguments', 'type': 'object'}, outputSchema={'properties': {'result': {'additionalProperties': True, 'title': 'Result', 'type': 'object'}}, 'required': ['result'], 'title': 'get_snapshot_optionOutput', 'type': 'object'}, icons=None, annotations=None, meta=None),\n",
       " Tool(name='get_snapshot_crypto_book', title=None, description=\"\\n    Get snapshot for a crypto ticker's order book.\\n    \", inputSchema={'properties': {'ticker': {'title': 'Ticker', 'type': 'string'}, 'params': {'anyOf': [{'additionalProperties': True, 'type': 'object'}, {'type': 'null'}], 'default': None, 'title': 'Params'}}, 'required': ['ticker'], 'title': 'get_snapshot_crypto_bookArguments', 'type': 'object'}, outputSchema={'properties': {'result': {'additionalProperties': True, 'title': 'Result', 'type': 'object'}}, 'required': ['result'], 'title': 'get_snapshot_crypto_bookOutput', 'type': 'object'}, icons=None, annotations=None, meta=None),\n",
       " Tool(name='get_market_holidays', title=None, description='\\n    Get upcoming market holidays and their open/close times.\\n    ', inputSchema={'properties': {'params': {'anyOf': [{'additionalProperties': True, 'type': 'object'}, {'type': 'null'}], 'default': None, 'title': 'Params'}}, 'title': 'get_market_holidaysArguments', 'type': 'object'}, outputSchema={'properties': {'result': {'additionalProperties': True, 'title': 'Result', 'type': 'object'}}, 'required': ['result'], 'title': 'get_market_holidaysOutput', 'type': 'object'}, icons=None, annotations=None, meta=None),\n",
       " Tool(name='get_market_status', title=None, description='\\n    Get current trading status of exchanges and financial markets.\\n    ', inputSchema={'properties': {'params': {'anyOf': [{'additionalProperties': True, 'type': 'object'}, {'type': 'null'}], 'default': None, 'title': 'Params'}}, 'title': 'get_market_statusArguments', 'type': 'object'}, outputSchema={'properties': {'result': {'additionalProperties': True, 'title': 'Result', 'type': 'object'}}, 'required': ['result'], 'title': 'get_market_statusOutput', 'type': 'object'}, icons=None, annotations=None, meta=None),\n",
       " Tool(name='list_tickers', title=None, description='\\n    Query supported ticker symbols across stocks, indices, forex, and crypto.\\n    ', inputSchema={'properties': {'ticker': {'anyOf': [{'type': 'string'}, {'type': 'null'}], 'default': None, 'title': 'Ticker'}, 'type': {'anyOf': [{'type': 'string'}, {'type': 'null'}], 'default': None, 'title': 'Type'}, 'market': {'anyOf': [{'type': 'string'}, {'type': 'null'}], 'default': None, 'title': 'Market'}, 'exchange': {'anyOf': [{'type': 'string'}, {'type': 'null'}], 'default': None, 'title': 'Exchange'}, 'cusip': {'anyOf': [{'type': 'string'}, {'type': 'null'}], 'default': None, 'title': 'Cusip'}, 'cik': {'anyOf': [{'type': 'string'}, {'type': 'null'}], 'default': None, 'title': 'Cik'}, 'date': {'anyOf': [{'type': 'string'}, {'format': 'date-time', 'type': 'string'}, {'format': 'date', 'type': 'string'}, {'type': 'null'}], 'default': None, 'title': 'Date'}, 'search': {'anyOf': [{'type': 'string'}, {'type': 'null'}], 'default': None, 'title': 'Search'}, 'active': {'anyOf': [{'type': 'boolean'}, {'type': 'null'}], 'default': None, 'title': 'Active'}, 'sort': {'anyOf': [{'type': 'string'}, {'type': 'null'}], 'default': None, 'title': 'Sort'}, 'order': {'anyOf': [{'type': 'string'}, {'type': 'null'}], 'default': None, 'title': 'Order'}, 'limit': {'anyOf': [{'type': 'integer'}, {'type': 'null'}], 'default': None, 'title': 'Limit'}, 'params': {'anyOf': [{'additionalProperties': True, 'type': 'object'}, {'type': 'null'}], 'default': None, 'title': 'Params'}}, 'title': 'list_tickersArguments', 'type': 'object'}, outputSchema={'properties': {'result': {'additionalProperties': True, 'title': 'Result', 'type': 'object'}}, 'required': ['result'], 'title': 'list_tickersOutput', 'type': 'object'}, icons=None, annotations=None, meta=None),\n",
       " Tool(name='get_ticker_details', title=None, description='\\n    Get detailed information about a specific ticker.\\n    ', inputSchema={'properties': {'ticker': {'title': 'Ticker', 'type': 'string'}, 'date': {'anyOf': [{'type': 'string'}, {'format': 'date-time', 'type': 'string'}, {'format': 'date', 'type': 'string'}, {'type': 'null'}], 'default': None, 'title': 'Date'}, 'params': {'anyOf': [{'additionalProperties': True, 'type': 'object'}, {'type': 'null'}], 'default': None, 'title': 'Params'}}, 'required': ['ticker'], 'title': 'get_ticker_detailsArguments', 'type': 'object'}, outputSchema={'properties': {'result': {'additionalProperties': True, 'title': 'Result', 'type': 'object'}}, 'required': ['result'], 'title': 'get_ticker_detailsOutput', 'type': 'object'}, icons=None, annotations=None, meta=None),\n",
       " Tool(name='list_ticker_news', title=None, description='\\n    Get recent news articles for a stock ticker.\\n    ', inputSchema={'properties': {'ticker': {'anyOf': [{'type': 'string'}, {'type': 'null'}], 'default': None, 'title': 'Ticker'}, 'published_utc': {'anyOf': [{'type': 'string'}, {'format': 'date-time', 'type': 'string'}, {'format': 'date', 'type': 'string'}, {'type': 'null'}], 'default': None, 'title': 'Published Utc'}, 'limit': {'anyOf': [{'type': 'integer'}, {'type': 'null'}], 'default': None, 'title': 'Limit'}, 'sort': {'anyOf': [{'type': 'string'}, {'type': 'null'}], 'default': None, 'title': 'Sort'}, 'order': {'anyOf': [{'type': 'string'}, {'type': 'null'}], 'default': None, 'title': 'Order'}, 'params': {'anyOf': [{'additionalProperties': True, 'type': 'object'}, {'type': 'null'}], 'default': None, 'title': 'Params'}}, 'title': 'list_ticker_newsArguments', 'type': 'object'}, outputSchema={'properties': {'result': {'additionalProperties': True, 'title': 'Result', 'type': 'object'}}, 'required': ['result'], 'title': 'list_ticker_newsOutput', 'type': 'object'}, icons=None, annotations=None, meta=None),\n",
       " Tool(name='get_ticker_types', title=None, description='\\n    List all ticker types supported by Polygon.io.\\n    ', inputSchema={'properties': {'asset_class': {'anyOf': [{'type': 'string'}, {'type': 'null'}], 'default': None, 'title': 'Asset Class'}, 'locale': {'anyOf': [{'type': 'string'}, {'type': 'null'}], 'default': None, 'title': 'Locale'}, 'params': {'anyOf': [{'additionalProperties': True, 'type': 'object'}, {'type': 'null'}], 'default': None, 'title': 'Params'}}, 'title': 'get_ticker_typesArguments', 'type': 'object'}, outputSchema={'properties': {'result': {'additionalProperties': True, 'title': 'Result', 'type': 'object'}}, 'required': ['result'], 'title': 'get_ticker_typesOutput', 'type': 'object'}, icons=None, annotations=None, meta=None),\n",
       " Tool(name='list_splits', title=None, description='\\n    Get historical stock splits.\\n    ', inputSchema={'properties': {'ticker': {'anyOf': [{'type': 'string'}, {'type': 'null'}], 'default': None, 'title': 'Ticker'}, 'execution_date': {'anyOf': [{'type': 'string'}, {'format': 'date-time', 'type': 'string'}, {'format': 'date', 'type': 'string'}, {'type': 'null'}], 'default': None, 'title': 'Execution Date'}, 'reverse_split': {'anyOf': [{'type': 'boolean'}, {'type': 'null'}], 'default': None, 'title': 'Reverse Split'}, 'limit': {'anyOf': [{'type': 'integer'}, {'type': 'null'}], 'default': None, 'title': 'Limit'}, 'params': {'anyOf': [{'additionalProperties': True, 'type': 'object'}, {'type': 'null'}], 'default': None, 'title': 'Params'}}, 'title': 'list_splitsArguments', 'type': 'object'}, outputSchema={'properties': {'result': {'additionalProperties': True, 'title': 'Result', 'type': 'object'}}, 'required': ['result'], 'title': 'list_splitsOutput', 'type': 'object'}, icons=None, annotations=None, meta=None),\n",
       " Tool(name='list_dividends', title=None, description='\\n    Get historical cash dividends.\\n    ', inputSchema={'properties': {'ticker': {'anyOf': [{'type': 'string'}, {'type': 'null'}], 'default': None, 'title': 'Ticker'}, 'ex_dividend_date': {'anyOf': [{'type': 'string'}, {'format': 'date-time', 'type': 'string'}, {'format': 'date', 'type': 'string'}, {'type': 'null'}], 'default': None, 'title': 'Ex Dividend Date'}, 'frequency': {'anyOf': [{'type': 'integer'}, {'type': 'null'}], 'default': None, 'title': 'Frequency'}, 'dividend_type': {'anyOf': [{'type': 'string'}, {'type': 'null'}], 'default': None, 'title': 'Dividend Type'}, 'limit': {'anyOf': [{'type': 'integer'}, {'type': 'null'}], 'default': None, 'title': 'Limit'}, 'params': {'anyOf': [{'additionalProperties': True, 'type': 'object'}, {'type': 'null'}], 'default': None, 'title': 'Params'}}, 'title': 'list_dividendsArguments', 'type': 'object'}, outputSchema={'properties': {'result': {'additionalProperties': True, 'title': 'Result', 'type': 'object'}}, 'required': ['result'], 'title': 'list_dividendsOutput', 'type': 'object'}, icons=None, annotations=None, meta=None),\n",
       " Tool(name='list_conditions', title=None, description='\\n    List conditions used by Polygon.io.\\n    ', inputSchema={'properties': {'asset_class': {'anyOf': [{'type': 'string'}, {'type': 'null'}], 'default': None, 'title': 'Asset Class'}, 'data_type': {'anyOf': [{'type': 'string'}, {'type': 'null'}], 'default': None, 'title': 'Data Type'}, 'id': {'anyOf': [{'type': 'integer'}, {'type': 'null'}], 'default': None, 'title': 'Id'}, 'sip': {'anyOf': [{'type': 'string'}, {'type': 'null'}], 'default': None, 'title': 'Sip'}, 'params': {'anyOf': [{'additionalProperties': True, 'type': 'object'}, {'type': 'null'}], 'default': None, 'title': 'Params'}}, 'title': 'list_conditionsArguments', 'type': 'object'}, outputSchema={'properties': {'result': {'additionalProperties': True, 'title': 'Result', 'type': 'object'}}, 'required': ['result'], 'title': 'list_conditionsOutput', 'type': 'object'}, icons=None, annotations=None, meta=None),\n",
       " Tool(name='get_exchanges', title=None, description='\\n    List exchanges known by Polygon.io.\\n    ', inputSchema={'properties': {'asset_class': {'anyOf': [{'type': 'string'}, {'type': 'null'}], 'default': None, 'title': 'Asset Class'}, 'locale': {'anyOf': [{'type': 'string'}, {'type': 'null'}], 'default': None, 'title': 'Locale'}, 'params': {'anyOf': [{'additionalProperties': True, 'type': 'object'}, {'type': 'null'}], 'default': None, 'title': 'Params'}}, 'title': 'get_exchangesArguments', 'type': 'object'}, outputSchema={'properties': {'result': {'additionalProperties': True, 'title': 'Result', 'type': 'object'}}, 'required': ['result'], 'title': 'get_exchangesOutput', 'type': 'object'}, icons=None, annotations=None, meta=None),\n",
       " Tool(name='list_stock_financials', title=None, description='\\n    Get fundamental financial data for companies.\\n    ', inputSchema={'properties': {'ticker': {'anyOf': [{'type': 'string'}, {'type': 'null'}], 'default': None, 'title': 'Ticker'}, 'cik': {'anyOf': [{'type': 'string'}, {'type': 'null'}], 'default': None, 'title': 'Cik'}, 'company_name': {'anyOf': [{'type': 'string'}, {'type': 'null'}], 'default': None, 'title': 'Company Name'}, 'company_name_search': {'anyOf': [{'type': 'string'}, {'type': 'null'}], 'default': None, 'title': 'Company Name Search'}, 'sic': {'anyOf': [{'type': 'string'}, {'type': 'null'}], 'default': None, 'title': 'Sic'}, 'filing_date': {'anyOf': [{'type': 'string'}, {'format': 'date-time', 'type': 'string'}, {'format': 'date', 'type': 'string'}, {'type': 'null'}], 'default': None, 'title': 'Filing Date'}, 'filing_date_lt': {'anyOf': [{'type': 'string'}, {'format': 'date-time', 'type': 'string'}, {'format': 'date', 'type': 'string'}, {'type': 'null'}], 'default': None, 'title': 'Filing Date Lt'}, 'filing_date_lte': {'anyOf': [{'type': 'string'}, {'format': 'date-time', 'type': 'string'}, {'format': 'date', 'type': 'string'}, {'type': 'null'}], 'default': None, 'title': 'Filing Date Lte'}, 'filing_date_gt': {'anyOf': [{'type': 'string'}, {'format': 'date-time', 'type': 'string'}, {'format': 'date', 'type': 'string'}, {'type': 'null'}], 'default': None, 'title': 'Filing Date Gt'}, 'filing_date_gte': {'anyOf': [{'type': 'string'}, {'format': 'date-time', 'type': 'string'}, {'format': 'date', 'type': 'string'}, {'type': 'null'}], 'default': None, 'title': 'Filing Date Gte'}, 'period_of_report_date': {'anyOf': [{'type': 'string'}, {'format': 'date-time', 'type': 'string'}, {'format': 'date', 'type': 'string'}, {'type': 'null'}], 'default': None, 'title': 'Period Of Report Date'}, 'period_of_report_date_lt': {'anyOf': [{'type': 'string'}, {'format': 'date-time', 'type': 'string'}, {'format': 'date', 'type': 'string'}, {'type': 'null'}], 'default': None, 'title': 'Period Of Report Date Lt'}, 'period_of_report_date_lte': {'anyOf': [{'type': 'string'}, {'format': 'date-time', 'type': 'string'}, {'format': 'date', 'type': 'string'}, {'type': 'null'}], 'default': None, 'title': 'Period Of Report Date Lte'}, 'period_of_report_date_gt': {'anyOf': [{'type': 'string'}, {'format': 'date-time', 'type': 'string'}, {'format': 'date', 'type': 'string'}, {'type': 'null'}], 'default': None, 'title': 'Period Of Report Date Gt'}, 'period_of_report_date_gte': {'anyOf': [{'type': 'string'}, {'format': 'date-time', 'type': 'string'}, {'format': 'date', 'type': 'string'}, {'type': 'null'}], 'default': None, 'title': 'Period Of Report Date Gte'}, 'timeframe': {'anyOf': [{'type': 'string'}, {'type': 'null'}], 'default': None, 'title': 'Timeframe'}, 'include_sources': {'anyOf': [{'type': 'boolean'}, {'type': 'null'}], 'default': None, 'title': 'Include Sources'}, 'limit': {'anyOf': [{'type': 'integer'}, {'type': 'null'}], 'default': None, 'title': 'Limit'}, 'sort': {'anyOf': [{'type': 'string'}, {'type': 'null'}], 'default': None, 'title': 'Sort'}, 'order': {'anyOf': [{'type': 'string'}, {'type': 'null'}], 'default': None, 'title': 'Order'}, 'params': {'anyOf': [{'additionalProperties': True, 'type': 'object'}, {'type': 'null'}], 'default': None, 'title': 'Params'}}, 'title': 'list_stock_financialsArguments', 'type': 'object'}, outputSchema={'properties': {'result': {'additionalProperties': True, 'title': 'Result', 'type': 'object'}}, 'required': ['result'], 'title': 'list_stock_financialsOutput', 'type': 'object'}, icons=None, annotations=None, meta=None)]"
      ]
     },
     "execution_count": 32,
     "metadata": {},
     "output_type": "execute_result"
    }
   ],
   "source": [
    "\n",
    "params = {\"command\": \"uvx\",\n",
    "          \"args\": [\"--from\", \"git+https://github.com/polygon-io/mcp_polygon@v0.1.0\", \"mcp_polygon\"],\n",
    "          \"env\": {\"POLYGON_API_KEY\": polygon_api_key}\n",
    "          }\n",
    "async with MCPServerStdio(params=params, client_session_timeout_seconds=60) as server:\n",
    "    mcp_tools = await server.list_tools()\n",
    "mcp_tools\n"
   ]
  },
  {
   "cell_type": "markdown",
   "metadata": {},
   "source": [
    "### Wow that's a lot of tools!\n",
    "\n",
    "Let's try them out - hopefully the sheer number of tools doesn't overwhelm gpt-4o-mini!\n",
    "\n",
    "With the $29 monthly plan, we don't have access to some of the APIs, so I've needed to specify which APIs can be called.\n",
    "\n",
    "If you've splashed out on a bigger plan, feel free to remove my extra constraint.."
   ]
  },
  {
   "cell_type": "code",
   "execution_count": null,
   "metadata": {},
   "outputs": [],
   "source": [
    "instructions = \"You answer questions about the stock market.\"\n",
    "request = \"What's the share price of Apple? Use your get_snapshot_ticker tool to get the latest price.\"\n",
    "model = \"gpt-4.1-mini\"\n",
    "\n",
    "async with MCPServerStdio(params=params, client_session_timeout_seconds=60) as mcp_server:\n",
    "    agent = Agent(name=\"agent\", instructions=instructions, model=model, mcp_servers=[mcp_server])\n",
    "    with trace(\"conversation\"):\n",
    "        result = await Runner.run(agent, request)\n",
    "    display(Markdown(result.final_output))"
   ]
  },
  {
   "cell_type": "markdown",
   "metadata": {},
   "source": [
    "## Setting up your .env file\n",
    "\n",
    "If you do decide to have a paid plan, please add this to your .env file to indicate:\n",
    "\n",
    "`POLYGON_PLAN=paid`\n",
    "\n",
    "And if you decide to go all the way for the realtime API, then please do:\n",
    "\n",
    "`POLYGON_PLAN=realtime`"
   ]
  },
  {
   "cell_type": "code",
   "execution_count": null,
   "metadata": {},
   "outputs": [],
   "source": [
    "load_dotenv(override=True)\n",
    "\n",
    "polygon_plan = os.getenv(\"POLYGON_PLAN\")\n",
    "is_paid_polygon = polygon_plan == \"paid\"\n",
    "is_realtime_polygon = polygon_plan == \"realtime\"\n",
    "\n",
    "if is_paid_polygon:\n",
    "    print(\"You've chosen to subscribe to the paid Polygon plan, so the code will look at prices on a 15 min delay\")\n",
    "elif is_realtime_polygon:\n",
    "    print(\"Wowzer - you've chosen to subscribe to the realtime Polygon plan, so the code will look at realtime prices\")\n",
    "else:\n",
    "    print(\"According to your .env file, you've chosen to subscribe to the free Polygon plan, so the code will look at EOD prices\")"
   ]
  },
  {
   "cell_type": "markdown",
   "metadata": {},
   "source": [
    "## And that's it for today!\n",
    "\n",
    "I've removed the part of this lab that uses the \"Financial Datasets\" mcp server, because it's inferior - more expensive with fewer APIs.\n",
    "\n",
    "And this way we get to use the same provider for Free and Paid APIs.\n",
    "\n",
    "But if you want to see the code, just look in the git history for a prior version."
   ]
  },
  {
   "cell_type": "markdown",
   "metadata": {},
   "source": [
    "<table style=\"margin: 0; text-align: left; width:100%\">\n",
    "    <tr>\n",
    "        <td style=\"width: 150px; height: 150px; vertical-align: middle;\">\n",
    "            <img src=\"../assets/exercise.png\" width=\"150\" height=\"150\" style=\"display: block;\" />\n",
    "        </td>\n",
    "        <td>\n",
    "            <h2 style=\"color:#ff7800;\">Exercises</h2>\n",
    "            <span style=\"color:#ff7800;\">Explore MCP server marketplaces and integrate your own, using all 3 approaches.\n",
    "            </span>\n",
    "        </td>\n",
    "    </tr>\n",
    "</table>"
   ]
  }
 ],
 "metadata": {
  "kernelspec": {
   "display_name": "agents",
   "language": "python",
   "name": "python3"
  },
  "language_info": {
   "codemirror_mode": {
    "name": "ipython",
    "version": 3
   },
   "file_extension": ".py",
   "mimetype": "text/x-python",
   "name": "python",
   "nbconvert_exporter": "python",
   "pygments_lexer": "ipython3",
   "version": "3.12.11"
  }
 },
 "nbformat": 4,
 "nbformat_minor": 2
}
